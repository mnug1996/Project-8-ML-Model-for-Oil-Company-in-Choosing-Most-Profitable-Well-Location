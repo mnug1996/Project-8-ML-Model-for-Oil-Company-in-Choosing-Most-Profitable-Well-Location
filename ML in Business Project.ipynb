{
 "cells": [
  {
   "cell_type": "markdown",
   "metadata": {},
   "source": [
    "# OilyGiant Machine Learning Analysis\n",
    "\n",
    "**The objective of this is analysis is to create a model that will help OilyGiant pick the region with the highest profit margin. Potential profit and risks will be analyzed using the Bootstrapping technique. There will be 5 main steps followed in order to achieve the objective:**\n",
    "\n",
    "1) Download and prepare the data. Explain the procedure\n",
    "\n",
    "2) Train and test the model for each region\n",
    "\n",
    "3) Prepare for profit calculation\n",
    "\n",
    "4) Write a function to calculate profit from a set of selected oil wells and model predictions\n",
    "\n",
    "5) Calculate risks and profit for each region\n",
    "\n",
    "**Conditions:**\n",
    "\n",
    "a) **Only linear regression** is suitable for model training (the rest are not sufficiently predictable).\n",
    "\n",
    "b) When exploring the region, a study of 500 points is carried with picking the best 200 points for the profit calculation.\n",
    "\n",
    "c) The budget for development of 200 oil wells is 100 USD million.\n",
    "\n",
    "d) One barrel of raw materials brings 4.5 USD of revenue The revenue from one unit of product is 4,500 dollars (volume of reserves is in thousand barrels).\n",
    "\n",
    "e) After the risk evaluation, keep only the regions with the risk of losses lower than 2.5%. From the ones that fit the criteria, the region with the highest average profit should be selected."
   ]
  },
  {
   "cell_type": "code",
   "execution_count": 1,
   "metadata": {},
   "outputs": [
    {
     "name": "stdout",
     "output_type": "stream",
     "text": [
      "Defaulting to user installation because normal site-packages is not writeable\n",
      "Requirement already up-to-date: seaborn in /home/jovyan/.local/lib/python3.7/site-packages (0.11.2)\n",
      "Requirement already satisfied, skipping upgrade: pandas>=0.23 in /opt/conda/lib/python3.7/site-packages (from seaborn) (0.25.1)\n",
      "Requirement already satisfied, skipping upgrade: numpy>=1.15 in /opt/conda/lib/python3.7/site-packages (from seaborn) (1.19.5)\n",
      "Requirement already satisfied, skipping upgrade: matplotlib>=2.2 in /opt/conda/lib/python3.7/site-packages (from seaborn) (3.1.0)\n",
      "Requirement already satisfied, skipping upgrade: scipy>=1.0 in /opt/conda/lib/python3.7/site-packages (from seaborn) (1.4.1)\n",
      "Requirement already satisfied, skipping upgrade: pytz>=2017.2 in /opt/conda/lib/python3.7/site-packages (from pandas>=0.23->seaborn) (2021.1)\n",
      "Requirement already satisfied, skipping upgrade: python-dateutil>=2.6.1 in /opt/conda/lib/python3.7/site-packages (from pandas>=0.23->seaborn) (2.8.1)\n",
      "Requirement already satisfied, skipping upgrade: cycler>=0.10 in /opt/conda/lib/python3.7/site-packages (from matplotlib>=2.2->seaborn) (0.10.0)\n",
      "Requirement already satisfied, skipping upgrade: kiwisolver>=1.0.1 in /opt/conda/lib/python3.7/site-packages (from matplotlib>=2.2->seaborn) (1.3.1)\n",
      "Requirement already satisfied, skipping upgrade: pyparsing!=2.0.4,!=2.1.2,!=2.1.6,>=2.0.1 in /opt/conda/lib/python3.7/site-packages (from matplotlib>=2.2->seaborn) (2.4.7)\n",
      "Requirement already satisfied, skipping upgrade: six>=1.5 in /opt/conda/lib/python3.7/site-packages (from python-dateutil>=2.6.1->pandas>=0.23->seaborn) (1.15.0)\n",
      "Note: you may need to restart the kernel to use updated packages.\n"
     ]
    }
   ],
   "source": [
    "pip install -U seaborn"
   ]
  },
  {
   "cell_type": "code",
   "execution_count": 2,
   "metadata": {},
   "outputs": [],
   "source": [
    "#library import cell\n",
    "import pandas as pd\n",
    "import numpy as np\n",
    "import scipy.stats as st\n",
    "import seaborn as sns\n",
    "import matplotlib.pyplot as plt\n",
    "from numpy.random import RandomState\n",
    "from sklearn.model_selection import train_test_split\n",
    "from sklearn.utils import shuffle\n",
    "from sklearn.preprocessing import StandardScaler\n",
    "from sklearn.metrics import confusion_matrix\n",
    "from sklearn.linear_model import LinearRegression \n",
    "from sklearn.metrics import recall_score\n",
    "from sklearn.metrics import precision_score\n",
    "from sklearn.metrics import mean_squared_error\n",
    "from sklearn.metrics import roc_auc_score\n",
    "from sklearn.metrics import roc_curve\n",
    "from sklearn.metrics import accuracy_score\n",
    "from sklearn.model_selection import cross_val_score\n",
    "from sklearn.metrics import f1_score"
   ]
  },
  {
   "cell_type": "markdown",
   "metadata": {},
   "source": [
    "## Download and prepare the data\n",
    "\n",
    "1.1 Make sure data is readable and study the data\n",
    "\n",
    "1.2 View the distribution and make note of any outliers\n",
    "\n",
    "1.3 Remove outliers"
   ]
  },
  {
   "cell_type": "markdown",
   "metadata": {},
   "source": [
    "### Make sure data is readable and study the data"
   ]
  },
  {
   "cell_type": "code",
   "execution_count": 3,
   "metadata": {},
   "outputs": [
    {
     "data": {
      "text/html": [
       "<div>\n",
       "<style scoped>\n",
       "    .dataframe tbody tr th:only-of-type {\n",
       "        vertical-align: middle;\n",
       "    }\n",
       "\n",
       "    .dataframe tbody tr th {\n",
       "        vertical-align: top;\n",
       "    }\n",
       "\n",
       "    .dataframe thead th {\n",
       "        text-align: right;\n",
       "    }\n",
       "</style>\n",
       "<table border=\"1\" class=\"dataframe\">\n",
       "  <thead>\n",
       "    <tr style=\"text-align: right;\">\n",
       "      <th></th>\n",
       "      <th>id</th>\n",
       "      <th>f0</th>\n",
       "      <th>f1</th>\n",
       "      <th>f2</th>\n",
       "      <th>product</th>\n",
       "    </tr>\n",
       "  </thead>\n",
       "  <tbody>\n",
       "    <tr>\n",
       "      <td>0</td>\n",
       "      <td>txEyH</td>\n",
       "      <td>0.705745</td>\n",
       "      <td>-0.497823</td>\n",
       "      <td>1.221170</td>\n",
       "      <td>105.280062</td>\n",
       "    </tr>\n",
       "    <tr>\n",
       "      <td>1</td>\n",
       "      <td>2acmU</td>\n",
       "      <td>1.334711</td>\n",
       "      <td>-0.340164</td>\n",
       "      <td>4.365080</td>\n",
       "      <td>73.037750</td>\n",
       "    </tr>\n",
       "    <tr>\n",
       "      <td>2</td>\n",
       "      <td>409Wp</td>\n",
       "      <td>1.022732</td>\n",
       "      <td>0.151990</td>\n",
       "      <td>1.419926</td>\n",
       "      <td>85.265647</td>\n",
       "    </tr>\n",
       "    <tr>\n",
       "      <td>3</td>\n",
       "      <td>iJLyR</td>\n",
       "      <td>-0.032172</td>\n",
       "      <td>0.139033</td>\n",
       "      <td>2.978566</td>\n",
       "      <td>168.620776</td>\n",
       "    </tr>\n",
       "    <tr>\n",
       "      <td>4</td>\n",
       "      <td>Xdl7t</td>\n",
       "      <td>1.988431</td>\n",
       "      <td>0.155413</td>\n",
       "      <td>4.751769</td>\n",
       "      <td>154.036647</td>\n",
       "    </tr>\n",
       "    <tr>\n",
       "      <td>5</td>\n",
       "      <td>wX4Hy</td>\n",
       "      <td>0.969570</td>\n",
       "      <td>0.489775</td>\n",
       "      <td>-0.735383</td>\n",
       "      <td>64.741541</td>\n",
       "    </tr>\n",
       "    <tr>\n",
       "      <td>6</td>\n",
       "      <td>tL6pL</td>\n",
       "      <td>0.645075</td>\n",
       "      <td>0.530656</td>\n",
       "      <td>1.780266</td>\n",
       "      <td>49.055285</td>\n",
       "    </tr>\n",
       "    <tr>\n",
       "      <td>7</td>\n",
       "      <td>BYPU6</td>\n",
       "      <td>-0.400648</td>\n",
       "      <td>0.808337</td>\n",
       "      <td>-5.624670</td>\n",
       "      <td>72.943292</td>\n",
       "    </tr>\n",
       "    <tr>\n",
       "      <td>8</td>\n",
       "      <td>j9Oui</td>\n",
       "      <td>0.643105</td>\n",
       "      <td>-0.551583</td>\n",
       "      <td>2.372141</td>\n",
       "      <td>113.356160</td>\n",
       "    </tr>\n",
       "    <tr>\n",
       "      <td>9</td>\n",
       "      <td>OLuZU</td>\n",
       "      <td>2.173381</td>\n",
       "      <td>0.563698</td>\n",
       "      <td>9.441852</td>\n",
       "      <td>127.910945</td>\n",
       "    </tr>\n",
       "  </tbody>\n",
       "</table>\n",
       "</div>"
      ],
      "text/plain": [
       "      id        f0        f1        f2     product\n",
       "0  txEyH  0.705745 -0.497823  1.221170  105.280062\n",
       "1  2acmU  1.334711 -0.340164  4.365080   73.037750\n",
       "2  409Wp  1.022732  0.151990  1.419926   85.265647\n",
       "3  iJLyR -0.032172  0.139033  2.978566  168.620776\n",
       "4  Xdl7t  1.988431  0.155413  4.751769  154.036647\n",
       "5  wX4Hy  0.969570  0.489775 -0.735383   64.741541\n",
       "6  tL6pL  0.645075  0.530656  1.780266   49.055285\n",
       "7  BYPU6 -0.400648  0.808337 -5.624670   72.943292\n",
       "8  j9Oui  0.643105 -0.551583  2.372141  113.356160\n",
       "9  OLuZU  2.173381  0.563698  9.441852  127.910945"
      ]
     },
     "metadata": {},
     "output_type": "display_data"
    },
    {
     "data": {
      "text/html": [
       "<div>\n",
       "<style scoped>\n",
       "    .dataframe tbody tr th:only-of-type {\n",
       "        vertical-align: middle;\n",
       "    }\n",
       "\n",
       "    .dataframe tbody tr th {\n",
       "        vertical-align: top;\n",
       "    }\n",
       "\n",
       "    .dataframe thead th {\n",
       "        text-align: right;\n",
       "    }\n",
       "</style>\n",
       "<table border=\"1\" class=\"dataframe\">\n",
       "  <thead>\n",
       "    <tr style=\"text-align: right;\">\n",
       "      <th></th>\n",
       "      <th>id</th>\n",
       "      <th>f0</th>\n",
       "      <th>f1</th>\n",
       "      <th>f2</th>\n",
       "      <th>product</th>\n",
       "    </tr>\n",
       "  </thead>\n",
       "  <tbody>\n",
       "    <tr>\n",
       "      <td>0</td>\n",
       "      <td>kBEdx</td>\n",
       "      <td>-15.001348</td>\n",
       "      <td>-8.276000</td>\n",
       "      <td>-0.005876</td>\n",
       "      <td>3.179103</td>\n",
       "    </tr>\n",
       "    <tr>\n",
       "      <td>1</td>\n",
       "      <td>62mP7</td>\n",
       "      <td>14.272088</td>\n",
       "      <td>-3.475083</td>\n",
       "      <td>0.999183</td>\n",
       "      <td>26.953261</td>\n",
       "    </tr>\n",
       "    <tr>\n",
       "      <td>2</td>\n",
       "      <td>vyE1P</td>\n",
       "      <td>6.263187</td>\n",
       "      <td>-5.948386</td>\n",
       "      <td>5.001160</td>\n",
       "      <td>134.766305</td>\n",
       "    </tr>\n",
       "    <tr>\n",
       "      <td>3</td>\n",
       "      <td>KcrkZ</td>\n",
       "      <td>-13.081196</td>\n",
       "      <td>-11.506057</td>\n",
       "      <td>4.999415</td>\n",
       "      <td>137.945408</td>\n",
       "    </tr>\n",
       "    <tr>\n",
       "      <td>4</td>\n",
       "      <td>AHL4O</td>\n",
       "      <td>12.702195</td>\n",
       "      <td>-8.147433</td>\n",
       "      <td>5.004363</td>\n",
       "      <td>134.766305</td>\n",
       "    </tr>\n",
       "    <tr>\n",
       "      <td>5</td>\n",
       "      <td>HHckp</td>\n",
       "      <td>-3.327590</td>\n",
       "      <td>-2.205276</td>\n",
       "      <td>3.003647</td>\n",
       "      <td>84.038886</td>\n",
       "    </tr>\n",
       "    <tr>\n",
       "      <td>6</td>\n",
       "      <td>h5Ujo</td>\n",
       "      <td>-11.142655</td>\n",
       "      <td>-10.133399</td>\n",
       "      <td>4.002382</td>\n",
       "      <td>110.992147</td>\n",
       "    </tr>\n",
       "    <tr>\n",
       "      <td>7</td>\n",
       "      <td>muH9x</td>\n",
       "      <td>4.234715</td>\n",
       "      <td>-0.001354</td>\n",
       "      <td>2.004588</td>\n",
       "      <td>53.906522</td>\n",
       "    </tr>\n",
       "    <tr>\n",
       "      <td>8</td>\n",
       "      <td>YiRkx</td>\n",
       "      <td>13.355129</td>\n",
       "      <td>-0.332068</td>\n",
       "      <td>4.998647</td>\n",
       "      <td>134.766305</td>\n",
       "    </tr>\n",
       "    <tr>\n",
       "      <td>9</td>\n",
       "      <td>jG6Gi</td>\n",
       "      <td>1.069227</td>\n",
       "      <td>-11.025667</td>\n",
       "      <td>4.997844</td>\n",
       "      <td>137.945408</td>\n",
       "    </tr>\n",
       "  </tbody>\n",
       "</table>\n",
       "</div>"
      ],
      "text/plain": [
       "      id         f0         f1        f2     product\n",
       "0  kBEdx -15.001348  -8.276000 -0.005876    3.179103\n",
       "1  62mP7  14.272088  -3.475083  0.999183   26.953261\n",
       "2  vyE1P   6.263187  -5.948386  5.001160  134.766305\n",
       "3  KcrkZ -13.081196 -11.506057  4.999415  137.945408\n",
       "4  AHL4O  12.702195  -8.147433  5.004363  134.766305\n",
       "5  HHckp  -3.327590  -2.205276  3.003647   84.038886\n",
       "6  h5Ujo -11.142655 -10.133399  4.002382  110.992147\n",
       "7  muH9x   4.234715  -0.001354  2.004588   53.906522\n",
       "8  YiRkx  13.355129  -0.332068  4.998647  134.766305\n",
       "9  jG6Gi   1.069227 -11.025667  4.997844  137.945408"
      ]
     },
     "metadata": {},
     "output_type": "display_data"
    },
    {
     "data": {
      "text/html": [
       "<div>\n",
       "<style scoped>\n",
       "    .dataframe tbody tr th:only-of-type {\n",
       "        vertical-align: middle;\n",
       "    }\n",
       "\n",
       "    .dataframe tbody tr th {\n",
       "        vertical-align: top;\n",
       "    }\n",
       "\n",
       "    .dataframe thead th {\n",
       "        text-align: right;\n",
       "    }\n",
       "</style>\n",
       "<table border=\"1\" class=\"dataframe\">\n",
       "  <thead>\n",
       "    <tr style=\"text-align: right;\">\n",
       "      <th></th>\n",
       "      <th>id</th>\n",
       "      <th>f0</th>\n",
       "      <th>f1</th>\n",
       "      <th>f2</th>\n",
       "      <th>product</th>\n",
       "    </tr>\n",
       "  </thead>\n",
       "  <tbody>\n",
       "    <tr>\n",
       "      <td>0</td>\n",
       "      <td>fwXo0</td>\n",
       "      <td>-1.146987</td>\n",
       "      <td>0.963328</td>\n",
       "      <td>-0.828965</td>\n",
       "      <td>27.758673</td>\n",
       "    </tr>\n",
       "    <tr>\n",
       "      <td>1</td>\n",
       "      <td>WJtFt</td>\n",
       "      <td>0.262778</td>\n",
       "      <td>0.269839</td>\n",
       "      <td>-2.530187</td>\n",
       "      <td>56.069697</td>\n",
       "    </tr>\n",
       "    <tr>\n",
       "      <td>2</td>\n",
       "      <td>ovLUW</td>\n",
       "      <td>0.194587</td>\n",
       "      <td>0.289035</td>\n",
       "      <td>-5.586433</td>\n",
       "      <td>62.871910</td>\n",
       "    </tr>\n",
       "    <tr>\n",
       "      <td>3</td>\n",
       "      <td>q6cA6</td>\n",
       "      <td>2.236060</td>\n",
       "      <td>-0.553760</td>\n",
       "      <td>0.930038</td>\n",
       "      <td>114.572842</td>\n",
       "    </tr>\n",
       "    <tr>\n",
       "      <td>4</td>\n",
       "      <td>WPMUX</td>\n",
       "      <td>-0.515993</td>\n",
       "      <td>1.716266</td>\n",
       "      <td>5.899011</td>\n",
       "      <td>149.600746</td>\n",
       "    </tr>\n",
       "    <tr>\n",
       "      <td>5</td>\n",
       "      <td>LzZXx</td>\n",
       "      <td>-0.758092</td>\n",
       "      <td>0.710691</td>\n",
       "      <td>2.585887</td>\n",
       "      <td>90.222465</td>\n",
       "    </tr>\n",
       "    <tr>\n",
       "      <td>6</td>\n",
       "      <td>WBHRv</td>\n",
       "      <td>-0.574891</td>\n",
       "      <td>0.317727</td>\n",
       "      <td>1.773745</td>\n",
       "      <td>45.641478</td>\n",
       "    </tr>\n",
       "    <tr>\n",
       "      <td>7</td>\n",
       "      <td>XO8fn</td>\n",
       "      <td>-1.906649</td>\n",
       "      <td>-2.458350</td>\n",
       "      <td>-0.177097</td>\n",
       "      <td>72.480640</td>\n",
       "    </tr>\n",
       "    <tr>\n",
       "      <td>8</td>\n",
       "      <td>ybmQ5</td>\n",
       "      <td>1.776292</td>\n",
       "      <td>-0.279356</td>\n",
       "      <td>3.004156</td>\n",
       "      <td>106.616832</td>\n",
       "    </tr>\n",
       "    <tr>\n",
       "      <td>9</td>\n",
       "      <td>OilcN</td>\n",
       "      <td>-1.214452</td>\n",
       "      <td>-0.439314</td>\n",
       "      <td>5.922514</td>\n",
       "      <td>52.954532</td>\n",
       "    </tr>\n",
       "  </tbody>\n",
       "</table>\n",
       "</div>"
      ],
      "text/plain": [
       "      id        f0        f1        f2     product\n",
       "0  fwXo0 -1.146987  0.963328 -0.828965   27.758673\n",
       "1  WJtFt  0.262778  0.269839 -2.530187   56.069697\n",
       "2  ovLUW  0.194587  0.289035 -5.586433   62.871910\n",
       "3  q6cA6  2.236060 -0.553760  0.930038  114.572842\n",
       "4  WPMUX -0.515993  1.716266  5.899011  149.600746\n",
       "5  LzZXx -0.758092  0.710691  2.585887   90.222465\n",
       "6  WBHRv -0.574891  0.317727  1.773745   45.641478\n",
       "7  XO8fn -1.906649 -2.458350 -0.177097   72.480640\n",
       "8  ybmQ5  1.776292 -0.279356  3.004156  106.616832\n",
       "9  OilcN -1.214452 -0.439314  5.922514   52.954532"
      ]
     },
     "metadata": {},
     "output_type": "display_data"
    }
   ],
   "source": [
    "#download and read the data\n",
    "data_1 = pd.read_csv('/datasets/geo_data_0.csv')\n",
    "data_2 = pd.read_csv('/datasets/geo_data_1.csv')\n",
    "data_3 = pd.read_csv('/datasets/geo_data_2.csv')\n",
    "try:\n",
    "    display(data_1.head(10), data_2.head(10), data_3.head(10))\n",
    "except:\n",
    "    display('cannot read csvs')"
   ]
  },
  {
   "cell_type": "code",
   "execution_count": 4,
   "metadata": {
    "scrolled": true
   },
   "outputs": [
    {
     "name": "stdout",
     "output_type": "stream",
     "text": [
      "<class 'pandas.core.frame.DataFrame'>\n",
      "RangeIndex: 100000 entries, 0 to 99999\n",
      "Data columns (total 5 columns):\n",
      "id         100000 non-null object\n",
      "f0         100000 non-null float64\n",
      "f1         100000 non-null float64\n",
      "f2         100000 non-null float64\n",
      "product    100000 non-null float64\n",
      "dtypes: float64(4), object(1)\n",
      "memory usage: 3.8+ MB\n",
      "<class 'pandas.core.frame.DataFrame'>\n",
      "RangeIndex: 100000 entries, 0 to 99999\n",
      "Data columns (total 5 columns):\n",
      "id         100000 non-null object\n",
      "f0         100000 non-null float64\n",
      "f1         100000 non-null float64\n",
      "f2         100000 non-null float64\n",
      "product    100000 non-null float64\n",
      "dtypes: float64(4), object(1)\n",
      "memory usage: 3.8+ MB\n",
      "<class 'pandas.core.frame.DataFrame'>\n",
      "RangeIndex: 100000 entries, 0 to 99999\n",
      "Data columns (total 5 columns):\n",
      "id         100000 non-null object\n",
      "f0         100000 non-null float64\n",
      "f1         100000 non-null float64\n",
      "f2         100000 non-null float64\n",
      "product    100000 non-null float64\n",
      "dtypes: float64(4), object(1)\n",
      "memory usage: 3.8+ MB\n"
     ]
    },
    {
     "data": {
      "text/plain": [
       "None"
      ]
     },
     "metadata": {},
     "output_type": "display_data"
    },
    {
     "data": {
      "text/plain": [
       "None"
      ]
     },
     "metadata": {},
     "output_type": "display_data"
    },
    {
     "data": {
      "text/plain": [
       "None"
      ]
     },
     "metadata": {},
     "output_type": "display_data"
    }
   ],
   "source": [
    "#investigate the df attributes\n",
    "display(data_1.info(), data_2.info(), data_3.info())"
   ]
  },
  {
   "cell_type": "markdown",
   "metadata": {},
   "source": [
    "#### Conclusion: Opening the data\n",
    "\n",
    "1) Data is readable and non-corrupt\n",
    "\n",
    "2) There are equal amounts of entries throughout all three dataframes and only 4 columns\n",
    "\n",
    "3) id is not needed for calculations"
   ]
  },
  {
   "cell_type": "markdown",
   "metadata": {},
   "source": [
    "### View the distribution and make note of any outliers"
   ]
  },
  {
   "cell_type": "code",
   "execution_count": 5,
   "metadata": {
    "scrolled": true
   },
   "outputs": [
    {
     "data": {
      "text/plain": [
       "bxg6G    2\n",
       "AGS9W    2\n",
       "HZww2    2\n",
       "fiKDv    2\n",
       "A5aEY    2\n",
       "        ..\n",
       "j6PVi    1\n",
       "uALPr    1\n",
       "YuGJS    1\n",
       "SkLPN    1\n",
       "YI6vJ    1\n",
       "Name: id, Length: 99990, dtype: int64"
      ]
     },
     "metadata": {},
     "output_type": "display_data"
    },
    {
     "data": {
      "text/plain": [
       "bfPNe    2\n",
       "wt4Uk    2\n",
       "LHZR0    2\n",
       "5ltQ6    2\n",
       "2cW56    1\n",
       "        ..\n",
       "c8vE3    1\n",
       "HPKLW    1\n",
       "CoCKF    1\n",
       "3PTKo    1\n",
       "mGq6S    1\n",
       "Name: id, Length: 99996, dtype: int64"
      ]
     },
     "metadata": {},
     "output_type": "display_data"
    },
    {
     "data": {
      "text/plain": [
       "VF7Jo    2\n",
       "KUPhW    2\n",
       "xCHr8    2\n",
       "Vcm5J    2\n",
       "B5jWB    1\n",
       "        ..\n",
       "lEnRH    1\n",
       "U4Adn    1\n",
       "E3WHi    1\n",
       "8RHNe    1\n",
       "WJkl0    1\n",
       "Name: id, Length: 99996, dtype: int64"
      ]
     },
     "metadata": {},
     "output_type": "display_data"
    }
   ],
   "source": [
    "display(data_1['id'].value_counts(), data_2['id'].value_counts(), data_3['id'].value_counts())"
   ]
  },
  {
   "cell_type": "code",
   "execution_count": 6,
   "metadata": {},
   "outputs": [
    {
     "data": {
      "text/html": [
       "<div>\n",
       "<style scoped>\n",
       "    .dataframe tbody tr th:only-of-type {\n",
       "        vertical-align: middle;\n",
       "    }\n",
       "\n",
       "    .dataframe tbody tr th {\n",
       "        vertical-align: top;\n",
       "    }\n",
       "\n",
       "    .dataframe thead th {\n",
       "        text-align: right;\n",
       "    }\n",
       "</style>\n",
       "<table border=\"1\" class=\"dataframe\">\n",
       "  <thead>\n",
       "    <tr style=\"text-align: right;\">\n",
       "      <th></th>\n",
       "      <th>f0</th>\n",
       "      <th>f1</th>\n",
       "      <th>f2</th>\n",
       "      <th>product</th>\n",
       "    </tr>\n",
       "  </thead>\n",
       "  <tbody>\n",
       "    <tr>\n",
       "      <td>0</td>\n",
       "      <td>0.705745</td>\n",
       "      <td>-0.497823</td>\n",
       "      <td>1.221170</td>\n",
       "      <td>105.280062</td>\n",
       "    </tr>\n",
       "    <tr>\n",
       "      <td>1</td>\n",
       "      <td>1.334711</td>\n",
       "      <td>-0.340164</td>\n",
       "      <td>4.365080</td>\n",
       "      <td>73.037750</td>\n",
       "    </tr>\n",
       "    <tr>\n",
       "      <td>2</td>\n",
       "      <td>1.022732</td>\n",
       "      <td>0.151990</td>\n",
       "      <td>1.419926</td>\n",
       "      <td>85.265647</td>\n",
       "    </tr>\n",
       "    <tr>\n",
       "      <td>3</td>\n",
       "      <td>-0.032172</td>\n",
       "      <td>0.139033</td>\n",
       "      <td>2.978566</td>\n",
       "      <td>168.620776</td>\n",
       "    </tr>\n",
       "    <tr>\n",
       "      <td>4</td>\n",
       "      <td>1.988431</td>\n",
       "      <td>0.155413</td>\n",
       "      <td>4.751769</td>\n",
       "      <td>154.036647</td>\n",
       "    </tr>\n",
       "  </tbody>\n",
       "</table>\n",
       "</div>"
      ],
      "text/plain": [
       "         f0        f1        f2     product\n",
       "0  0.705745 -0.497823  1.221170  105.280062\n",
       "1  1.334711 -0.340164  4.365080   73.037750\n",
       "2  1.022732  0.151990  1.419926   85.265647\n",
       "3 -0.032172  0.139033  2.978566  168.620776\n",
       "4  1.988431  0.155413  4.751769  154.036647"
      ]
     },
     "metadata": {},
     "output_type": "display_data"
    }
   ],
   "source": [
    "#The wells will be identified via their indexes rather than id number\n",
    "data_1 = data_1.drop('id', axis=1)\n",
    "data_2 = data_2.drop('id', axis=1)\n",
    "data_3 = data_3.drop('id', axis=1)\n",
    "display(data_1.head())"
   ]
  },
  {
   "cell_type": "code",
   "execution_count": 7,
   "metadata": {
    "scrolled": true
   },
   "outputs": [
    {
     "data": {
      "image/png": "[encoded data removed]",
      "text/plain": [
       "<Figure size 432x288 with 1 Axes>"
      ]
     },
     "metadata": {
      "needs_background": "light"
     },
     "output_type": "display_data"
    },
    {
     "data": {
      "image/png": "[encoded data removed]",
      "text/plain": [
       "<Figure size 432x288 with 1 Axes>"
      ]
     },
     "metadata": {
      "needs_background": "light"
     },
     "output_type": "display_data"
    },
    {
     "data": {
      "image/png": "[encoded data removed]",
      "text/plain": [
       "<Figure size 432x288 with 1 Axes>"
      ]
     },
     "metadata": {
      "needs_background": "light"
     },
     "output_type": "display_data"
    }
   ],
   "source": [
    "#using boxplots to get a general understanding of the distribution\n",
    "\n",
    "data_1['product'].plot.box(by=None)\n",
    "plt.show()\n",
    "data_2['product'].plot.box(by=None)\n",
    "plt.show()\n",
    "data_3['product'].plot.box(by=None)\n",
    "plt.show()\n",
    "#No apparant outliers with the target variable"
   ]
  },
  {
   "cell_type": "code",
   "execution_count": 8,
   "metadata": {},
   "outputs": [
    {
     "data": {
      "image/png": "[encoded data removed]",
      "text/plain": [
       "<Figure size 432x288 with 1 Axes>"
      ]
     },
     "metadata": {
      "needs_background": "light"
     },
     "output_type": "display_data"
    },
    {
     "data": {
      "image/png": "[encoded data removed]",
      "text/plain": [
       "<Figure size 432x288 with 1 Axes>"
      ]
     },
     "metadata": {
      "needs_background": "light"
     },
     "output_type": "display_data"
    },
    {
     "data": {
      "image/png": "[encoded data removed]",
      "text/plain": [
       "<Figure size 432x288 with 1 Axes>"
      ]
     },
     "metadata": {
      "needs_background": "light"
     },
     "output_type": "display_data"
    }
   ],
   "source": [
    "data_1['f0'].plot.box(by=None)\n",
    "plt.show()\n",
    "data_2['f0'].plot.box(by=None)\n",
    "plt.show()\n",
    "data_3['f0'].plot.box(by=None)\n",
    "plt.show()\n",
    "#outliers are found in the f0 feature for region 3"
   ]
  },
  {
   "cell_type": "code",
   "execution_count": 9,
   "metadata": {
    "scrolled": true
   },
   "outputs": [
    {
     "data": {
      "image/png": "[encoded data removed]",
      "text/plain": [
       "<Figure size 432x288 with 1 Axes>"
      ]
     },
     "metadata": {
      "needs_background": "light"
     },
     "output_type": "display_data"
    },
    {
     "data": {
      "image/png": "[encoded data removed]",
      "text/plain": [
       "<Figure size 432x288 with 1 Axes>"
      ]
     },
     "metadata": {
      "needs_background": "light"
     },
     "output_type": "display_data"
    },
    {
     "data": {
      "image/png": "[encoded data removed]",
      "text/plain": [
       "<Figure size 432x288 with 1 Axes>"
      ]
     },
     "metadata": {
      "needs_background": "light"
     },
     "output_type": "display_data"
    }
   ],
   "source": [
    "data_1['f1'].plot.box(by=None)\n",
    "plt.show()\n",
    "data_2['f1'].plot.box(by=None)\n",
    "plt.show()\n",
    "data_3['f1'].plot.box(by=None)\n",
    "plt.show()\n",
    "#Regions 2 and 3 have outliers in the f1 feature"
   ]
  },
  {
   "cell_type": "code",
   "execution_count": 10,
   "metadata": {
    "scrolled": true
   },
   "outputs": [
    {
     "data": {
      "image/png": "[encoded data removed]",
      "text/plain": [
       "<Figure size 432x288 with 1 Axes>"
      ]
     },
     "metadata": {
      "needs_background": "light"
     },
     "output_type": "display_data"
    },
    {
     "data": {
      "image/png": "[encoded data removed]",
      "text/plain": [
       "<Figure size 432x288 with 1 Axes>"
      ]
     },
     "metadata": {
      "needs_background": "light"
     },
     "output_type": "display_data"
    },
    {
     "data": {
      "image/png": "[encoded data removed]",
      "text/plain": [
       "<Figure size 432x288 with 1 Axes>"
      ]
     },
     "metadata": {
      "needs_background": "light"
     },
     "output_type": "display_data"
    }
   ],
   "source": [
    "data_1['f2'].plot.box(by=None)\n",
    "plt.show()\n",
    "data_2['f2'].plot.box(by=None)\n",
    "plt.show()\n",
    "data_3['f2'].plot.box(by=None)\n",
    "plt.show()\n",
    "#Outliers in region 1 and 3 f2 need to be removed"
   ]
  },
  {
   "cell_type": "markdown",
   "metadata": {},
   "source": [
    "### Remove Outliers"
   ]
  },
  {
   "cell_type": "code",
   "execution_count": 11,
   "metadata": {
    "scrolled": true
   },
   "outputs": [
    {
     "name": "stdout",
     "output_type": "stream",
     "text": [
      "<class 'pandas.core.frame.DataFrame'>\n",
      "RangeIndex: 100000 entries, 0 to 99999\n",
      "Data columns (total 4 columns):\n",
      "f0         100000 non-null float64\n",
      "f1         100000 non-null float64\n",
      "f2         100000 non-null float64\n",
      "product    100000 non-null float64\n",
      "dtypes: float64(4)\n",
      "memory usage: 3.1 MB\n"
     ]
    },
    {
     "data": {
      "text/plain": [
       "f0          1.146162\n",
       "f1          0.901528\n",
       "f2          4.427340\n",
       "product    72.066582\n",
       "dtype: float64"
      ]
     },
     "metadata": {},
     "output_type": "display_data"
    },
    {
     "data": {
      "text/plain": [
       "None"
      ]
     },
     "metadata": {},
     "output_type": "display_data"
    }
   ],
   "source": [
    "R1Q1 = data_1.quantile(0.25)\n",
    "R1Q3 = data_1.quantile(0.75)\n",
    "R1_IQR = R1Q3 - R1Q1\n",
    "\n",
    "display(R1_IQR, data_1.info())"
   ]
  },
  {
   "cell_type": "code",
   "execution_count": 12,
   "metadata": {
    "scrolled": true
   },
   "outputs": [
    {
     "name": "stdout",
     "output_type": "stream",
     "text": [
      "<class 'pandas.core.frame.DataFrame'>\n",
      "RangeIndex: 100000 entries, 0 to 99999\n",
      "Data columns (total 4 columns):\n",
      "f0         100000 non-null float64\n",
      "f1         100000 non-null float64\n",
      "f2         100000 non-null float64\n",
      "product    100000 non-null float64\n",
      "dtypes: float64(4)\n",
      "memory usage: 3.1 MB\n"
     ]
    },
    {
     "data": {
      "text/plain": [
       "f0         14.919567\n",
       "f1          6.935169\n",
       "f2          2.999883\n",
       "product    80.859783\n",
       "dtype: float64"
      ]
     },
     "metadata": {},
     "output_type": "display_data"
    },
    {
     "data": {
      "text/plain": [
       "None"
      ]
     },
     "metadata": {},
     "output_type": "display_data"
    }
   ],
   "source": [
    "R2Q1 = data_2.quantile(0.25)\n",
    "R2Q3 = data_2.quantile(0.75)\n",
    "R2_IQR = R2Q3 - R2Q1\n",
    "\n",
    "display(R2_IQR, data_2.info())"
   ]
  },
  {
   "cell_type": "code",
   "execution_count": 13,
   "metadata": {
    "scrolled": true
   },
   "outputs": [
    {
     "name": "stdout",
     "output_type": "stream",
     "text": [
      "<class 'pandas.core.frame.DataFrame'>\n",
      "RangeIndex: 100000 entries, 0 to 99999\n",
      "Data columns (total 4 columns):\n",
      "f0         100000 non-null float64\n",
      "f1         100000 non-null float64\n",
      "f2         100000 non-null float64\n",
      "product    100000 non-null float64\n",
      "dtypes: float64(4)\n",
      "memory usage: 3.1 MB\n"
     ]
    },
    {
     "data": {
      "text/plain": [
       "f0          2.320824\n",
       "f1          2.338497\n",
       "f2          4.728435\n",
       "product    71.144586\n",
       "dtype: float64"
      ]
     },
     "metadata": {},
     "output_type": "display_data"
    },
    {
     "data": {
      "text/plain": [
       "None"
      ]
     },
     "metadata": {},
     "output_type": "display_data"
    }
   ],
   "source": [
    "R3Q1 = data_3.quantile(0.25)\n",
    "R3Q3 = data_3.quantile(0.75)\n",
    "R3_IQR = R3Q3 - R3Q1\n",
    "\n",
    "display(R3_IQR, data_3.info())"
   ]
  },
  {
   "cell_type": "code",
   "execution_count": 14,
   "metadata": {
    "scrolled": true
   },
   "outputs": [
    {
     "name": "stdout",
     "output_type": "stream",
     "text": [
      "<class 'pandas.core.frame.DataFrame'>\n",
      "Int64Index: 99494 entries, 0 to 99999\n",
      "Data columns (total 4 columns):\n",
      "f0         99494 non-null float64\n",
      "f1         99494 non-null float64\n",
      "f2         99494 non-null float64\n",
      "product    99494 non-null float64\n",
      "dtypes: float64(4)\n",
      "memory usage: 3.8 MB\n",
      "<class 'pandas.core.frame.DataFrame'>\n",
      "Int64Index: 99363 entries, 0 to 99999\n",
      "Data columns (total 4 columns):\n",
      "f0         99363 non-null float64\n",
      "f1         99363 non-null float64\n",
      "f2         99363 non-null float64\n",
      "product    99363 non-null float64\n",
      "dtypes: float64(4)\n",
      "memory usage: 3.8 MB\n",
      "<class 'pandas.core.frame.DataFrame'>\n",
      "Int64Index: 98004 entries, 0 to 99999\n",
      "Data columns (total 4 columns):\n",
      "f0         98004 non-null float64\n",
      "f1         98004 non-null float64\n",
      "f2         98004 non-null float64\n",
      "product    98004 non-null float64\n",
      "dtypes: float64(4)\n",
      "memory usage: 3.7 MB\n"
     ]
    },
    {
     "data": {
      "text/plain": [
       "None"
      ]
     },
     "metadata": {},
     "output_type": "display_data"
    },
    {
     "data": {
      "text/plain": [
       "None"
      ]
     },
     "metadata": {},
     "output_type": "display_data"
    },
    {
     "data": {
      "text/plain": [
       "None"
      ]
     },
     "metadata": {},
     "output_type": "display_data"
    }
   ],
   "source": [
    "#Removing region 1 outliers\n",
    "data_1 = data_1[~((data_1 < (R1Q1 - 1.5 * R1_IQR)) | (data_1 > (R1Q3 + 1.5 * R1_IQR))).any(axis=1)]\n",
    "data_2 = data_2[~((data_2 < (R2Q1 - 1.5 * R2_IQR)) | (data_2 > (R2Q3 + 1.5 * R2_IQR))).any(axis=1)]\n",
    "data_3 = data_3[~((data_3 < (R3Q1 - 1.5 * R3_IQR)) | (data_3 > (R3Q3 + 1.5 * R3_IQR))).any(axis=1)]\n",
    "\n",
    "display(data_1.info(), data_2.info(), data_3.info())"
   ]
  },
  {
   "cell_type": "code",
   "execution_count": 15,
   "metadata": {
    "scrolled": true
   },
   "outputs": [
    {
     "data": {
      "image/png": "[encoded data removed]",
      "text/plain": [
       "<Figure size 432x288 with 1 Axes>"
      ]
     },
     "metadata": {
      "needs_background": "light"
     },
     "output_type": "display_data"
    },
    {
     "data": {
      "image/png": "[encoded data removed]",
      "text/plain": [
       "<Figure size 432x288 with 1 Axes>"
      ]
     },
     "metadata": {
      "needs_background": "light"
     },
     "output_type": "display_data"
    },
    {
     "data": {
      "image/png": "[encoded data removed]",
      "text/plain": [
       "<Figure size 432x288 with 1 Axes>"
      ]
     },
     "metadata": {
      "needs_background": "light"
     },
     "output_type": "display_data"
    }
   ],
   "source": [
    "#Redisplay the distributions\n",
    "data_1['f0'].plot.box(by=None)\n",
    "plt.show()\n",
    "data_2['f0'].plot.box(by=None)\n",
    "plt.show()\n",
    "data_3['f0'].plot.box(by=None)\n",
    "plt.show()\n",
    "#Distribution for this feature looks better"
   ]
  },
  {
   "cell_type": "code",
   "execution_count": 16,
   "metadata": {},
   "outputs": [
    {
     "data": {
      "image/png": "[encoded data removed]",
      "text/plain": [
       "<Figure size 432x288 with 1 Axes>"
      ]
     },
     "metadata": {
      "needs_background": "light"
     },
     "output_type": "display_data"
    },
    {
     "data": {
      "image/png": "[encoded data removed]",
      "text/plain": [
       "<Figure size 432x288 with 1 Axes>"
      ]
     },
     "metadata": {
      "needs_background": "light"
     },
     "output_type": "display_data"
    },
    {
     "data": {
      "image/png": "[encoded data removed]",
      "text/plain": [
       "<Figure size 432x288 with 1 Axes>"
      ]
     },
     "metadata": {
      "needs_background": "light"
     },
     "output_type": "display_data"
    }
   ],
   "source": [
    "data_1['f1'].plot.box(by=None)\n",
    "plt.show()\n",
    "data_2['f1'].plot.box(by=None)\n",
    "plt.show()\n",
    "data_3['f1'].plot.box(by=None)\n",
    "plt.show()\n",
    "#f1 distribution looks better"
   ]
  },
  {
   "cell_type": "code",
   "execution_count": 17,
   "metadata": {
    "scrolled": true
   },
   "outputs": [
    {
     "data": {
      "image/png": "[encoded data removed]",
      "text/plain": [
       "<Figure size 432x288 with 1 Axes>"
      ]
     },
     "metadata": {
      "needs_background": "light"
     },
     "output_type": "display_data"
    },
    {
     "data": {
      "image/png": "[encoded data removed]",
      "text/plain": [
       "<Figure size 432x288 with 1 Axes>"
      ]
     },
     "metadata": {
      "needs_background": "light"
     },
     "output_type": "display_data"
    },
    {
     "data": {
      "image/png": "[encoded data removed]",
      "text/plain": [
       "<Figure size 432x288 with 1 Axes>"
      ]
     },
     "metadata": {
      "needs_background": "light"
     },
     "output_type": "display_data"
    }
   ],
   "source": [
    "data_1['f2'].plot.box(by=None)\n",
    "plt.show()\n",
    "data_2['f2'].plot.box(by=None)\n",
    "plt.show()\n",
    "data_3['f2'].plot.box(by=None)\n",
    "plt.show()\n",
    "#f1 distribution looks better"
   ]
  },
  {
   "cell_type": "markdown",
   "metadata": {},
   "source": [
    "### Conclusion: Data Preparation\n",
    "\n",
    "1) After opening and reading the data, outliers were observed and processed\n",
    "\n",
    "2) This should help the model in minimizing RMSE\n",
    "\n",
    "3) The objective is to choose the best region -- df's were left unmerged since each df corresponds to a specific region"
   ]
  },
  {
   "cell_type": "markdown",
   "metadata": {},
   "source": [
    "## Train and test the model for each region\n",
    "\n",
    "2.1. Split the data into a training set and validation set at a ratio of 75:25.\n",
    "\n",
    "2.2. Train the model and make predictions for the validation set. Save the predictions and correct answers for the validation set.\n",
    "\n",
    "2.3. Print the average volume of predicted reserves and model RMSE.\n",
    "\n",
    "2.4. Analyze the results."
   ]
  },
  {
   "cell_type": "markdown",
   "metadata": {},
   "source": [
    "### Split the data into a training set and validation set at a ratio of 75:25"
   ]
  },
  {
   "cell_type": "code",
   "execution_count": 18,
   "metadata": {},
   "outputs": [
    {
     "data": {
      "text/plain": [
       "(74620, 3)"
      ]
     },
     "metadata": {},
     "output_type": "display_data"
    },
    {
     "data": {
      "text/plain": [
       "(74620,)"
      ]
     },
     "metadata": {},
     "output_type": "display_data"
    },
    {
     "data": {
      "text/plain": [
       "(24874, 3)"
      ]
     },
     "metadata": {},
     "output_type": "display_data"
    },
    {
     "data": {
      "text/plain": [
       "(24874,)"
      ]
     },
     "metadata": {},
     "output_type": "display_data"
    },
    {
     "data": {
      "text/plain": [
       "(74522, 3)"
      ]
     },
     "metadata": {},
     "output_type": "display_data"
    },
    {
     "data": {
      "text/plain": [
       "(74522,)"
      ]
     },
     "metadata": {},
     "output_type": "display_data"
    },
    {
     "data": {
      "text/plain": [
       "(24841, 3)"
      ]
     },
     "metadata": {},
     "output_type": "display_data"
    },
    {
     "data": {
      "text/plain": [
       "(24841,)"
      ]
     },
     "metadata": {},
     "output_type": "display_data"
    },
    {
     "data": {
      "text/plain": [
       "(73503, 3)"
      ]
     },
     "metadata": {},
     "output_type": "display_data"
    },
    {
     "data": {
      "text/plain": [
       "(73503,)"
      ]
     },
     "metadata": {},
     "output_type": "display_data"
    },
    {
     "data": {
      "text/plain": [
       "(24501, 3)"
      ]
     },
     "metadata": {},
     "output_type": "display_data"
    },
    {
     "data": {
      "text/plain": [
       "(24501,)"
      ]
     },
     "metadata": {},
     "output_type": "display_data"
    }
   ],
   "source": [
    "features_1 = data_1.drop('product', axis=1)\n",
    "target_1 = data_1['product']\n",
    "\n",
    "features_2 = data_2.drop('product', axis=1)\n",
    "target_2 = data_2['product']\n",
    "\n",
    "features_3 = data_3.drop('product', axis=1)\n",
    "target_3 = data_3['product']\n",
    "\n",
    "features_train_1, features_valid_1, target_train_1, target_valid_1 = train_test_split(features_1, target_1, \n",
    "                                                                          train_size=0.75, random_state=12345)\n",
    "\n",
    "features_train_2, features_valid_2, target_train_2, target_valid_2 = train_test_split(features_2, target_2, \n",
    "                                                                          train_size=0.75, random_state=12345)\n",
    "\n",
    "features_train_3, features_valid_3, target_train_3, target_valid_3 = train_test_split(features_3, target_3, \n",
    "                                                                          train_size=0.75, random_state=12345)\n",
    "display(features_train_1.shape, target_train_1.shape, \n",
    "        features_valid_1.shape, target_valid_1.shape,\n",
    "        features_train_2.shape, target_train_2.shape, \n",
    "        features_valid_2.shape, target_valid_2.shape,\n",
    "        features_train_3.shape, target_train_3.shape, \n",
    "        features_valid_3.shape, target_valid_3.shape,)"
   ]
  },
  {
   "cell_type": "markdown",
   "metadata": {},
   "source": [
    "#### Conclusion: Splitting the data\n",
    "\n",
    "1) Each region was split into their own respective train and validation sets\n",
    "\n",
    "2) A 75:25 split was achieved for each region"
   ]
  },
  {
   "cell_type": "markdown",
   "metadata": {},
   "source": [
    "### Train the model and make predictions for the validation set & Save the predictions and correct answers for the validation set"
   ]
  },
  {
   "cell_type": "code",
   "execution_count": 19,
   "metadata": {},
   "outputs": [
    {
     "data": {
      "text/plain": [
       "56175     50.715131\n",
       "4782      42.686826\n",
       "78065     51.690622\n",
       "90955     57.925589\n",
       "68378    104.234228\n",
       "Name: product, dtype: float64"
      ]
     },
     "execution_count": 19,
     "metadata": {},
     "output_type": "execute_result"
    }
   ],
   "source": [
    "target_valid_1.head()"
   ]
  },
  {
   "cell_type": "code",
   "execution_count": 20,
   "metadata": {},
   "outputs": [
    {
     "name": "stdout",
     "output_type": "stream",
     "text": [
      "<class 'pandas.core.frame.DataFrame'>\n",
      "Int64Index: 24874 entries, 0 to 24873\n",
      "Data columns (total 2 columns):\n",
      "predictions    24874 non-null float64\n",
      "answers        24874 non-null float64\n",
      "dtypes: float64(2)\n",
      "memory usage: 583.0 KB\n",
      "<class 'pandas.core.frame.DataFrame'>\n",
      "Int64Index: 24841 entries, 0 to 24840\n",
      "Data columns (total 2 columns):\n",
      "predictions    24841 non-null float64\n",
      "answers        24841 non-null float64\n",
      "dtypes: float64(2)\n",
      "memory usage: 582.2 KB\n",
      "<class 'pandas.core.frame.DataFrame'>\n",
      "Int64Index: 24501 entries, 0 to 24500\n",
      "Data columns (total 2 columns):\n",
      "predictions    24501 non-null float64\n",
      "answers        24501 non-null float64\n",
      "dtypes: float64(2)\n",
      "memory usage: 574.2 KB\n"
     ]
    },
    {
     "data": {
      "text/html": [
       "<div>\n",
       "<style scoped>\n",
       "    .dataframe tbody tr th:only-of-type {\n",
       "        vertical-align: middle;\n",
       "    }\n",
       "\n",
       "    .dataframe tbody tr th {\n",
       "        vertical-align: top;\n",
       "    }\n",
       "\n",
       "    .dataframe thead th {\n",
       "        text-align: right;\n",
       "    }\n",
       "</style>\n",
       "<table border=\"1\" class=\"dataframe\">\n",
       "  <thead>\n",
       "    <tr style=\"text-align: right;\">\n",
       "      <th></th>\n",
       "      <th>predictions</th>\n",
       "      <th>answers</th>\n",
       "    </tr>\n",
       "  </thead>\n",
       "  <tbody>\n",
       "    <tr>\n",
       "      <td>0</td>\n",
       "      <td>81.908532</td>\n",
       "      <td>50.715131</td>\n",
       "    </tr>\n",
       "    <tr>\n",
       "      <td>1</td>\n",
       "      <td>73.007669</td>\n",
       "      <td>42.686826</td>\n",
       "    </tr>\n",
       "    <tr>\n",
       "      <td>2</td>\n",
       "      <td>101.278165</td>\n",
       "      <td>51.690622</td>\n",
       "    </tr>\n",
       "    <tr>\n",
       "      <td>3</td>\n",
       "      <td>82.103895</td>\n",
       "      <td>57.925589</td>\n",
       "    </tr>\n",
       "    <tr>\n",
       "      <td>4</td>\n",
       "      <td>85.599147</td>\n",
       "      <td>104.234228</td>\n",
       "    </tr>\n",
       "  </tbody>\n",
       "</table>\n",
       "</div>"
      ],
      "text/plain": [
       "   predictions     answers\n",
       "0    81.908532   50.715131\n",
       "1    73.007669   42.686826\n",
       "2   101.278165   51.690622\n",
       "3    82.103895   57.925589\n",
       "4    85.599147  104.234228"
      ]
     },
     "metadata": {},
     "output_type": "display_data"
    },
    {
     "data": {
      "text/plain": [
       "None"
      ]
     },
     "metadata": {},
     "output_type": "display_data"
    },
    {
     "data": {
      "text/html": [
       "<div>\n",
       "<style scoped>\n",
       "    .dataframe tbody tr th:only-of-type {\n",
       "        vertical-align: middle;\n",
       "    }\n",
       "\n",
       "    .dataframe tbody tr th {\n",
       "        vertical-align: top;\n",
       "    }\n",
       "\n",
       "    .dataframe thead th {\n",
       "        text-align: right;\n",
       "    }\n",
       "</style>\n",
       "<table border=\"1\" class=\"dataframe\">\n",
       "  <thead>\n",
       "    <tr style=\"text-align: right;\">\n",
       "      <th></th>\n",
       "      <th>predictions</th>\n",
       "      <th>answers</th>\n",
       "    </tr>\n",
       "  </thead>\n",
       "  <tbody>\n",
       "    <tr>\n",
       "      <td>0</td>\n",
       "      <td>54.249394</td>\n",
       "      <td>53.906522</td>\n",
       "    </tr>\n",
       "    <tr>\n",
       "      <td>1</td>\n",
       "      <td>111.016318</td>\n",
       "      <td>110.992147</td>\n",
       "    </tr>\n",
       "    <tr>\n",
       "      <td>2</td>\n",
       "      <td>2.796261</td>\n",
       "      <td>3.179103</td>\n",
       "    </tr>\n",
       "    <tr>\n",
       "      <td>3</td>\n",
       "      <td>82.992962</td>\n",
       "      <td>80.859783</td>\n",
       "    </tr>\n",
       "    <tr>\n",
       "      <td>4</td>\n",
       "      <td>57.151853</td>\n",
       "      <td>57.085625</td>\n",
       "    </tr>\n",
       "  </tbody>\n",
       "</table>\n",
       "</div>"
      ],
      "text/plain": [
       "   predictions     answers\n",
       "0    54.249394   53.906522\n",
       "1   111.016318  110.992147\n",
       "2     2.796261    3.179103\n",
       "3    82.992962   80.859783\n",
       "4    57.151853   57.085625"
      ]
     },
     "metadata": {},
     "output_type": "display_data"
    },
    {
     "data": {
      "text/plain": [
       "None"
      ]
     },
     "metadata": {},
     "output_type": "display_data"
    },
    {
     "data": {
      "text/html": [
       "<div>\n",
       "<style scoped>\n",
       "    .dataframe tbody tr th:only-of-type {\n",
       "        vertical-align: middle;\n",
       "    }\n",
       "\n",
       "    .dataframe tbody tr th {\n",
       "        vertical-align: top;\n",
       "    }\n",
       "\n",
       "    .dataframe thead th {\n",
       "        text-align: right;\n",
       "    }\n",
       "</style>\n",
       "<table border=\"1\" class=\"dataframe\">\n",
       "  <thead>\n",
       "    <tr style=\"text-align: right;\">\n",
       "      <th></th>\n",
       "      <th>predictions</th>\n",
       "      <th>answers</th>\n",
       "    </tr>\n",
       "  </thead>\n",
       "  <tbody>\n",
       "    <tr>\n",
       "      <td>0</td>\n",
       "      <td>97.777767</td>\n",
       "      <td>141.637354</td>\n",
       "    </tr>\n",
       "    <tr>\n",
       "      <td>1</td>\n",
       "      <td>107.805181</td>\n",
       "      <td>134.169483</td>\n",
       "    </tr>\n",
       "    <tr>\n",
       "      <td>2</td>\n",
       "      <td>68.022056</td>\n",
       "      <td>80.090879</td>\n",
       "    </tr>\n",
       "    <tr>\n",
       "      <td>3</td>\n",
       "      <td>57.257695</td>\n",
       "      <td>30.313638</td>\n",
       "    </tr>\n",
       "    <tr>\n",
       "      <td>4</td>\n",
       "      <td>109.372511</td>\n",
       "      <td>52.362387</td>\n",
       "    </tr>\n",
       "  </tbody>\n",
       "</table>\n",
       "</div>"
      ],
      "text/plain": [
       "   predictions     answers\n",
       "0    97.777767  141.637354\n",
       "1   107.805181  134.169483\n",
       "2    68.022056   80.090879\n",
       "3    57.257695   30.313638\n",
       "4   109.372511   52.362387"
      ]
     },
     "metadata": {},
     "output_type": "display_data"
    },
    {
     "data": {
      "text/plain": [
       "None"
      ]
     },
     "metadata": {},
     "output_type": "display_data"
    }
   ],
   "source": [
    "#Region 1\n",
    "model_1 = LinearRegression()\n",
    "model_1.fit(features_train_1, target_train_1)\n",
    "preds_1 = model_1.predict(features_valid_1)\n",
    "preds_1 = pd.DataFrame(preds_1)\n",
    "target_valid_1 = pd.DataFrame(target_valid_1).reset_index(drop=True)\n",
    "\n",
    "#merging predictions and target\n",
    "key_1 = preds_1.merge(target_valid_1, left_index=True, right_index=True, how='outer'\n",
    "                     ).rename(columns={0: 'predictions', 'product': 'answers'})\n",
    "\n",
    "#Region 2\n",
    "model_2 = LinearRegression()\n",
    "model_2.fit(features_train_2, target_train_2)\n",
    "preds_2 = model_2.predict(features_valid_2)\n",
    "preds_2 = pd.DataFrame(preds_2)\n",
    "target_valid_2 = pd.DataFrame(target_valid_2).reset_index(drop=True)\n",
    "\n",
    "key_2 = preds_2.merge(target_valid_2, left_index=True, right_index=True, how='outer'\n",
    "                     ).rename(columns={0: 'predictions', 'product': 'answers'})\n",
    "\n",
    "#Region 3\n",
    "model_3 = LinearRegression()\n",
    "model_3.fit(features_train_3, target_train_3)\n",
    "preds_3 = model_3.predict(features_valid_3)\n",
    "preds_3 = pd.DataFrame(preds_3)\n",
    "target_valid_3 = pd.DataFrame(target_valid_3).reset_index(drop=True)\n",
    "\n",
    "key_3 = preds_3.merge(target_valid_3, left_index=True, right_index=True, how='outer'\n",
    "                     ).rename(columns={0: 'predictions', 'product': 'answers'})\n",
    "\n",
    "display(key_1.head(), key_1.info(), \n",
    "        key_2.head(), key_2.info(), \n",
    "        key_3.head(), key_3.info())\n"
   ]
  },
  {
   "cell_type": "markdown",
   "metadata": {},
   "source": [
    "#### Conclusion: Predictions and Answers for Each Region\n",
    "\n",
    "1) Predictions for each model's validation set have been made\n",
    "\n",
    "2) Target validation answers were compiled with the predictions in one variable 'key' for each region"
   ]
  },
  {
   "cell_type": "markdown",
   "metadata": {},
   "source": [
    "### Print the average volume of predicted reserves and model RMSE"
   ]
  },
  {
   "cell_type": "code",
   "execution_count": 21,
   "metadata": {},
   "outputs": [
    {
     "name": "stdout",
     "output_type": "stream",
     "text": [
      "Average 1: [92.72476770114889] RMSE 1: 37.922930890531454\n",
      "Average 2: [68.57155922956488] RMSE 2: 0.8890307022067047\n",
      "Average 3: [94.69860451155928] RMSE 3: 40.116670311801556\n"
     ]
    }
   ],
   "source": [
    "#Average volume \n",
    "avg_1 = preds_1.mean()\n",
    "avg_1 = list(avg_1) #to remove dtype info message from outputs\n",
    "avg_2 = preds_2.mean()\n",
    "avg_2 = list(avg_2)\n",
    "avg_3 = preds_3.mean()\n",
    "avg_3 = list(avg_3)\n",
    "\n",
    "#RMSE\n",
    "RMSE_1 = mean_squared_error(target_valid_1, preds_1)**0.5\n",
    "RMSE_2 = mean_squared_error(target_valid_2, preds_2)**0.5\n",
    "RMSE_3 = mean_squared_error(target_valid_3, preds_3)**0.5\n",
    "\n",
    "print('Average 1:', avg_1, 'RMSE 1:', RMSE_1)\n",
    "print('Average 2:', avg_2, 'RMSE 2:', RMSE_2)\n",
    "print('Average 3:', avg_3, 'RMSE 3:', RMSE_3)"
   ]
  },
  {
   "cell_type": "markdown",
   "metadata": {},
   "source": [
    "#### Conclusion: Average Volume and RMSEs\n",
    "\n",
    "1) The average volumes for regions 1 and 3 (92 and 94) were much more similar than region 2 (68)\n",
    "\n",
    "2) RMSEs for regions 1 and 3 were also similar (37, 40) and also not ideal for a model\n",
    "\n",
    "3) Region 2's RMSE was much more ideal than the other two (0.9)"
   ]
  },
  {
   "cell_type": "markdown",
   "metadata": {},
   "source": [
    "## Prepare for profit calculation\n",
    "\n",
    "3.1 Store all key values for calculations in separate variables.\n",
    "\n",
    "3.2 Calculate the volume of reserves sufficient for developing a new well without losses. Compare the obtained value with the average volume of reserves in each region.\n",
    "\n",
    "3.3 Provide the findings about the preparation for profit calculation step."
   ]
  },
  {
   "cell_type": "markdown",
   "metadata": {},
   "source": [
    "### Store all key values for calculations in separate variables"
   ]
  },
  {
   "cell_type": "code",
   "execution_count": 22,
   "metadata": {},
   "outputs": [
    {
     "data": {
      "text/plain": [
       "500000.0"
      ]
     },
     "metadata": {},
     "output_type": "display_data"
    }
   ],
   "source": [
    "dev_budget = 100000000 #100 million used\n",
    "well_budget = 200 #max wells for budget\n",
    "barrel_rev = 4.5 #usd/1 barrel\n",
    "unit = 1000 #number of barrels\n",
    "unit_rev = 4500 #usd/1 unit\n",
    "cost_of_goods = dev_budget/well_budget\n",
    "\n",
    "#revenue = unit_rev * (unit * predictions[i]) #x = the number of predicted units for a well\n",
    "\n",
    "#net_profit = revenue - cost_of_goods #no known operating expenses or taxes/loans provided\n",
    "\n",
    "display(cost_of_goods)"
   ]
  },
  {
   "cell_type": "markdown",
   "metadata": {},
   "source": [
    "#### Conclusion: Calculation Variables\n",
    "\n",
    "1) All key values for calculation have been stored as variables\n",
    "\n",
    "2) The cost for creating a single well is $500,000 USD\n",
    "\n",
    "3) net_profit is the profit gained from a single well"
   ]
  },
  {
   "cell_type": "markdown",
   "metadata": {},
   "source": [
    "### Calculate the volume of reserves sufficient for developing a new well without losses. Compare the obtained value with the average volume of reserves in each region."
   ]
  },
  {
   "cell_type": "code",
   "execution_count": 23,
   "metadata": {},
   "outputs": [
    {
     "name": "stdout",
     "output_type": "stream",
     "text": [
      "Region 1 average volume: [92.72476770114889] Units needed to offset: 111\n",
      "Region 2 average volume: [68.57155922956488] Units needed to offset: 111\n",
      "Region 3 average volume: [94.69860451155928] Units needed to offset: 111\n"
     ]
    }
   ],
   "source": [
    "#Reserves needed to offset costs\n",
    "offset = cost_of_goods/unit_rev #cost of a well/revenue of one unit\n",
    "\n",
    "print('Region 1 average volume:', avg_1, 'Units needed to offset:', int(offset))\n",
    "print('Region 2 average volume:', avg_2, 'Units needed to offset:', int(offset))\n",
    "print('Region 3 average volume:', avg_3, 'Units needed to offset:', int(offset))"
   ]
  },
  {
   "cell_type": "markdown",
   "metadata": {},
   "source": [
    "#### Conclusion: Offset Calculations\n",
    "\n",
    "1) The average volume produced in each region is insufficient to offset the costs of creating a single well \n",
    "\n",
    "2) Example: 92 units are estimated to be made for region 1, however, 111 are needed at minimum to break even for the cost of producing the well "
   ]
  },
  {
   "cell_type": "markdown",
   "metadata": {},
   "source": [
    "## Write a function to calculate profit from a set of selected oil wells and model predictions:\n",
    "\n",
    "4.1 Pick the wells with the highest values of predictions. Summarize the target volume of reserves in accordance with these predictions\n",
    "\n",
    "4.2 Provide findings: suggest a region for oil wells' development and justify the choice. Calculate the profit for the obtained volume of reserves"
   ]
  },
  {
   "cell_type": "markdown",
   "metadata": {},
   "source": [
    "### Pick the wells with the highest values of predictions. Summarize the target volume of reserves in accordance with these predictions"
   ]
  },
  {
   "cell_type": "code",
   "execution_count": 24,
   "metadata": {},
   "outputs": [
    {
     "data": {
      "text/html": [
       "<div>\n",
       "<style scoped>\n",
       "    .dataframe tbody tr th:only-of-type {\n",
       "        vertical-align: middle;\n",
       "    }\n",
       "\n",
       "    .dataframe tbody tr th {\n",
       "        vertical-align: top;\n",
       "    }\n",
       "\n",
       "    .dataframe thead th {\n",
       "        text-align: right;\n",
       "    }\n",
       "</style>\n",
       "<table border=\"1\" class=\"dataframe\">\n",
       "  <thead>\n",
       "    <tr style=\"text-align: right;\">\n",
       "      <th></th>\n",
       "      <th>predictions</th>\n",
       "      <th>answers</th>\n",
       "    </tr>\n",
       "  </thead>\n",
       "  <tbody>\n",
       "    <tr>\n",
       "      <td>22463</td>\n",
       "      <td>125.360223</td>\n",
       "      <td>73.589297</td>\n",
       "    </tr>\n",
       "    <tr>\n",
       "      <td>23217</td>\n",
       "      <td>89.210920</td>\n",
       "      <td>105.153834</td>\n",
       "    </tr>\n",
       "    <tr>\n",
       "      <td>20348</td>\n",
       "      <td>89.877662</td>\n",
       "      <td>65.965798</td>\n",
       "    </tr>\n",
       "    <tr>\n",
       "      <td>14636</td>\n",
       "      <td>108.146739</td>\n",
       "      <td>114.213096</td>\n",
       "    </tr>\n",
       "    <tr>\n",
       "      <td>12729</td>\n",
       "      <td>81.692075</td>\n",
       "      <td>179.593681</td>\n",
       "    </tr>\n",
       "  </tbody>\n",
       "</table>\n",
       "</div>"
      ],
      "text/plain": [
       "       predictions     answers\n",
       "22463   125.360223   73.589297\n",
       "23217    89.210920  105.153834\n",
       "20348    89.877662   65.965798\n",
       "14636   108.146739  114.213096\n",
       "12729    81.692075  179.593681"
      ]
     },
     "metadata": {},
     "output_type": "display_data"
    },
    {
     "data": {
      "text/html": [
       "<div>\n",
       "<style scoped>\n",
       "    .dataframe tbody tr th:only-of-type {\n",
       "        vertical-align: middle;\n",
       "    }\n",
       "\n",
       "    .dataframe tbody tr th {\n",
       "        vertical-align: top;\n",
       "    }\n",
       "\n",
       "    .dataframe thead th {\n",
       "        text-align: right;\n",
       "    }\n",
       "</style>\n",
       "<table border=\"1\" class=\"dataframe\">\n",
       "  <thead>\n",
       "    <tr style=\"text-align: right;\">\n",
       "      <th></th>\n",
       "      <th>predictions</th>\n",
       "      <th>answers</th>\n",
       "    </tr>\n",
       "  </thead>\n",
       "  <tbody>\n",
       "    <tr>\n",
       "      <td>16431</td>\n",
       "      <td>56.208620</td>\n",
       "      <td>57.085625</td>\n",
       "    </tr>\n",
       "    <tr>\n",
       "      <td>16585</td>\n",
       "      <td>55.459858</td>\n",
       "      <td>57.085625</td>\n",
       "    </tr>\n",
       "    <tr>\n",
       "      <td>15081</td>\n",
       "      <td>83.975078</td>\n",
       "      <td>84.038886</td>\n",
       "    </tr>\n",
       "    <tr>\n",
       "      <td>13494</td>\n",
       "      <td>56.988963</td>\n",
       "      <td>57.085625</td>\n",
       "    </tr>\n",
       "    <tr>\n",
       "      <td>20297</td>\n",
       "      <td>55.491908</td>\n",
       "      <td>57.085625</td>\n",
       "    </tr>\n",
       "  </tbody>\n",
       "</table>\n",
       "</div>"
      ],
      "text/plain": [
       "       predictions    answers\n",
       "16431    56.208620  57.085625\n",
       "16585    55.459858  57.085625\n",
       "15081    83.975078  84.038886\n",
       "13494    56.988963  57.085625\n",
       "20297    55.491908  57.085625"
      ]
     },
     "metadata": {},
     "output_type": "display_data"
    },
    {
     "data": {
      "text/html": [
       "<div>\n",
       "<style scoped>\n",
       "    .dataframe tbody tr th:only-of-type {\n",
       "        vertical-align: middle;\n",
       "    }\n",
       "\n",
       "    .dataframe tbody tr th {\n",
       "        vertical-align: top;\n",
       "    }\n",
       "\n",
       "    .dataframe thead th {\n",
       "        text-align: right;\n",
       "    }\n",
       "</style>\n",
       "<table border=\"1\" class=\"dataframe\">\n",
       "  <thead>\n",
       "    <tr style=\"text-align: right;\">\n",
       "      <th></th>\n",
       "      <th>predictions</th>\n",
       "      <th>answers</th>\n",
       "    </tr>\n",
       "  </thead>\n",
       "  <tbody>\n",
       "    <tr>\n",
       "      <td>21157</td>\n",
       "      <td>52.134962</td>\n",
       "      <td>23.729242</td>\n",
       "    </tr>\n",
       "    <tr>\n",
       "      <td>3925</td>\n",
       "      <td>60.901785</td>\n",
       "      <td>52.059385</td>\n",
       "    </tr>\n",
       "    <tr>\n",
       "      <td>11524</td>\n",
       "      <td>97.436514</td>\n",
       "      <td>106.583564</td>\n",
       "    </tr>\n",
       "    <tr>\n",
       "      <td>6153</td>\n",
       "      <td>123.844100</td>\n",
       "      <td>105.676864</td>\n",
       "    </tr>\n",
       "    <tr>\n",
       "      <td>20905</td>\n",
       "      <td>127.911035</td>\n",
       "      <td>149.490518</td>\n",
       "    </tr>\n",
       "  </tbody>\n",
       "</table>\n",
       "</div>"
      ],
      "text/plain": [
       "       predictions     answers\n",
       "21157    52.134962   23.729242\n",
       "3925     60.901785   52.059385\n",
       "11524    97.436514  106.583564\n",
       "6153    123.844100  105.676864\n",
       "20905   127.911035  149.490518"
      ]
     },
     "metadata": {},
     "output_type": "display_data"
    }
   ],
   "source": [
    "#the wells are identified via index, therefore the df's will not be merged\n",
    "key_1 = key_1.sort_values(by='predictions', ascending=False)\n",
    "key_2 = key_2.sort_values(by='predictions', ascending=False)\n",
    "key_3 = key_3.sort_values(by='predictions', ascending=False)\n",
    "\n",
    "display(key_1.sample(5), key_2.sample(5), key_3.sample(5))"
   ]
  },
  {
   "cell_type": "markdown",
   "metadata": {},
   "source": [
    "#### Conclusion: Picking Wells with Highest Predictive Value \n",
    "\n",
    "1) The top 5 wells for each region have been chosen and are identified via index number\n",
    "\n",
    "2) Region 2 had the most accurate top predictions when compared to the the target\n",
    "\n",
    "3) Region 3's top prediction was also the least accurate when compared to the target\n",
    "\n",
    "4) Region 1's top predictions were not as accurate as region 2's predictions, but did not make as big of mistake as region 3's top prediction\n",
    "\n",
    "5) Overall, the top predictions volume and target volumes both surpass the average volume needed to be produced in order to offset the costs of well construction (at least 111 units for 1 well)"
   ]
  },
  {
   "cell_type": "markdown",
   "metadata": {},
   "source": [
    "### Provide findings: suggest a region for oil wells' development and justify the choice. Calculate the profit for the obtained volume of reserves"
   ]
  },
  {
   "cell_type": "code",
   "execution_count": 25,
   "metadata": {},
   "outputs": [],
   "source": [
    "#calculation variable list\n",
    "dev_budget = 100000000 #100 million used\n",
    "well_budget = 200 #max wells for budget\n",
    "barrel_rev = 4.5 #usd/1 barrel\n",
    "unit = 1000 #number of barrels\n",
    "unit_rev = 4500 #usd/1 unit\n",
    "cost_of_goods = dev_budget/well_budget\n",
    "\n",
    "#revenue = unit_rev * preds[i] -- iterating over the top_preds index in a loop\n",
    "\n",
    "#net_profit = revenue - cost_of_goods #no known operating expenses or taxes/loans provided"
   ]
  },
  {
   "cell_type": "code",
   "execution_count": 26,
   "metadata": {},
   "outputs": [],
   "source": [
    "# a function that gets a dataframe of wells product volume(predicted and true target), the number of the highest volume wells and the profit margin.\n",
    "# returns the profit from the wells provided(predicted and true target).\n",
    "\n",
    "def profit_calculation(wells_df, profit, amount):\n",
    "    \n",
    "    # sorting the rows by the highest predictions, and keeping the first X rows according to the amount variable.\n",
    "    wells_df = wells_df.sort_values(by=['predictions'], ascending=False).head(amount)\n",
    "    \n",
    "    # summing product column.\n",
    "    product_sum = wells_df['answers'].sum()\n",
    "    \n",
    "    # summing predicted column.\n",
    "    predicted_sum = wells_df['predictions'].sum()\n",
    "    \n",
    "    # calculating true revenue.\n",
    "    revenue = product_sum * profit\n",
    "    \n",
    "    # calculating predicted revenue.\n",
    "    predicted_revenue = predicted_sum * profit\n",
    "    \n",
    "    # calculating true profit.\n",
    "    profit = revenue - 100000000\n",
    "    \n",
    "    # calculating true profit.\n",
    "    predicted_profit = predicted_revenue - 100000000\n",
    "    \n",
    "    return profit, predicted_profit    "
   ]
  },
  {
   "cell_type": "code",
   "execution_count": 27,
   "metadata": {},
   "outputs": [
    {
     "data": {
      "text/plain": [
       "(33469055.364543244, 37304249.84318274)"
      ]
     },
     "metadata": {},
     "output_type": "display_data"
    },
    {
     "data": {
      "text/plain": [
       "(24150866.966815114, 24848881.039358437)"
      ]
     },
     "metadata": {},
     "output_type": "display_data"
    },
    {
     "data": {
      "text/plain": [
       "(24751509.201871946, 29959958.681036994)"
      ]
     },
     "metadata": {},
     "output_type": "display_data"
    }
   ],
   "source": [
    "display(profit_calculation(wells_df = key_1, profit = 4500, amount = 200),\n",
    "        profit_calculation(wells_df = key_2, profit = 4500, amount = 200),\n",
    "        profit_calculation(wells_df = key_3, profit = 4500, amount = 200))"
   ]
  },
  {
   "cell_type": "markdown",
   "metadata": {},
   "source": [
    "#### Conclusion: Profit for Obtained Volume Reserves\n",
    "\n",
    "1) In summation of the predicted number of oil wells' net profit generation, region 1 was found to be the most profitable region at 37.3 million USD compared to 29.9 and 24.8 million USD for regions 3 and 2 respectively\n",
    "\n",
    "2) Even predicted profit answers (1st column) is consistant with the findings of region 1 being the most profitable region"
   ]
  },
  {
   "cell_type": "markdown",
   "metadata": {},
   "source": [
    "### Calculate risks and profit for each region:\n",
    "\n",
    "5.1 Use the bootstrapping technique with 1000 samples to find the distribution of profit\n",
    "\n",
    "5.2 Find average profit, 95% confidence interval and risk of losses. Loss is negative profit, calculate it as a probability and then express as a percentage\n",
    "\n",
    "5.3 Provide findings: suggest a region for development of oil wells and justify the choice"
   ]
  },
  {
   "cell_type": "markdown",
   "metadata": {},
   "source": [
    "### Use the bootstrapping technique with 1000 samples to find the distribution of profit"
   ]
  },
  {
   "cell_type": "code",
   "execution_count": 28,
   "metadata": {
    "scrolled": true
   },
   "outputs": [],
   "source": [
    "# a function that creates a pseudo subsample of data X times with replacment in a given random state.\n",
    "# the function gets -  a dataframe and amount of repetition.\n",
    "# it returns -  a dataframe of the profits of the highest 200 predicted wells.\n",
    "\n",
    "def bootstrap_profit(df, amount):\n",
    "    # random state\n",
    "    state = np.random.RandomState(12345)\n",
    "    \n",
    "    # creating empty dataframa and list.\n",
    "    target_subsample = pd.DataFrame(columns = ['answers', 'predictions'])\n",
    "    df_highest_wells_profit = []\n",
    "    \n",
    "    # creating a random subsample, 500 in size, picking the 200 highest predicted wells, claculating profit\n",
    "    # and appending to the list we created.\n",
    "    for i in range(amount):   \n",
    "        target_subsample = df.sample(n=500, replace=True, random_state=state)\n",
    "        profit = profit_calculation(wells_df = target_subsample, profit = 4500, amount = 200)\n",
    "        df_highest_wells_profit.append(profit)\n",
    "    \n",
    "    # converting the list to dataframe.\n",
    "    return pd.DataFrame(df_highest_wells_profit, columns = ['answers', 'predictions'])\n",
    "    "
   ]
  },
  {
   "cell_type": "code",
   "execution_count": 29,
   "metadata": {},
   "outputs": [],
   "source": [
    "# a function that creates two distribution subplots, for true product values and predicted values.\n",
    "# the function gets -  dataframe, the geo-location and size of the subplot.\n",
    "# it returns -  a subplot with 2 distribution plots for true product values and predicted values.\n",
    "\n",
    "def dist_plot(df, location, size):\n",
    "    # creating a subplot of 1 row and 2 columns, assigning size and sharing X and Y axes between them.\n",
    "    fig, axes = plt.subplots(1, 2, figsize = (size), sharey=True, sharex=True)\n",
    "    \n",
    "    # plots\n",
    "    sns.histplot(data=df['answers'], ax=axes[0])\n",
    "    sns.histplot(data=df['predictions'], ax=axes[1])\n",
    "    \n",
    "    # esthetics\n",
    "    axes[0].set(xlabel='Profit (in mil $)', ylabel='Frequecy');\n",
    "    axes[0].set(title='Region {} Distribution of True Profit'.format(location));\n",
    "    axes[1].set(xlabel='Profit (in mil $)', ylabel='Frequecy');\n",
    "    axes[1].set(title='Region {} Distribution of Predicted Profit'.format(location));\n",
    "    \n",
    "    plt.show()"
   ]
  },
  {
   "cell_type": "code",
   "execution_count": 30,
   "metadata": {},
   "outputs": [],
   "source": [
    "regions = [\n",
    "           key_1, \n",
    "           key_2, \n",
    "           key_3\n",
    "          ]"
   ]
  },
  {
   "cell_type": "code",
   "execution_count": 31,
   "metadata": {},
   "outputs": [],
   "source": [
    "# using for loop to calculate the bootstrap_profit, the average profit, confidence interval, and risk of losses.\n",
    "\n",
    "# creating an empty list.\n",
    "regions_profit = []\n",
    "\n",
    "# i for the naming scheme.\n",
    "i = 1\n",
    "\n",
    "for dfi in regions:\n",
    "    \n",
    "    # saving bootstrap_profit dataframe.\n",
    "    profit = bootstrap_profit(df = dfi, amount = 1000)\n",
    "    \n",
    "    # calculating confidence interval\n",
    "    confidence_interval = st.t.interval(\n",
    "                                        0.95, len(profit['answers'])-1, \n",
    "                                        loc=profit['answers'].mean(), \n",
    "                                        scale=st.sem(profit['answers'])\n",
    "                                       )\n",
    "    \n",
    "    # calculating risk of losses.\n",
    "    loss_risk = (profit['answers']<0).mean()\n",
    "    \n",
    "    # creating a dictionary to hold the information in accesible manner.\n",
    "    region_dict = {\n",
    "                    'name': 'reg_'+str(i),\n",
    "                    'profit_df': profit,\n",
    "                    'average_profit': profit.mean(),\n",
    "                    'confidence_interval': confidence_interval,\n",
    "                    'loss_risk': loss_risk\n",
    "                  }\n",
    "    \n",
    "    # i for the naming scheme + 1\n",
    "    i += 1\n",
    "    \n",
    "    # appending dictionay to the empty list.\n",
    "    regions_profit.append(region_dict)"
   ]
  },
  {
   "cell_type": "code",
   "execution_count": 34,
   "metadata": {},
   "outputs": [
    {
     "name": "stdout",
     "output_type": "stream",
     "text": [
      "Region 1\n"
     ]
    },
    {
     "data": {
      "image/png": "[encoded data removed]",
      "text/plain": [
       "<Figure size 864x360 with 2 Axes>"
      ]
     },
     "metadata": {
      "needs_background": "light"
     },
     "output_type": "display_data"
    },
    {
     "name": "stdout",
     "output_type": "stream",
     "text": [
      "Region 2\n"
     ]
    },
    {
     "data": {
      "image/png": "[encoded data removed]",
      "text/plain": [
       "<Figure size 864x360 with 2 Axes>"
      ]
     },
     "metadata": {
      "needs_background": "light"
     },
     "output_type": "display_data"
    },
    {
     "name": "stdout",
     "output_type": "stream",
     "text": [
      "Region 3\n"
     ]
    },
    {
     "data": {
      "image/png": "[encoded data removed]",
      "text/plain": [
       "<Figure size 864x360 with 2 Axes>"
      ]
     },
     "metadata": {
      "needs_background": "light"
     },
     "output_type": "display_data"
    }
   ],
   "source": [
    "r = 1\n",
    "for reg_dict in regions_profit:\n",
    "    print('Region '+str(r))\n",
    "    dist_plot(df = reg_dict['profit_df'], location = r,  size = [12, 5])\n",
    "    r += 1"
   ]
  },
  {
   "cell_type": "markdown",
   "metadata": {},
   "source": [
    "#### Conclusion: Bootstrapping Distributions\n",
    "\n",
    "1) The distributions for predicted profits in regions 1 and 3 vary greatly from the true profit distributions\n",
    "\n",
    "2) Region 2's predictions were the most accurate amongst all the models"
   ]
  },
  {
   "cell_type": "markdown",
   "metadata": {},
   "source": [
    "### Find average profit, 95% confidence interval and risk of losses. Loss is negative profit, calculate it as a probability and then express as a percentage"
   ]
  },
  {
   "cell_type": "code",
   "execution_count": 40,
   "metadata": {},
   "outputs": [
    {
     "name": "stdout",
     "output_type": "stream",
     "text": [
      "The Average Profit for Region1:\n",
      " True Profit: $ 3.69 mil.\n",
      " Pred Profit: $ 3.54 mil.\n",
      "\n",
      "The Average Profit for Region2:\n",
      " True Profit: $ 4.23 mil.\n",
      " Pred Profit: $ 4.2 mil.\n",
      "\n",
      "The Average Profit for Region3:\n",
      " True Profit: $ 3.28 mil.\n",
      " Pred Profit: $ 2.48 mil.\n",
      "\n"
     ]
    }
   ],
   "source": [
    "#Average Profit\n",
    "r = 1\n",
    "for reg_dict in regions_profit:\n",
    "    print('The Average Profit for Region'+str(r)+':\\n True Profit: $',round((reg_dict['average_profit'][0] / 1000000), 2),'mil.\\n Pred Profit: $',round((reg_dict['average_profit'][1] / 1000000), 2),'mil.')\n",
    "    r += 1\n",
    "    print()"
   ]
  },
  {
   "cell_type": "markdown",
   "metadata": {},
   "source": [
    "#### Conclusion: Average Profit\n",
    "\n",
    "1) Region 1 had the highest profit\n",
    "\n",
    "2) Region 1 also had the most identical values in true and predicted profit values"
   ]
  },
  {
   "cell_type": "code",
   "execution_count": 37,
   "metadata": {},
   "outputs": [
    {
     "name": "stdout",
     "output_type": "stream",
     "text": [
      "95% Confidence Interval Region1:\n",
      " Lower Bound: 3526336.35 \n",
      " Upper Bound: 3847030.25\n",
      "\n",
      "95% Confidence Interval Region2:\n",
      " Lower Bound: 4110452.78 \n",
      " Upper Bound: 4357729.27\n",
      "\n",
      "95% Confidence Interval Region3:\n",
      " Lower Bound: 3112531.38 \n",
      " Upper Bound: 3441200.6\n",
      "\n"
     ]
    }
   ],
   "source": [
    "r = 1\n",
    "for reg_dict in regions_profit:\n",
    "    print('95% Confidence Interval Region'+str(r)+':\\n Lower Bound:',\n",
    "          round(reg_dict['confidence_interval'][0], 2),'\\n Upper Bound:',\n",
    "          round(reg_dict['confidence_interval'][1], 2))    \n",
    "    r += 1\n",
    "    print()"
   ]
  },
  {
   "cell_type": "markdown",
   "metadata": {},
   "source": [
    "#### Conclusion: Confidence Interval\n",
    "\n",
    "1) Region 2 had the highest confidence interval\n",
    "\n",
    "2) Region 1 is the second best followed by region 3\n",
    "\n",
    "3) The estimates are closer for region 1 than the other two regions"
   ]
  },
  {
   "cell_type": "code",
   "execution_count": 39,
   "metadata": {},
   "outputs": [
    {
     "name": "stdout",
     "output_type": "stream",
     "text": [
      "Risk of Losses for Region 1: 8.40%\n",
      "\n",
      "Risk of Losses for Region 2: 1.80%\n",
      "\n",
      "Risk of Losses for Region 3: 10.60%\n",
      "\n"
     ]
    }
   ],
   "source": [
    "r = 1\n",
    "for reg_dict in regions_profit:\n",
    "    print('Risk of Losses for Region '+str(r)+': {:.2%}'.format(reg_dict['loss_risk']))\n",
    "    r += 1\n",
    "    print()"
   ]
  },
  {
   "cell_type": "markdown",
   "metadata": {},
   "source": [
    "#### Conclusion: Risk Level\n",
    "\n",
    "1) Region 2 has the lowest risk\n",
    "\n",
    "2) Region 3 has the highest risk"
   ]
  },
  {
   "cell_type": "markdown",
   "metadata": {},
   "source": [
    "### Provide findings: suggest a region for development of oil wells and justify the choice"
   ]
  },
  {
   "cell_type": "markdown",
   "metadata": {},
   "source": [
    "**Region 1**\n",
    "\n",
    "1) This region was second best in average profit, not as accurate as region 2 though\n",
    "\n",
    "2) This seemed to be the middle choice between risk level and confidence intervals among the 3 regions\n",
    "\n",
    "**Region 2**\n",
    "\n",
    "1) This region had the highest average profit and the closest to the true value for average profit\n",
    "\n",
    "2) Region 2 was considered to have the lowest risk and best confidence interval\n",
    "\n",
    "**Region 3**\n",
    "\n",
    "1) Region 2 had the highest risk of loss, worst confidence interval, and lowest average profit\n",
    "\n"
   ]
  },
  {
   "cell_type": "markdown",
   "metadata": {},
   "source": [
    "## General Conclusion\n",
    "\n",
    "1) Overall, OilyGiant should choose to use is region 2. It outperformed the other 2 in every metric evaluation. This should lead to high profit yields in the future.\n",
    "\n",
    "2) The second best option would be to use region 1, as it was the middle choice."
   ]
  },
  {
   "cell_type": "code",
   "execution_count": null,
   "metadata": {},
   "outputs": [],
   "source": []
  }
 ],
 "metadata": {
  "ExecuteTimeLog": [
   {
    "duration": 215,
    "start_time": "2021-12-12T18:56:40.489Z"
   },
   {
    "duration": 1098,
    "start_time": "2021-12-12T18:56:52.999Z"
   },
   {
    "duration": 3638,
    "start_time": "2021-12-12T18:56:54.099Z"
   },
   {
    "duration": 402,
    "start_time": "2021-12-12T18:57:26.182Z"
   },
   {
    "duration": 26,
    "start_time": "2021-12-12T19:02:50.948Z"
   },
   {
    "duration": 314,
    "start_time": "2021-12-12T19:08:12.482Z"
   },
   {
    "duration": 255,
    "start_time": "2021-12-12T23:44:19.647Z"
   },
   {
    "duration": 996,
    "start_time": "2021-12-12T23:44:28.202Z"
   },
   {
    "duration": 384,
    "start_time": "2021-12-12T23:44:29.200Z"
   },
   {
    "duration": 32,
    "start_time": "2021-12-12T23:44:29.587Z"
   },
   {
    "duration": 307,
    "start_time": "2021-12-12T23:44:29.621Z"
   },
   {
    "duration": 167,
    "start_time": "2021-12-12T23:45:01.842Z"
   },
   {
    "duration": 69,
    "start_time": "2021-12-13T00:09:40.584Z"
   },
   {
    "duration": 242,
    "start_time": "2021-12-13T00:25:31.798Z"
   },
   {
    "duration": 13,
    "start_time": "2021-12-13T00:46:08.168Z"
   },
   {
    "duration": 943,
    "start_time": "2021-12-13T01:52:08.241Z"
   },
   {
    "duration": 346,
    "start_time": "2021-12-13T01:52:09.187Z"
   },
   {
    "duration": 22,
    "start_time": "2021-12-13T01:52:09.535Z"
   },
   {
    "duration": 183,
    "start_time": "2021-12-13T01:52:09.559Z"
   },
   {
    "duration": 16,
    "start_time": "2021-12-13T01:52:09.744Z"
   },
   {
    "duration": 61,
    "start_time": "2021-12-13T01:52:09.762Z"
   },
   {
    "duration": 344,
    "start_time": "2021-12-13T01:52:09.824Z"
   },
   {
    "duration": 77,
    "start_time": "2021-12-13T01:52:38.920Z"
   },
   {
    "duration": 303,
    "start_time": "2021-12-13T01:53:54.974Z"
   },
   {
    "duration": 310,
    "start_time": "2021-12-13T01:55:43.450Z"
   },
   {
    "duration": 356,
    "start_time": "2021-12-13T01:55:58.275Z"
   },
   {
    "duration": 358,
    "start_time": "2021-12-13T01:56:04.196Z"
   },
   {
    "duration": 77,
    "start_time": "2021-12-13T01:59:21.186Z"
   },
   {
    "duration": 85,
    "start_time": "2021-12-13T01:59:35.256Z"
   },
   {
    "duration": 337,
    "start_time": "2021-12-13T02:01:41.919Z"
   },
   {
    "duration": 340,
    "start_time": "2021-12-13T02:03:02.631Z"
   },
   {
    "duration": 290,
    "start_time": "2021-12-13T02:03:51.871Z"
   },
   {
    "duration": 31,
    "start_time": "2021-12-13T02:04:08.667Z"
   },
   {
    "duration": 306,
    "start_time": "2021-12-13T02:08:12.019Z"
   },
   {
    "duration": 155,
    "start_time": "2021-12-13T02:09:16.134Z"
   },
   {
    "duration": 156,
    "start_time": "2021-12-13T02:11:44.437Z"
   },
   {
    "duration": 152,
    "start_time": "2021-12-13T02:11:57.337Z"
   },
   {
    "duration": 294,
    "start_time": "2021-12-13T02:15:37.801Z"
   },
   {
    "duration": 371,
    "start_time": "2021-12-13T02:16:55.924Z"
   },
   {
    "duration": 1049,
    "start_time": "2021-12-13T02:17:20.673Z"
   },
   {
    "duration": 350,
    "start_time": "2021-12-13T02:17:21.724Z"
   },
   {
    "duration": 31,
    "start_time": "2021-12-13T02:17:22.076Z"
   },
   {
    "duration": 182,
    "start_time": "2021-12-13T02:17:22.108Z"
   },
   {
    "duration": 15,
    "start_time": "2021-12-13T02:17:22.292Z"
   },
   {
    "duration": 50,
    "start_time": "2021-12-13T02:17:22.308Z"
   },
   {
    "duration": 434,
    "start_time": "2021-12-13T02:17:22.360Z"
   },
   {
    "duration": 6,
    "start_time": "2021-12-13T02:18:03.065Z"
   },
   {
    "duration": 73,
    "start_time": "2021-12-13T02:18:45.021Z"
   },
   {
    "duration": 129,
    "start_time": "2021-12-13T02:19:41.361Z"
   },
   {
    "duration": 212,
    "start_time": "2021-12-13T02:21:37.279Z"
   },
   {
    "duration": 167,
    "start_time": "2021-12-13T02:23:05.022Z"
   },
   {
    "duration": 318,
    "start_time": "2021-12-13T02:23:22.476Z"
   },
   {
    "duration": 1026,
    "start_time": "2021-12-13T02:24:26.295Z"
   },
   {
    "duration": 357,
    "start_time": "2021-12-13T02:24:27.323Z"
   },
   {
    "duration": 28,
    "start_time": "2021-12-13T02:24:27.681Z"
   },
   {
    "duration": 195,
    "start_time": "2021-12-13T02:24:27.711Z"
   },
   {
    "duration": 17,
    "start_time": "2021-12-13T02:24:27.907Z"
   },
   {
    "duration": 64,
    "start_time": "2021-12-13T02:24:27.926Z"
   },
   {
    "duration": 4,
    "start_time": "2021-12-13T02:24:27.992Z"
   },
   {
    "duration": 391,
    "start_time": "2021-12-13T02:24:27.997Z"
   },
   {
    "duration": 272,
    "start_time": "2021-12-13T02:27:06.418Z"
   },
   {
    "duration": 525,
    "start_time": "2021-12-13T02:30:18.599Z"
   },
   {
    "duration": 93,
    "start_time": "2021-12-13T02:33:46.464Z"
   },
   {
    "duration": 327,
    "start_time": "2021-12-13T02:33:55.024Z"
   },
   {
    "duration": 170,
    "start_time": "2021-12-13T02:34:17.618Z"
   },
   {
    "duration": 200,
    "start_time": "2021-12-13T02:35:06.688Z"
   },
   {
    "duration": 84,
    "start_time": "2021-12-13T02:35:20.601Z"
   },
   {
    "duration": 138,
    "start_time": "2021-12-13T02:35:28.557Z"
   },
   {
    "duration": 364,
    "start_time": "2021-12-13T02:40:51.129Z"
   },
   {
    "duration": 992,
    "start_time": "2021-12-13T02:41:20.093Z"
   },
   {
    "duration": 354,
    "start_time": "2021-12-13T02:41:21.088Z"
   },
   {
    "duration": 23,
    "start_time": "2021-12-13T02:41:21.444Z"
   },
   {
    "duration": 178,
    "start_time": "2021-12-13T02:41:21.469Z"
   },
   {
    "duration": 15,
    "start_time": "2021-12-13T02:41:21.649Z"
   },
   {
    "duration": 63,
    "start_time": "2021-12-13T02:41:21.665Z"
   },
   {
    "duration": 4,
    "start_time": "2021-12-13T02:41:21.729Z"
   },
   {
    "duration": 455,
    "start_time": "2021-12-13T02:41:21.735Z"
   },
   {
    "duration": 5,
    "start_time": "2021-12-13T02:55:03.632Z"
   },
   {
    "duration": 325,
    "start_time": "2021-12-13T02:57:16.485Z"
   },
   {
    "duration": 15,
    "start_time": "2021-12-13T02:58:57.425Z"
   },
   {
    "duration": 12,
    "start_time": "2021-12-13T03:01:45.746Z"
   },
   {
    "duration": 2,
    "start_time": "2021-12-13T03:33:18.098Z"
   },
   {
    "duration": 4,
    "start_time": "2021-12-13T04:47:03.030Z"
   },
   {
    "duration": 4,
    "start_time": "2021-12-13T04:56:16.689Z"
   },
   {
    "duration": 4,
    "start_time": "2021-12-13T04:56:52.426Z"
   },
   {
    "duration": 10,
    "start_time": "2021-12-13T04:57:41.296Z"
   },
   {
    "duration": 236,
    "start_time": "2021-12-13T05:03:27.017Z"
   },
   {
    "duration": 229,
    "start_time": "2021-12-13T05:03:38.178Z"
   },
   {
    "duration": 79,
    "start_time": "2021-12-13T05:03:50.221Z"
   },
   {
    "duration": 4,
    "start_time": "2021-12-13T05:03:52.543Z"
   },
   {
    "duration": 613,
    "start_time": "2021-12-13T05:04:35.135Z"
   },
   {
    "duration": 244,
    "start_time": "2021-12-13T05:05:22.457Z"
   },
   {
    "duration": 4,
    "start_time": "2021-12-13T05:05:29.177Z"
   },
   {
    "duration": 260,
    "start_time": "2021-12-13T05:07:34.915Z"
   },
   {
    "duration": 13,
    "start_time": "2021-12-13T05:08:55.483Z"
   },
   {
    "duration": 4,
    "start_time": "2021-12-13T05:11:40.243Z"
   },
   {
    "duration": 6,
    "start_time": "2021-12-13T05:12:25.628Z"
   },
   {
    "duration": 9,
    "start_time": "2021-12-13T05:14:17.654Z"
   },
   {
    "duration": 11,
    "start_time": "2021-12-13T05:15:15.724Z"
   },
   {
    "duration": 5,
    "start_time": "2021-12-13T05:15:24.602Z"
   },
   {
    "duration": 11,
    "start_time": "2021-12-13T05:32:41.868Z"
   },
   {
    "duration": 282,
    "start_time": "2021-12-13T05:40:57.959Z"
   },
   {
    "duration": 6,
    "start_time": "2021-12-13T05:41:04.205Z"
   },
   {
    "duration": 244,
    "start_time": "2021-12-13T05:44:50.145Z"
   },
   {
    "duration": 301,
    "start_time": "2021-12-13T05:45:55.820Z"
   },
   {
    "duration": 988,
    "start_time": "2021-12-13T05:46:10.133Z"
   },
   {
    "duration": 351,
    "start_time": "2021-12-13T05:46:11.123Z"
   },
   {
    "duration": 27,
    "start_time": "2021-12-13T05:46:11.475Z"
   },
   {
    "duration": 197,
    "start_time": "2021-12-13T05:46:11.504Z"
   },
   {
    "duration": 17,
    "start_time": "2021-12-13T05:46:11.702Z"
   },
   {
    "duration": 70,
    "start_time": "2021-12-13T05:46:11.721Z"
   },
   {
    "duration": 4,
    "start_time": "2021-12-13T05:46:11.793Z"
   },
   {
    "duration": 399,
    "start_time": "2021-12-13T05:46:11.799Z"
   },
   {
    "duration": 10,
    "start_time": "2021-12-13T05:46:12.199Z"
   },
   {
    "duration": 4,
    "start_time": "2021-12-13T05:46:12.210Z"
   },
   {
    "duration": 12,
    "start_time": "2021-12-13T05:46:12.215Z"
   },
   {
    "duration": 360,
    "start_time": "2021-12-13T05:46:12.229Z"
   },
   {
    "duration": 386,
    "start_time": "2021-12-13T05:47:20.023Z"
   },
   {
    "duration": 250,
    "start_time": "2021-12-13T05:48:28.419Z"
   },
   {
    "duration": 251,
    "start_time": "2021-12-13T05:49:00.197Z"
   },
   {
    "duration": 9,
    "start_time": "2021-12-13T05:52:52.315Z"
   },
   {
    "duration": 7,
    "start_time": "2021-12-13T05:59:22.112Z"
   },
   {
    "duration": 14,
    "start_time": "2021-12-13T06:01:20.252Z"
   },
   {
    "duration": 15,
    "start_time": "2021-12-13T06:05:12.939Z"
   },
   {
    "duration": 249,
    "start_time": "2021-12-13T06:06:16.726Z"
   },
   {
    "duration": 187,
    "start_time": "2021-12-13T06:09:08.257Z"
   },
   {
    "duration": 80,
    "start_time": "2021-12-13T06:09:37.283Z"
   },
   {
    "duration": 14,
    "start_time": "2021-12-13T06:09:47.792Z"
   },
   {
    "duration": 20,
    "start_time": "2021-12-13T06:10:49.523Z"
   },
   {
    "duration": 21,
    "start_time": "2021-12-13T06:11:02.021Z"
   },
   {
    "duration": 1080,
    "start_time": "2021-12-13T06:11:15.116Z"
   },
   {
    "duration": 361,
    "start_time": "2021-12-13T06:11:16.198Z"
   },
   {
    "duration": 33,
    "start_time": "2021-12-13T06:11:16.561Z"
   },
   {
    "duration": 192,
    "start_time": "2021-12-13T06:11:16.596Z"
   },
   {
    "duration": 19,
    "start_time": "2021-12-13T06:11:16.789Z"
   },
   {
    "duration": 81,
    "start_time": "2021-12-13T06:11:16.810Z"
   },
   {
    "duration": 5,
    "start_time": "2021-12-13T06:11:16.892Z"
   },
   {
    "duration": 400,
    "start_time": "2021-12-13T06:11:16.899Z"
   },
   {
    "duration": 11,
    "start_time": "2021-12-13T06:11:17.301Z"
   },
   {
    "duration": 4,
    "start_time": "2021-12-13T06:11:17.313Z"
   },
   {
    "duration": 8,
    "start_time": "2021-12-13T06:11:17.318Z"
   },
   {
    "duration": 22,
    "start_time": "2021-12-13T06:11:17.327Z"
   },
   {
    "duration": 21,
    "start_time": "2021-12-13T06:13:55.837Z"
   },
   {
    "duration": 9896,
    "start_time": "2021-12-13T06:26:00.854Z"
   },
   {
    "duration": 1136,
    "start_time": "2021-12-13T06:26:29.252Z"
   },
   {
    "duration": 369,
    "start_time": "2021-12-13T06:26:30.389Z"
   },
   {
    "duration": 33,
    "start_time": "2021-12-13T06:26:30.760Z"
   },
   {
    "duration": 208,
    "start_time": "2021-12-13T06:26:30.795Z"
   },
   {
    "duration": 1109,
    "start_time": "2021-12-13T06:27:16.691Z"
   },
   {
    "duration": 361,
    "start_time": "2021-12-13T06:27:17.802Z"
   },
   {
    "duration": 35,
    "start_time": "2021-12-13T06:27:18.165Z"
   },
   {
    "duration": 200,
    "start_time": "2021-12-13T06:27:18.202Z"
   },
   {
    "duration": 326,
    "start_time": "2021-12-13T06:39:49.345Z"
   },
   {
    "duration": 1292,
    "start_time": "2021-12-13T06:40:02.766Z"
   },
   {
    "duration": 350,
    "start_time": "2021-12-13T06:40:04.060Z"
   },
   {
    "duration": 26,
    "start_time": "2021-12-13T06:40:04.413Z"
   },
   {
    "duration": 326,
    "start_time": "2021-12-13T06:40:04.441Z"
   },
   {
    "duration": 280,
    "start_time": "2021-12-13T06:44:45.940Z"
   },
   {
    "duration": 1404,
    "start_time": "2021-12-13T06:44:52.556Z"
   },
   {
    "duration": 439,
    "start_time": "2021-12-13T06:44:53.963Z"
   },
   {
    "duration": 31,
    "start_time": "2021-12-13T06:44:54.404Z"
   },
   {
    "duration": 277,
    "start_time": "2021-12-13T06:44:54.436Z"
   },
   {
    "duration": 380,
    "start_time": "2021-12-13T06:46:42.490Z"
   },
   {
    "duration": 1085,
    "start_time": "2021-12-13T06:46:49.795Z"
   },
   {
    "duration": 352,
    "start_time": "2021-12-13T06:46:50.882Z"
   },
   {
    "duration": 23,
    "start_time": "2021-12-13T06:46:51.236Z"
   },
   {
    "duration": 200,
    "start_time": "2021-12-13T06:46:51.261Z"
   },
   {
    "duration": 342,
    "start_time": "2021-12-13T23:28:14.780Z"
   },
   {
    "duration": 1462,
    "start_time": "2021-12-13T23:28:27.421Z"
   },
   {
    "duration": 524,
    "start_time": "2021-12-13T23:28:28.886Z"
   },
   {
    "duration": 61,
    "start_time": "2021-12-13T23:28:29.414Z"
   },
   {
    "duration": 296,
    "start_time": "2021-12-13T23:28:29.479Z"
   },
   {
    "duration": 32,
    "start_time": "2021-12-13T23:28:29.778Z"
   },
   {
    "duration": 106,
    "start_time": "2021-12-13T23:28:29.812Z"
   },
   {
    "duration": 6,
    "start_time": "2021-12-13T23:28:29.920Z"
   },
   {
    "duration": 528,
    "start_time": "2021-12-13T23:28:29.966Z"
   },
   {
    "duration": 17,
    "start_time": "2021-12-13T23:28:30.497Z"
   },
   {
    "duration": 23,
    "start_time": "2021-12-13T23:28:30.516Z"
   },
   {
    "duration": 37,
    "start_time": "2021-12-13T23:28:30.541Z"
   },
   {
    "duration": 55,
    "start_time": "2021-12-13T23:28:30.580Z"
   },
   {
    "duration": 8,
    "start_time": "2021-12-13T23:33:53.645Z"
   },
   {
    "duration": 8,
    "start_time": "2021-12-13T23:34:06.043Z"
   },
   {
    "duration": 37,
    "start_time": "2021-12-13T23:37:53.934Z"
   },
   {
    "duration": 444,
    "start_time": "2021-12-13T23:41:39.121Z"
   },
   {
    "duration": 276,
    "start_time": "2021-12-13T23:43:02.835Z"
   },
   {
    "duration": 281,
    "start_time": "2021-12-13T23:43:42.223Z"
   },
   {
    "duration": 762,
    "start_time": "2021-12-13T23:44:46.166Z"
   },
   {
    "duration": 291,
    "start_time": "2021-12-13T23:45:53.284Z"
   },
   {
    "duration": 1528,
    "start_time": "2021-12-13T23:47:41.407Z"
   },
   {
    "duration": 530,
    "start_time": "2021-12-13T23:47:42.938Z"
   },
   {
    "duration": 39,
    "start_time": "2021-12-13T23:47:43.471Z"
   },
   {
    "duration": 293,
    "start_time": "2021-12-13T23:47:43.513Z"
   },
   {
    "duration": 31,
    "start_time": "2021-12-13T23:47:43.808Z"
   },
   {
    "duration": 128,
    "start_time": "2021-12-13T23:47:43.841Z"
   },
   {
    "duration": 6,
    "start_time": "2021-12-13T23:47:43.971Z"
   },
   {
    "duration": 518,
    "start_time": "2021-12-13T23:47:43.980Z"
   },
   {
    "duration": 19,
    "start_time": "2021-12-13T23:47:44.501Z"
   },
   {
    "duration": 44,
    "start_time": "2021-12-13T23:47:44.524Z"
   },
   {
    "duration": 8,
    "start_time": "2021-12-13T23:47:44.571Z"
   },
   {
    "duration": 405,
    "start_time": "2021-12-13T23:47:44.581Z"
   },
   {
    "duration": 276,
    "start_time": "2021-12-13T23:48:12.004Z"
   },
   {
    "duration": 272,
    "start_time": "2021-12-13T23:51:07.403Z"
   },
   {
    "duration": 106,
    "start_time": "2021-12-13T23:52:09.616Z"
   },
   {
    "duration": 25,
    "start_time": "2021-12-13T23:52:16.854Z"
   },
   {
    "duration": 33,
    "start_time": "2021-12-13T23:52:31.258Z"
   },
   {
    "duration": 32,
    "start_time": "2021-12-13T23:52:55.950Z"
   },
   {
    "duration": 27,
    "start_time": "2021-12-13T23:54:35.765Z"
   },
   {
    "duration": 28,
    "start_time": "2021-12-13T23:54:58.895Z"
   },
   {
    "duration": 1404,
    "start_time": "2021-12-13T23:55:08.387Z"
   },
   {
    "duration": 511,
    "start_time": "2021-12-13T23:55:09.794Z"
   },
   {
    "duration": 36,
    "start_time": "2021-12-13T23:55:10.309Z"
   },
   {
    "duration": 295,
    "start_time": "2021-12-13T23:55:10.348Z"
   },
   {
    "duration": 44,
    "start_time": "2021-12-13T23:55:10.645Z"
   },
   {
    "duration": 99,
    "start_time": "2021-12-13T23:55:10.692Z"
   },
   {
    "duration": 8,
    "start_time": "2021-12-13T23:55:10.793Z"
   },
   {
    "duration": 586,
    "start_time": "2021-12-13T23:55:10.803Z"
   },
   {
    "duration": 17,
    "start_time": "2021-12-13T23:55:11.392Z"
   },
   {
    "duration": 5,
    "start_time": "2021-12-13T23:55:11.412Z"
   },
   {
    "duration": 51,
    "start_time": "2021-12-13T23:55:11.419Z"
   },
   {
    "duration": 29,
    "start_time": "2021-12-13T23:55:11.472Z"
   },
   {
    "duration": 413,
    "start_time": "2021-12-13T23:57:55.628Z"
   },
   {
    "duration": 28,
    "start_time": "2021-12-13T23:58:10.441Z"
   },
   {
    "duration": 389,
    "start_time": "2021-12-13T23:59:05.691Z"
   },
   {
    "duration": 26,
    "start_time": "2021-12-13T23:59:20.443Z"
   },
   {
    "duration": 527,
    "start_time": "2021-12-13T23:59:50.566Z"
   },
   {
    "duration": 281,
    "start_time": "2021-12-14T00:00:26.508Z"
   },
   {
    "duration": 26,
    "start_time": "2021-12-14T00:00:47.388Z"
   },
   {
    "duration": 1450,
    "start_time": "2021-12-14T00:00:58.846Z"
   },
   {
    "duration": 511,
    "start_time": "2021-12-14T00:01:00.299Z"
   },
   {
    "duration": 58,
    "start_time": "2021-12-14T00:01:00.813Z"
   },
   {
    "duration": 316,
    "start_time": "2021-12-14T00:01:00.874Z"
   },
   {
    "duration": 33,
    "start_time": "2021-12-14T00:01:01.193Z"
   },
   {
    "duration": 108,
    "start_time": "2021-12-14T00:01:01.229Z"
   },
   {
    "duration": 9,
    "start_time": "2021-12-14T00:01:01.368Z"
   },
   {
    "duration": 515,
    "start_time": "2021-12-14T00:01:01.380Z"
   },
   {
    "duration": 18,
    "start_time": "2021-12-14T00:01:01.898Z"
   },
   {
    "duration": 51,
    "start_time": "2021-12-14T00:01:01.918Z"
   },
   {
    "duration": 7,
    "start_time": "2021-12-14T00:01:01.971Z"
   },
   {
    "duration": 39,
    "start_time": "2021-12-14T00:01:01.981Z"
   },
   {
    "duration": 1448,
    "start_time": "2021-12-14T00:01:33.619Z"
   },
   {
    "duration": 514,
    "start_time": "2021-12-14T00:01:35.070Z"
   },
   {
    "duration": 43,
    "start_time": "2021-12-14T00:01:35.586Z"
   },
   {
    "duration": 348,
    "start_time": "2021-12-14T00:01:35.633Z"
   },
   {
    "duration": 34,
    "start_time": "2021-12-14T00:01:35.985Z"
   },
   {
    "duration": 109,
    "start_time": "2021-12-14T00:01:36.022Z"
   },
   {
    "duration": 38,
    "start_time": "2021-12-14T00:01:36.134Z"
   },
   {
    "duration": 614,
    "start_time": "2021-12-14T00:01:36.176Z"
   },
   {
    "duration": 16,
    "start_time": "2021-12-14T00:01:36.793Z"
   },
   {
    "duration": 8,
    "start_time": "2021-12-14T00:01:36.812Z"
   },
   {
    "duration": 54,
    "start_time": "2021-12-14T00:01:36.822Z"
   },
   {
    "duration": 26,
    "start_time": "2021-12-14T00:01:36.879Z"
   },
   {
    "duration": 30,
    "start_time": "2021-12-14T00:02:00.615Z"
   },
   {
    "duration": 105,
    "start_time": "2021-12-14T00:03:12.230Z"
   },
   {
    "duration": 37,
    "start_time": "2021-12-14T00:03:16.347Z"
   },
   {
    "duration": 670,
    "start_time": "2021-12-14T01:00:46.291Z"
   },
   {
    "duration": 690,
    "start_time": "2021-12-14T01:02:19.026Z"
   },
   {
    "duration": 710,
    "start_time": "2021-12-14T01:03:26.597Z"
   },
   {
    "duration": 613,
    "start_time": "2021-12-14T01:14:09.114Z"
   },
   {
    "duration": 732,
    "start_time": "2021-12-14T01:24:40.603Z"
   },
   {
    "duration": 48,
    "start_time": "2021-12-14T01:24:56.217Z"
   },
   {
    "duration": 37,
    "start_time": "2021-12-14T01:25:26.175Z"
   },
   {
    "duration": 43,
    "start_time": "2021-12-14T01:25:44.370Z"
   },
   {
    "duration": 42,
    "start_time": "2021-12-14T01:27:01.955Z"
   },
   {
    "duration": 42,
    "start_time": "2021-12-14T01:27:45.693Z"
   },
   {
    "duration": 290,
    "start_time": "2021-12-14T01:35:02.254Z"
   },
   {
    "duration": 27,
    "start_time": "2021-12-14T01:35:15.075Z"
   },
   {
    "duration": 70,
    "start_time": "2021-12-14T01:38:15.019Z"
   },
   {
    "duration": 66,
    "start_time": "2021-12-14T01:38:23.627Z"
   },
   {
    "duration": 669,
    "start_time": "2021-12-14T01:39:24.667Z"
   },
   {
    "duration": 610,
    "start_time": "2021-12-14T01:43:40.170Z"
   },
   {
    "duration": 759,
    "start_time": "2021-12-14T01:44:49.113Z"
   },
   {
    "duration": 1452,
    "start_time": "2021-12-14T01:48:36.844Z"
   },
   {
    "duration": 517,
    "start_time": "2021-12-14T01:48:38.299Z"
   },
   {
    "duration": 52,
    "start_time": "2021-12-14T01:48:38.819Z"
   },
   {
    "duration": 301,
    "start_time": "2021-12-14T01:48:38.874Z"
   },
   {
    "duration": 31,
    "start_time": "2021-12-14T01:48:39.178Z"
   },
   {
    "duration": 672,
    "start_time": "2021-12-14T01:48:39.212Z"
   },
   {
    "duration": 1143,
    "start_time": "2021-12-14T16:44:28.161Z"
   },
   {
    "duration": 388,
    "start_time": "2021-12-14T16:44:29.306Z"
   },
   {
    "duration": 26,
    "start_time": "2021-12-14T16:44:29.696Z"
   },
   {
    "duration": 219,
    "start_time": "2021-12-14T16:44:29.724Z"
   },
   {
    "duration": 20,
    "start_time": "2021-12-14T16:44:29.945Z"
   },
   {
    "duration": 443,
    "start_time": "2021-12-14T16:44:29.967Z"
   },
   {
    "duration": 421,
    "start_time": "2021-12-14T16:44:30.412Z"
   },
   {
    "duration": 457,
    "start_time": "2021-12-14T16:44:30.836Z"
   },
   {
    "duration": 389,
    "start_time": "2021-12-14T16:44:31.295Z"
   },
   {
    "duration": 33,
    "start_time": "2021-12-14T16:44:31.686Z"
   },
   {
    "duration": 31,
    "start_time": "2021-12-14T16:44:31.721Z"
   },
   {
    "duration": 50,
    "start_time": "2021-12-14T16:44:31.753Z"
   },
   {
    "duration": 45,
    "start_time": "2021-12-14T16:44:31.804Z"
   },
   {
    "duration": 409,
    "start_time": "2021-12-14T16:44:31.850Z"
   },
   {
    "duration": 379,
    "start_time": "2021-12-14T16:44:32.261Z"
   },
   {
    "duration": 462,
    "start_time": "2021-12-14T16:44:32.641Z"
   },
   {
    "duration": 50,
    "start_time": "2021-12-14T16:44:33.105Z"
   },
   {
    "duration": 36,
    "start_time": "2021-12-14T16:44:33.157Z"
   },
   {
    "duration": 499,
    "start_time": "2021-12-14T16:44:33.195Z"
   },
   {
    "duration": 12,
    "start_time": "2021-12-14T16:44:33.695Z"
   },
   {
    "duration": 3,
    "start_time": "2021-12-14T16:44:33.709Z"
   },
   {
    "duration": 9,
    "start_time": "2021-12-14T16:44:33.714Z"
   },
   {
    "duration": 25,
    "start_time": "2021-12-14T16:44:33.726Z"
   },
   {
    "duration": 264,
    "start_time": "2021-12-14T18:53:48.954Z"
   },
   {
    "duration": 1309,
    "start_time": "2021-12-14T18:54:02.889Z"
   },
   {
    "duration": 365,
    "start_time": "2021-12-14T18:54:04.201Z"
   },
   {
    "duration": 29,
    "start_time": "2021-12-14T18:54:04.568Z"
   },
   {
    "duration": 205,
    "start_time": "2021-12-14T18:54:04.599Z"
   },
   {
    "duration": 27,
    "start_time": "2021-12-14T18:54:04.806Z"
   },
   {
    "duration": 625,
    "start_time": "2021-12-14T18:54:04.835Z"
   },
   {
    "duration": 369,
    "start_time": "2021-12-14T18:54:05.462Z"
   },
   {
    "duration": 409,
    "start_time": "2021-12-14T18:54:05.833Z"
   },
   {
    "duration": 345,
    "start_time": "2021-12-14T18:54:06.244Z"
   },
   {
    "duration": 33,
    "start_time": "2021-12-14T18:54:06.591Z"
   },
   {
    "duration": 28,
    "start_time": "2021-12-14T18:54:06.626Z"
   },
   {
    "duration": 48,
    "start_time": "2021-12-14T18:54:06.656Z"
   },
   {
    "duration": 43,
    "start_time": "2021-12-14T18:54:06.706Z"
   },
   {
    "duration": 385,
    "start_time": "2021-12-14T18:54:06.751Z"
   },
   {
    "duration": 345,
    "start_time": "2021-12-14T18:54:07.138Z"
   },
   {
    "duration": 435,
    "start_time": "2021-12-14T18:54:07.488Z"
   },
   {
    "duration": 65,
    "start_time": "2021-12-14T18:54:07.925Z"
   },
   {
    "duration": 5,
    "start_time": "2021-12-14T18:54:07.992Z"
   },
   {
    "duration": 402,
    "start_time": "2021-12-14T18:54:07.999Z"
   },
   {
    "duration": 14,
    "start_time": "2021-12-14T18:54:08.403Z"
   },
   {
    "duration": 4,
    "start_time": "2021-12-14T18:54:08.418Z"
   },
   {
    "duration": 11,
    "start_time": "2021-12-14T18:54:08.423Z"
   },
   {
    "duration": 55,
    "start_time": "2021-12-14T18:54:08.436Z"
   },
   {
    "duration": 18,
    "start_time": "2021-12-14T19:26:54.506Z"
   },
   {
    "duration": 74,
    "start_time": "2021-12-14T19:50:08.953Z"
   },
   {
    "duration": 76,
    "start_time": "2021-12-14T19:50:23.549Z"
   },
   {
    "duration": 651,
    "start_time": "2021-12-14T19:50:41.819Z"
   },
   {
    "duration": 1348,
    "start_time": "2021-12-14T19:50:53.363Z"
   },
   {
    "duration": 403,
    "start_time": "2021-12-14T19:50:54.714Z"
   },
   {
    "duration": 23,
    "start_time": "2021-12-14T19:50:55.119Z"
   },
   {
    "duration": 215,
    "start_time": "2021-12-14T19:50:55.144Z"
   },
   {
    "duration": 28,
    "start_time": "2021-12-14T19:50:55.361Z"
   },
   {
    "duration": 562,
    "start_time": "2021-12-14T19:50:55.390Z"
   },
   {
    "duration": 380,
    "start_time": "2021-12-14T19:50:55.954Z"
   },
   {
    "duration": 428,
    "start_time": "2021-12-14T19:50:56.338Z"
   },
   {
    "duration": 348,
    "start_time": "2021-12-14T19:50:56.768Z"
   },
   {
    "duration": 32,
    "start_time": "2021-12-14T19:50:57.117Z"
   },
   {
    "duration": 40,
    "start_time": "2021-12-14T19:50:57.150Z"
   },
   {
    "duration": 28,
    "start_time": "2021-12-14T19:50:57.192Z"
   },
   {
    "duration": 68,
    "start_time": "2021-12-14T19:50:57.221Z"
   },
   {
    "duration": 363,
    "start_time": "2021-12-14T19:50:57.291Z"
   },
   {
    "duration": 368,
    "start_time": "2021-12-14T19:50:57.655Z"
   },
   {
    "duration": 450,
    "start_time": "2021-12-14T19:50:58.025Z"
   },
   {
    "duration": 48,
    "start_time": "2021-12-14T19:50:58.476Z"
   },
   {
    "duration": 4,
    "start_time": "2021-12-14T19:50:58.526Z"
   },
   {
    "duration": 463,
    "start_time": "2021-12-14T19:50:58.532Z"
   },
   {
    "duration": 11,
    "start_time": "2021-12-14T19:50:58.996Z"
   },
   {
    "duration": 380,
    "start_time": "2021-12-14T19:50:59.009Z"
   },
   {
    "duration": -134,
    "start_time": "2021-12-14T19:50:59.526Z"
   },
   {
    "duration": -138,
    "start_time": "2021-12-14T19:50:59.531Z"
   },
   {
    "duration": -142,
    "start_time": "2021-12-14T19:50:59.537Z"
   },
   {
    "duration": -144,
    "start_time": "2021-12-14T19:50:59.540Z"
   },
   {
    "duration": 1071,
    "start_time": "2021-12-14T19:51:26.813Z"
   },
   {
    "duration": 354,
    "start_time": "2021-12-14T19:51:27.886Z"
   },
   {
    "duration": 23,
    "start_time": "2021-12-14T19:51:28.242Z"
   },
   {
    "duration": 194,
    "start_time": "2021-12-14T19:51:28.267Z"
   },
   {
    "duration": 26,
    "start_time": "2021-12-14T19:51:28.463Z"
   },
   {
    "duration": 370,
    "start_time": "2021-12-14T19:51:28.491Z"
   },
   {
    "duration": 362,
    "start_time": "2021-12-14T19:51:28.863Z"
   },
   {
    "duration": 399,
    "start_time": "2021-12-14T19:51:29.227Z"
   },
   {
    "duration": 348,
    "start_time": "2021-12-14T19:51:29.629Z"
   },
   {
    "duration": 40,
    "start_time": "2021-12-14T19:51:29.979Z"
   },
   {
    "duration": 32,
    "start_time": "2021-12-14T19:51:30.021Z"
   },
   {
    "duration": 60,
    "start_time": "2021-12-14T19:51:30.055Z"
   },
   {
    "duration": 44,
    "start_time": "2021-12-14T19:51:30.117Z"
   },
   {
    "duration": 371,
    "start_time": "2021-12-14T19:51:30.163Z"
   },
   {
    "duration": 350,
    "start_time": "2021-12-14T19:51:30.535Z"
   },
   {
    "duration": 434,
    "start_time": "2021-12-14T19:51:30.888Z"
   },
   {
    "duration": 43,
    "start_time": "2021-12-14T19:51:31.323Z"
   },
   {
    "duration": 22,
    "start_time": "2021-12-14T19:51:31.367Z"
   },
   {
    "duration": 409,
    "start_time": "2021-12-14T19:51:31.390Z"
   },
   {
    "duration": 10,
    "start_time": "2021-12-14T19:51:31.801Z"
   },
   {
    "duration": 4,
    "start_time": "2021-12-14T19:51:31.812Z"
   },
   {
    "duration": 314,
    "start_time": "2021-12-14T19:51:31.818Z"
   },
   {
    "duration": -89,
    "start_time": "2021-12-14T19:51:32.223Z"
   },
   {
    "duration": -92,
    "start_time": "2021-12-14T19:51:32.227Z"
   },
   {
    "duration": -92,
    "start_time": "2021-12-14T19:51:32.229Z"
   },
   {
    "duration": 1036,
    "start_time": "2021-12-14T19:51:54.041Z"
   },
   {
    "duration": 356,
    "start_time": "2021-12-14T19:51:55.078Z"
   },
   {
    "duration": 24,
    "start_time": "2021-12-14T19:51:55.436Z"
   },
   {
    "duration": 186,
    "start_time": "2021-12-14T19:51:55.462Z"
   },
   {
    "duration": 20,
    "start_time": "2021-12-14T19:51:55.649Z"
   },
   {
    "duration": 393,
    "start_time": "2021-12-14T19:51:55.671Z"
   },
   {
    "duration": 364,
    "start_time": "2021-12-14T19:51:56.066Z"
   },
   {
    "duration": 459,
    "start_time": "2021-12-14T19:51:56.433Z"
   },
   {
    "duration": 335,
    "start_time": "2021-12-14T19:51:56.894Z"
   },
   {
    "duration": 30,
    "start_time": "2021-12-14T19:51:57.230Z"
   },
   {
    "duration": 42,
    "start_time": "2021-12-14T19:51:57.261Z"
   },
   {
    "duration": 29,
    "start_time": "2021-12-14T19:51:57.305Z"
   },
   {
    "duration": 71,
    "start_time": "2021-12-14T19:51:57.335Z"
   },
   {
    "duration": 359,
    "start_time": "2021-12-14T19:51:57.408Z"
   },
   {
    "duration": 368,
    "start_time": "2021-12-14T19:51:57.769Z"
   },
   {
    "duration": 422,
    "start_time": "2021-12-14T19:51:58.139Z"
   },
   {
    "duration": 54,
    "start_time": "2021-12-14T19:51:58.563Z"
   },
   {
    "duration": 5,
    "start_time": "2021-12-14T19:51:58.619Z"
   },
   {
    "duration": 377,
    "start_time": "2021-12-14T19:51:58.625Z"
   },
   {
    "duration": 12,
    "start_time": "2021-12-14T19:51:59.003Z"
   },
   {
    "duration": 3,
    "start_time": "2021-12-14T19:51:59.016Z"
   },
   {
    "duration": 8,
    "start_time": "2021-12-14T19:51:59.021Z"
   },
   {
    "duration": 16,
    "start_time": "2021-12-14T19:51:59.031Z"
   },
   {
    "duration": 345,
    "start_time": "2021-12-14T19:51:59.049Z"
   },
   {
    "duration": -137,
    "start_time": "2021-12-14T19:51:59.533Z"
   },
   {
    "duration": 437,
    "start_time": "2021-12-15T00:13:38.140Z"
   },
   {
    "duration": 1443,
    "start_time": "2021-12-15T00:13:51.380Z"
   },
   {
    "duration": 486,
    "start_time": "2021-12-15T00:13:52.826Z"
   },
   {
    "duration": 52,
    "start_time": "2021-12-15T00:13:53.315Z"
   },
   {
    "duration": 260,
    "start_time": "2021-12-15T00:13:53.370Z"
   },
   {
    "duration": 42,
    "start_time": "2021-12-15T00:13:53.633Z"
   },
   {
    "duration": 627,
    "start_time": "2021-12-15T00:13:53.677Z"
   },
   {
    "duration": 632,
    "start_time": "2021-12-15T00:13:54.306Z"
   },
   {
    "duration": 648,
    "start_time": "2021-12-15T00:13:54.942Z"
   },
   {
    "duration": 597,
    "start_time": "2021-12-15T00:13:55.593Z"
   },
   {
    "duration": 44,
    "start_time": "2021-12-15T00:13:56.192Z"
   },
   {
    "duration": 57,
    "start_time": "2021-12-15T00:13:56.238Z"
   },
   {
    "duration": 39,
    "start_time": "2021-12-15T00:13:56.297Z"
   },
   {
    "duration": 68,
    "start_time": "2021-12-15T00:13:56.359Z"
   },
   {
    "duration": 630,
    "start_time": "2021-12-15T00:13:56.429Z"
   },
   {
    "duration": 597,
    "start_time": "2021-12-15T00:13:57.062Z"
   },
   {
    "duration": 706,
    "start_time": "2021-12-15T00:13:57.662Z"
   },
   {
    "duration": 104,
    "start_time": "2021-12-15T00:13:58.371Z"
   },
   {
    "duration": 9,
    "start_time": "2021-12-15T00:13:58.478Z"
   },
   {
    "duration": 587,
    "start_time": "2021-12-15T00:13:58.490Z"
   },
   {
    "duration": 17,
    "start_time": "2021-12-15T00:13:59.079Z"
   },
   {
    "duration": 6,
    "start_time": "2021-12-15T00:13:59.098Z"
   },
   {
    "duration": 10,
    "start_time": "2021-12-15T00:13:59.106Z"
   },
   {
    "duration": 22,
    "start_time": "2021-12-15T00:13:59.162Z"
   },
   {
    "duration": 613,
    "start_time": "2021-12-15T00:13:59.187Z"
   },
   {
    "duration": -506,
    "start_time": "2021-12-15T00:14:00.308Z"
   },
   {
    "duration": 10,
    "start_time": "2021-12-15T00:15:45.392Z"
   },
   {
    "duration": 8,
    "start_time": "2021-12-15T00:15:58.692Z"
   },
   {
    "duration": 10029,
    "start_time": "2021-12-15T00:17:09.977Z"
   },
   {
    "duration": 14,
    "start_time": "2021-12-15T00:25:20.127Z"
   },
   {
    "duration": 21,
    "start_time": "2021-12-15T00:29:47.299Z"
   },
   {
    "duration": 16,
    "start_time": "2021-12-15T00:30:22.961Z"
   },
   {
    "duration": 11406,
    "start_time": "2021-12-15T00:30:30.647Z"
   },
   {
    "duration": 1436,
    "start_time": "2021-12-15T00:31:02.152Z"
   },
   {
    "duration": 507,
    "start_time": "2021-12-15T00:31:03.591Z"
   },
   {
    "duration": 60,
    "start_time": "2021-12-15T00:31:04.101Z"
   },
   {
    "duration": 262,
    "start_time": "2021-12-15T00:31:04.164Z"
   },
   {
    "duration": 44,
    "start_time": "2021-12-15T00:31:04.428Z"
   },
   {
    "duration": 656,
    "start_time": "2021-12-15T00:31:04.474Z"
   },
   {
    "duration": 637,
    "start_time": "2021-12-15T00:31:05.132Z"
   },
   {
    "duration": 682,
    "start_time": "2021-12-15T00:31:05.772Z"
   },
   {
    "duration": 599,
    "start_time": "2021-12-15T00:31:06.460Z"
   },
   {
    "duration": 44,
    "start_time": "2021-12-15T00:31:07.061Z"
   },
   {
    "duration": 59,
    "start_time": "2021-12-15T00:31:07.107Z"
   },
   {
    "duration": 39,
    "start_time": "2021-12-15T00:31:07.168Z"
   },
   {
    "duration": 93,
    "start_time": "2021-12-15T00:31:07.209Z"
   },
   {
    "duration": 637,
    "start_time": "2021-12-15T00:31:07.305Z"
   },
   {
    "duration": 592,
    "start_time": "2021-12-15T00:31:07.945Z"
   },
   {
    "duration": 693,
    "start_time": "2021-12-15T00:31:08.539Z"
   },
   {
    "duration": 77,
    "start_time": "2021-12-15T00:31:09.234Z"
   },
   {
    "duration": 6,
    "start_time": "2021-12-15T00:31:09.313Z"
   },
   {
    "duration": 459,
    "start_time": "2021-12-15T00:31:09.322Z"
   },
   {
    "duration": 17,
    "start_time": "2021-12-15T00:31:09.784Z"
   },
   {
    "duration": 6,
    "start_time": "2021-12-15T00:31:09.803Z"
   },
   {
    "duration": 51,
    "start_time": "2021-12-15T00:31:09.811Z"
   },
   {
    "duration": 24,
    "start_time": "2021-12-15T00:31:09.867Z"
   },
   {
    "duration": 15,
    "start_time": "2021-12-15T00:31:09.893Z"
   },
   {
    "duration": 9660,
    "start_time": "2021-12-15T00:31:09.911Z"
   },
   {
    "duration": 15,
    "start_time": "2021-12-15T00:32:46.169Z"
   },
   {
    "duration": 10791,
    "start_time": "2021-12-15T00:32:59.555Z"
   },
   {
    "duration": 11,
    "start_time": "2021-12-15T01:44:17.622Z"
   },
   {
    "duration": 11,
    "start_time": "2021-12-15T01:44:23.157Z"
   },
   {
    "duration": 11,
    "start_time": "2021-12-15T01:44:28.337Z"
   },
   {
    "duration": 1423,
    "start_time": "2021-12-15T01:44:39.600Z"
   },
   {
    "duration": 492,
    "start_time": "2021-12-15T01:44:41.026Z"
   },
   {
    "duration": 52,
    "start_time": "2021-12-15T01:44:41.521Z"
   },
   {
    "duration": 250,
    "start_time": "2021-12-15T01:44:41.575Z"
   },
   {
    "duration": 38,
    "start_time": "2021-12-15T01:44:41.828Z"
   },
   {
    "duration": 635,
    "start_time": "2021-12-15T01:44:41.868Z"
   },
   {
    "duration": 649,
    "start_time": "2021-12-15T01:44:42.506Z"
   },
   {
    "duration": 653,
    "start_time": "2021-12-15T01:44:43.160Z"
   },
   {
    "duration": 604,
    "start_time": "2021-12-15T01:44:43.820Z"
   },
   {
    "duration": 61,
    "start_time": "2021-12-15T01:44:44.427Z"
   },
   {
    "duration": 40,
    "start_time": "2021-12-15T01:44:44.491Z"
   },
   {
    "duration": 63,
    "start_time": "2021-12-15T01:44:44.534Z"
   },
   {
    "duration": 102,
    "start_time": "2021-12-15T01:44:44.600Z"
   },
   {
    "duration": 624,
    "start_time": "2021-12-15T01:44:44.704Z"
   },
   {
    "duration": 587,
    "start_time": "2021-12-15T01:44:45.330Z"
   },
   {
    "duration": 705,
    "start_time": "2021-12-15T01:44:45.920Z"
   },
   {
    "duration": 85,
    "start_time": "2021-12-15T01:44:46.628Z"
   },
   {
    "duration": 7,
    "start_time": "2021-12-15T01:44:46.715Z"
   },
   {
    "duration": 519,
    "start_time": "2021-12-15T01:44:46.759Z"
   },
   {
    "duration": 17,
    "start_time": "2021-12-15T01:44:47.281Z"
   },
   {
    "duration": 6,
    "start_time": "2021-12-15T01:44:47.300Z"
   },
   {
    "duration": 56,
    "start_time": "2021-12-15T01:44:47.308Z"
   },
   {
    "duration": 23,
    "start_time": "2021-12-15T01:44:47.366Z"
   },
   {
    "duration": 10,
    "start_time": "2021-12-15T01:44:47.391Z"
   },
   {
    "duration": 11209,
    "start_time": "2021-12-15T01:44:47.403Z"
   },
   {
    "duration": 14,
    "start_time": "2021-12-15T01:45:38.531Z"
   },
   {
    "duration": 385,
    "start_time": "2021-12-15T01:50:05.460Z"
   },
   {
    "duration": 633,
    "start_time": "2021-12-15T01:50:18.676Z"
   },
   {
    "duration": 372,
    "start_time": "2021-12-15T01:50:31.588Z"
   },
   {
    "duration": 9,
    "start_time": "2021-12-15T01:51:48.968Z"
   },
   {
    "duration": 10,
    "start_time": "2021-12-15T01:52:04.057Z"
   },
   {
    "duration": 390,
    "start_time": "2021-12-15T01:52:08.956Z"
   },
   {
    "duration": 18,
    "start_time": "2021-12-15T01:52:16.244Z"
   },
   {
    "duration": 9087,
    "start_time": "2021-12-15T01:56:40.240Z"
   },
   {
    "duration": 16,
    "start_time": "2021-12-15T02:01:18.701Z"
   },
   {
    "duration": 9540,
    "start_time": "2021-12-15T02:01:41.190Z"
   },
   {
    "duration": 14,
    "start_time": "2021-12-15T02:05:23.812Z"
   },
   {
    "duration": 14,
    "start_time": "2021-12-15T02:05:28.076Z"
   },
   {
    "duration": 14,
    "start_time": "2021-12-15T02:05:33.832Z"
   },
   {
    "duration": 14,
    "start_time": "2021-12-15T02:05:37.704Z"
   },
   {
    "duration": 4,
    "start_time": "2021-12-15T02:06:30.941Z"
   },
   {
    "duration": 4,
    "start_time": "2021-12-15T02:06:34.549Z"
   },
   {
    "duration": 9880,
    "start_time": "2021-12-15T02:06:36.923Z"
   },
   {
    "duration": 316,
    "start_time": "2021-12-15T08:55:54.054Z"
   },
   {
    "duration": 1108,
    "start_time": "2021-12-15T08:56:05.465Z"
   },
   {
    "duration": 875,
    "start_time": "2021-12-15T08:56:06.574Z"
   },
   {
    "duration": 27,
    "start_time": "2021-12-15T08:56:07.451Z"
   },
   {
    "duration": 209,
    "start_time": "2021-12-15T08:56:07.480Z"
   },
   {
    "duration": 22,
    "start_time": "2021-12-15T08:56:07.691Z"
   },
   {
    "duration": 404,
    "start_time": "2021-12-15T08:56:07.715Z"
   },
   {
    "duration": 387,
    "start_time": "2021-12-15T08:56:08.121Z"
   },
   {
    "duration": 427,
    "start_time": "2021-12-15T08:56:08.511Z"
   },
   {
    "duration": 395,
    "start_time": "2021-12-15T08:56:08.941Z"
   },
   {
    "duration": 45,
    "start_time": "2021-12-15T08:56:09.338Z"
   },
   {
    "duration": 32,
    "start_time": "2021-12-15T08:56:09.385Z"
   },
   {
    "duration": 48,
    "start_time": "2021-12-15T08:56:09.418Z"
   },
   {
    "duration": 49,
    "start_time": "2021-12-15T08:56:09.468Z"
   },
   {
    "duration": 425,
    "start_time": "2021-12-15T08:56:09.519Z"
   },
   {
    "duration": 377,
    "start_time": "2021-12-15T08:56:09.946Z"
   },
   {
    "duration": 465,
    "start_time": "2021-12-15T08:56:10.325Z"
   },
   {
    "duration": 60,
    "start_time": "2021-12-15T08:56:10.792Z"
   },
   {
    "duration": 5,
    "start_time": "2021-12-15T08:56:10.853Z"
   },
   {
    "duration": 398,
    "start_time": "2021-12-15T08:56:10.860Z"
   },
   {
    "duration": 13,
    "start_time": "2021-12-15T08:56:11.260Z"
   },
   {
    "duration": 5,
    "start_time": "2021-12-15T08:56:11.275Z"
   },
   {
    "duration": 10,
    "start_time": "2021-12-15T08:56:11.281Z"
   },
   {
    "duration": 62,
    "start_time": "2021-12-15T08:56:11.294Z"
   },
   {
    "duration": 10,
    "start_time": "2021-12-15T08:56:11.358Z"
   },
   {
    "duration": 7205,
    "start_time": "2021-12-15T08:56:11.370Z"
   },
   {
    "duration": 7363,
    "start_time": "2021-12-15T08:56:44.894Z"
   },
   {
    "duration": 332,
    "start_time": "2021-12-15T17:08:57.609Z"
   },
   {
    "duration": 1505,
    "start_time": "2021-12-15T17:09:05.604Z"
   },
   {
    "duration": 532,
    "start_time": "2021-12-15T17:09:07.112Z"
   },
   {
    "duration": 62,
    "start_time": "2021-12-15T17:09:07.649Z"
   },
   {
    "duration": 305,
    "start_time": "2021-12-15T17:09:07.714Z"
   },
   {
    "duration": 48,
    "start_time": "2021-12-15T17:09:08.022Z"
   },
   {
    "duration": 724,
    "start_time": "2021-12-15T17:09:08.072Z"
   },
   {
    "duration": 724,
    "start_time": "2021-12-15T17:09:08.798Z"
   },
   {
    "duration": 758,
    "start_time": "2021-12-15T17:09:09.526Z"
   },
   {
    "duration": 716,
    "start_time": "2021-12-15T17:09:10.288Z"
   },
   {
    "duration": 64,
    "start_time": "2021-12-15T17:09:11.007Z"
   },
   {
    "duration": 44,
    "start_time": "2021-12-15T17:09:11.073Z"
   },
   {
    "duration": 79,
    "start_time": "2021-12-15T17:09:11.121Z"
   },
   {
    "duration": 89,
    "start_time": "2021-12-15T17:09:11.203Z"
   },
   {
    "duration": 781,
    "start_time": "2021-12-15T17:09:11.294Z"
   },
   {
    "duration": 721,
    "start_time": "2021-12-15T17:09:12.082Z"
   },
   {
    "duration": 804,
    "start_time": "2021-12-15T17:09:12.806Z"
   },
   {
    "duration": 98,
    "start_time": "2021-12-15T17:09:13.613Z"
   },
   {
    "duration": 7,
    "start_time": "2021-12-15T17:09:13.714Z"
   },
   {
    "duration": 489,
    "start_time": "2021-12-15T17:09:13.723Z"
   },
   {
    "duration": 17,
    "start_time": "2021-12-15T17:09:14.214Z"
   },
   {
    "duration": 37,
    "start_time": "2021-12-15T17:09:14.233Z"
   },
   {
    "duration": 12,
    "start_time": "2021-12-15T17:09:14.280Z"
   },
   {
    "duration": 26,
    "start_time": "2021-12-15T17:09:14.298Z"
   },
   {
    "duration": 50,
    "start_time": "2021-12-15T17:09:14.327Z"
   },
   {
    "duration": 139,
    "start_time": "2021-12-15T17:09:14.379Z"
   },
   {
    "duration": 16,
    "start_time": "2021-12-15T17:11:11.656Z"
   },
   {
    "duration": 18,
    "start_time": "2021-12-15T17:12:40.713Z"
   },
   {
    "duration": 355,
    "start_time": "2021-12-15T23:35:00.998Z"
   },
   {
    "duration": 1434,
    "start_time": "2021-12-15T23:35:09.293Z"
   },
   {
    "duration": 478,
    "start_time": "2021-12-15T23:35:10.730Z"
   },
   {
    "duration": 47,
    "start_time": "2021-12-15T23:35:11.211Z"
   },
   {
    "duration": 272,
    "start_time": "2021-12-15T23:35:11.260Z"
   },
   {
    "duration": 28,
    "start_time": "2021-12-15T23:35:11.535Z"
   },
   {
    "duration": 639,
    "start_time": "2021-12-15T23:35:11.565Z"
   },
   {
    "duration": 643,
    "start_time": "2021-12-15T23:35:12.207Z"
   },
   {
    "duration": 656,
    "start_time": "2021-12-15T23:35:12.854Z"
   },
   {
    "duration": 581,
    "start_time": "2021-12-15T23:35:13.513Z"
   },
   {
    "duration": 58,
    "start_time": "2021-12-15T23:35:14.096Z"
   },
   {
    "duration": 36,
    "start_time": "2021-12-15T23:35:14.157Z"
   },
   {
    "duration": 56,
    "start_time": "2021-12-15T23:35:14.196Z"
   },
   {
    "duration": 86,
    "start_time": "2021-12-15T23:35:14.255Z"
   },
   {
    "duration": 630,
    "start_time": "2021-12-15T23:35:14.344Z"
   },
   {
    "duration": 597,
    "start_time": "2021-12-15T23:35:14.977Z"
   },
   {
    "duration": 694,
    "start_time": "2021-12-15T23:35:15.577Z"
   },
   {
    "duration": 87,
    "start_time": "2021-12-15T23:35:16.274Z"
   },
   {
    "duration": 7,
    "start_time": "2021-12-15T23:35:16.363Z"
   },
   {
    "duration": 581,
    "start_time": "2021-12-15T23:35:16.372Z"
   },
   {
    "duration": 19,
    "start_time": "2021-12-15T23:35:16.956Z"
   },
   {
    "duration": 50,
    "start_time": "2021-12-15T23:35:16.977Z"
   },
   {
    "duration": 47,
    "start_time": "2021-12-15T23:35:17.029Z"
   },
   {
    "duration": 38,
    "start_time": "2021-12-15T23:35:17.081Z"
   },
   {
    "duration": 13,
    "start_time": "2021-12-15T23:35:17.122Z"
   },
   {
    "duration": 613,
    "start_time": "2021-12-15T23:35:17.138Z"
   },
   {
    "duration": -155,
    "start_time": "2021-12-15T23:35:17.908Z"
   },
   {
    "duration": 207,
    "start_time": "2021-12-15T23:35:51.023Z"
   },
   {
    "duration": 21,
    "start_time": "2021-12-15T23:35:55.581Z"
   },
   {
    "duration": 11,
    "start_time": "2021-12-15T23:36:45.039Z"
   },
   {
    "duration": 115,
    "start_time": "2021-12-15T23:38:31.435Z"
   },
   {
    "duration": 110,
    "start_time": "2021-12-15T23:42:54.672Z"
   },
   {
    "duration": 14,
    "start_time": "2021-12-15T23:42:59.288Z"
   },
   {
    "duration": 1372,
    "start_time": "2021-12-15T23:43:08.740Z"
   },
   {
    "duration": 473,
    "start_time": "2021-12-15T23:43:10.115Z"
   },
   {
    "duration": 51,
    "start_time": "2021-12-15T23:43:10.591Z"
   },
   {
    "duration": 253,
    "start_time": "2021-12-15T23:43:10.644Z"
   },
   {
    "duration": 42,
    "start_time": "2021-12-15T23:43:10.900Z"
   },
   {
    "duration": 660,
    "start_time": "2021-12-15T23:43:10.945Z"
   },
   {
    "duration": 628,
    "start_time": "2021-12-15T23:43:11.608Z"
   },
   {
    "duration": 676,
    "start_time": "2021-12-15T23:43:12.239Z"
   },
   {
    "duration": 623,
    "start_time": "2021-12-15T23:43:12.922Z"
   },
   {
    "duration": 42,
    "start_time": "2021-12-15T23:43:13.548Z"
   },
   {
    "duration": 63,
    "start_time": "2021-12-15T23:43:13.593Z"
   },
   {
    "duration": 37,
    "start_time": "2021-12-15T23:43:13.659Z"
   },
   {
    "duration": 86,
    "start_time": "2021-12-15T23:43:13.699Z"
   },
   {
    "duration": 637,
    "start_time": "2021-12-15T23:43:13.788Z"
   },
   {
    "duration": 581,
    "start_time": "2021-12-15T23:43:14.427Z"
   },
   {
    "duration": 687,
    "start_time": "2021-12-15T23:43:15.010Z"
   },
   {
    "duration": 70,
    "start_time": "2021-12-15T23:43:15.699Z"
   },
   {
    "duration": 6,
    "start_time": "2021-12-15T23:43:15.771Z"
   },
   {
    "duration": 572,
    "start_time": "2021-12-15T23:43:15.779Z"
   },
   {
    "duration": 16,
    "start_time": "2021-12-15T23:43:16.353Z"
   },
   {
    "duration": 9,
    "start_time": "2021-12-15T23:43:16.371Z"
   },
   {
    "duration": 29,
    "start_time": "2021-12-15T23:43:16.423Z"
   },
   {
    "duration": 28,
    "start_time": "2021-12-15T23:43:16.456Z"
   },
   {
    "duration": 105,
    "start_time": "2021-12-15T23:43:16.487Z"
   },
   {
    "duration": -245,
    "start_time": "2021-12-15T23:43:16.839Z"
   },
   {
    "duration": -246,
    "start_time": "2021-12-15T23:43:16.842Z"
   },
   {
    "duration": 5,
    "start_time": "2021-12-15T23:43:22.465Z"
   },
   {
    "duration": 7043,
    "start_time": "2021-12-15T23:43:25.011Z"
   },
   {
    "duration": 7220,
    "start_time": "2021-12-15T23:43:54.741Z"
   },
   {
    "duration": 16,
    "start_time": "2021-12-15T23:44:30.201Z"
   },
   {
    "duration": 8,
    "start_time": "2021-12-15T23:48:22.159Z"
   },
   {
    "duration": 13,
    "start_time": "2021-12-15T23:48:57.756Z"
   },
   {
    "duration": 12,
    "start_time": "2021-12-15T23:50:40.303Z"
   },
   {
    "duration": 15,
    "start_time": "2021-12-15T23:51:13.769Z"
   },
   {
    "duration": 1354,
    "start_time": "2021-12-15T23:51:25.051Z"
   },
   {
    "duration": 474,
    "start_time": "2021-12-15T23:51:26.408Z"
   },
   {
    "duration": 59,
    "start_time": "2021-12-15T23:51:26.886Z"
   },
   {
    "duration": 256,
    "start_time": "2021-12-15T23:51:26.949Z"
   },
   {
    "duration": 42,
    "start_time": "2021-12-15T23:51:27.208Z"
   },
   {
    "duration": 650,
    "start_time": "2021-12-15T23:51:27.253Z"
   },
   {
    "duration": 686,
    "start_time": "2021-12-15T23:51:27.907Z"
   },
   {
    "duration": 657,
    "start_time": "2021-12-15T23:51:28.597Z"
   },
   {
    "duration": 590,
    "start_time": "2021-12-15T23:51:29.257Z"
   },
   {
    "duration": 44,
    "start_time": "2021-12-15T23:51:29.850Z"
   },
   {
    "duration": 57,
    "start_time": "2021-12-15T23:51:29.896Z"
   },
   {
    "duration": 36,
    "start_time": "2021-12-15T23:51:29.955Z"
   },
   {
    "duration": 96,
    "start_time": "2021-12-15T23:51:29.995Z"
   },
   {
    "duration": 647,
    "start_time": "2021-12-15T23:51:30.094Z"
   },
   {
    "duration": 598,
    "start_time": "2021-12-15T23:51:30.744Z"
   },
   {
    "duration": 711,
    "start_time": "2021-12-15T23:51:31.345Z"
   },
   {
    "duration": 85,
    "start_time": "2021-12-15T23:51:32.058Z"
   },
   {
    "duration": 7,
    "start_time": "2021-12-15T23:51:32.145Z"
   },
   {
    "duration": 491,
    "start_time": "2021-12-15T23:51:32.154Z"
   },
   {
    "duration": 18,
    "start_time": "2021-12-15T23:51:32.648Z"
   },
   {
    "duration": 6,
    "start_time": "2021-12-15T23:51:32.668Z"
   },
   {
    "duration": 63,
    "start_time": "2021-12-15T23:51:32.677Z"
   },
   {
    "duration": 25,
    "start_time": "2021-12-15T23:51:32.744Z"
   },
   {
    "duration": 13,
    "start_time": "2021-12-15T23:51:32.772Z"
   },
   {
    "duration": 18,
    "start_time": "2021-12-15T23:51:32.787Z"
   },
   {
    "duration": 107,
    "start_time": "2021-12-15T23:58:46.675Z"
   },
   {
    "duration": 88,
    "start_time": "2021-12-15T23:59:49.097Z"
   },
   {
    "duration": 1351,
    "start_time": "2021-12-16T00:00:18.372Z"
   },
   {
    "duration": 479,
    "start_time": "2021-12-16T00:00:19.726Z"
   },
   {
    "duration": 48,
    "start_time": "2021-12-16T00:00:20.208Z"
   },
   {
    "duration": 265,
    "start_time": "2021-12-16T00:00:20.258Z"
   },
   {
    "duration": 31,
    "start_time": "2021-12-16T00:00:20.526Z"
   },
   {
    "duration": 637,
    "start_time": "2021-12-16T00:00:20.559Z"
   },
   {
    "duration": 630,
    "start_time": "2021-12-16T00:00:21.198Z"
   },
   {
    "duration": 677,
    "start_time": "2021-12-16T00:00:21.831Z"
   },
   {
    "duration": 599,
    "start_time": "2021-12-16T00:00:22.512Z"
   },
   {
    "duration": 50,
    "start_time": "2021-12-16T00:00:23.114Z"
   },
   {
    "duration": 64,
    "start_time": "2021-12-16T00:00:23.167Z"
   },
   {
    "duration": 40,
    "start_time": "2021-12-16T00:00:23.234Z"
   },
   {
    "duration": 95,
    "start_time": "2021-12-16T00:00:23.276Z"
   },
   {
    "duration": 629,
    "start_time": "2021-12-16T00:00:23.374Z"
   },
   {
    "duration": 574,
    "start_time": "2021-12-16T00:00:24.007Z"
   },
   {
    "duration": 681,
    "start_time": "2021-12-16T00:00:24.584Z"
   },
   {
    "duration": 80,
    "start_time": "2021-12-16T00:00:25.268Z"
   },
   {
    "duration": 7,
    "start_time": "2021-12-16T00:00:25.350Z"
   },
   {
    "duration": 492,
    "start_time": "2021-12-16T00:00:25.359Z"
   },
   {
    "duration": 80,
    "start_time": "2021-12-16T00:00:25.854Z"
   },
   {
    "duration": 6,
    "start_time": "2021-12-16T00:00:25.936Z"
   },
   {
    "duration": 21,
    "start_time": "2021-12-16T00:00:25.944Z"
   },
   {
    "duration": 23,
    "start_time": "2021-12-16T00:00:25.967Z"
   },
   {
    "duration": 32,
    "start_time": "2021-12-16T00:00:25.992Z"
   },
   {
    "duration": 84,
    "start_time": "2021-12-16T00:00:26.027Z"
   },
   {
    "duration": -81,
    "start_time": "2021-12-16T00:00:26.194Z"
   },
   {
    "duration": 102,
    "start_time": "2021-12-16T00:01:34.177Z"
   },
   {
    "duration": 1717,
    "start_time": "2021-12-16T00:03:47.183Z"
   },
   {
    "duration": 8154,
    "start_time": "2021-12-16T00:04:42.499Z"
   },
   {
    "duration": 5313,
    "start_time": "2021-12-16T00:05:08.798Z"
   },
   {
    "duration": 7119,
    "start_time": "2021-12-16T00:05:42.687Z"
   },
   {
    "duration": 9013,
    "start_time": "2021-12-16T00:05:58.748Z"
   },
   {
    "duration": 1412,
    "start_time": "2021-12-16T00:06:24.092Z"
   },
   {
    "duration": 471,
    "start_time": "2021-12-16T00:06:25.507Z"
   },
   {
    "duration": 50,
    "start_time": "2021-12-16T00:06:25.981Z"
   },
   {
    "duration": 257,
    "start_time": "2021-12-16T00:06:26.034Z"
   },
   {
    "duration": 36,
    "start_time": "2021-12-16T00:06:26.293Z"
   },
   {
    "duration": 673,
    "start_time": "2021-12-16T00:06:26.332Z"
   },
   {
    "duration": 658,
    "start_time": "2021-12-16T00:06:27.008Z"
   },
   {
    "duration": 839,
    "start_time": "2021-12-16T00:06:27.670Z"
   },
   {
    "duration": 594,
    "start_time": "2021-12-16T00:06:28.512Z"
   },
   {
    "duration": 46,
    "start_time": "2021-12-16T00:06:29.108Z"
   },
   {
    "duration": 37,
    "start_time": "2021-12-16T00:06:29.156Z"
   },
   {
    "duration": 40,
    "start_time": "2021-12-16T00:06:29.196Z"
   },
   {
    "duration": 66,
    "start_time": "2021-12-16T00:06:29.239Z"
   },
   {
    "duration": 710,
    "start_time": "2021-12-16T00:06:29.307Z"
   },
   {
    "duration": 595,
    "start_time": "2021-12-16T00:06:30.023Z"
   },
   {
    "duration": 701,
    "start_time": "2021-12-16T00:06:30.624Z"
   },
   {
    "duration": 97,
    "start_time": "2021-12-16T00:06:31.328Z"
   },
   {
    "duration": 6,
    "start_time": "2021-12-16T00:06:31.427Z"
   },
   {
    "duration": 611,
    "start_time": "2021-12-16T00:06:31.435Z"
   },
   {
    "duration": 18,
    "start_time": "2021-12-16T00:06:32.049Z"
   },
   {
    "duration": 7,
    "start_time": "2021-12-16T00:06:32.070Z"
   },
   {
    "duration": 44,
    "start_time": "2021-12-16T00:06:32.080Z"
   },
   {
    "duration": 24,
    "start_time": "2021-12-16T00:06:32.129Z"
   },
   {
    "duration": 6,
    "start_time": "2021-12-16T00:06:32.155Z"
   },
   {
    "duration": 7680,
    "start_time": "2021-12-16T00:06:32.163Z"
   },
   {
    "duration": -307,
    "start_time": "2021-12-16T00:06:40.152Z"
   },
   {
    "duration": 13,
    "start_time": "2021-12-16T00:07:03.414Z"
   },
   {
    "duration": 128,
    "start_time": "2021-12-16T00:07:42.397Z"
   },
   {
    "duration": 343,
    "start_time": "2021-12-16T00:15:42.501Z"
   },
   {
    "duration": 286,
    "start_time": "2021-12-16T00:16:25.647Z"
   },
   {
    "duration": 1406,
    "start_time": "2021-12-16T00:16:37.157Z"
   },
   {
    "duration": 488,
    "start_time": "2021-12-16T00:16:38.566Z"
   },
   {
    "duration": 67,
    "start_time": "2021-12-16T00:16:39.057Z"
   },
   {
    "duration": 264,
    "start_time": "2021-12-16T00:16:39.127Z"
   },
   {
    "duration": 44,
    "start_time": "2021-12-16T00:16:39.394Z"
   },
   {
    "duration": 682,
    "start_time": "2021-12-16T00:16:39.441Z"
   },
   {
    "duration": 654,
    "start_time": "2021-12-16T00:16:40.126Z"
   },
   {
    "duration": 683,
    "start_time": "2021-12-16T00:16:40.785Z"
   },
   {
    "duration": 685,
    "start_time": "2021-12-16T00:16:41.472Z"
   },
   {
    "duration": 63,
    "start_time": "2021-12-16T00:16:42.160Z"
   },
   {
    "duration": 39,
    "start_time": "2021-12-16T00:16:42.226Z"
   },
   {
    "duration": 69,
    "start_time": "2021-12-16T00:16:42.268Z"
   },
   {
    "duration": 94,
    "start_time": "2021-12-16T00:16:42.340Z"
   },
   {
    "duration": 836,
    "start_time": "2021-12-16T00:16:42.437Z"
   },
   {
    "duration": 898,
    "start_time": "2021-12-16T00:16:43.277Z"
   },
   {
    "duration": 717,
    "start_time": "2021-12-16T00:16:44.178Z"
   },
   {
    "duration": 79,
    "start_time": "2021-12-16T00:16:44.897Z"
   },
   {
    "duration": 47,
    "start_time": "2021-12-16T00:16:44.978Z"
   },
   {
    "duration": 519,
    "start_time": "2021-12-16T00:16:45.028Z"
   },
   {
    "duration": 17,
    "start_time": "2021-12-16T00:16:45.549Z"
   },
   {
    "duration": 7,
    "start_time": "2021-12-16T00:16:45.569Z"
   },
   {
    "duration": 50,
    "start_time": "2021-12-16T00:16:45.579Z"
   },
   {
    "duration": 23,
    "start_time": "2021-12-16T00:16:45.634Z"
   },
   {
    "duration": 6,
    "start_time": "2021-12-16T00:16:45.659Z"
   },
   {
    "duration": 417,
    "start_time": "2021-12-16T00:16:45.667Z"
   },
   {
    "duration": -208,
    "start_time": "2021-12-16T00:16:46.295Z"
   },
   {
    "duration": 356,
    "start_time": "2021-12-16T00:16:59.497Z"
   },
   {
    "duration": 306,
    "start_time": "2021-12-16T00:17:27.881Z"
   },
   {
    "duration": 1300,
    "start_time": "2021-12-16T00:18:08.716Z"
   },
   {
    "duration": 18,
    "start_time": "2021-12-16T00:18:22.387Z"
   },
   {
    "duration": 15,
    "start_time": "2021-12-16T00:23:00.342Z"
   },
   {
    "duration": 22,
    "start_time": "2021-12-16T01:38:32.062Z"
   },
   {
    "duration": 21,
    "start_time": "2021-12-16T01:38:44.734Z"
   },
   {
    "duration": 1347,
    "start_time": "2021-12-16T01:38:52.595Z"
   },
   {
    "duration": 460,
    "start_time": "2021-12-16T01:38:53.944Z"
   },
   {
    "duration": 42,
    "start_time": "2021-12-16T01:38:54.406Z"
   },
   {
    "duration": 244,
    "start_time": "2021-12-16T01:38:54.451Z"
   },
   {
    "duration": 42,
    "start_time": "2021-12-16T01:38:54.698Z"
   },
   {
    "duration": 630,
    "start_time": "2021-12-16T01:38:54.743Z"
   },
   {
    "duration": 590,
    "start_time": "2021-12-16T01:38:55.375Z"
   },
   {
    "duration": 637,
    "start_time": "2021-12-16T01:38:55.969Z"
   },
   {
    "duration": 583,
    "start_time": "2021-12-16T01:38:56.609Z"
   },
   {
    "duration": 57,
    "start_time": "2021-12-16T01:38:57.195Z"
   },
   {
    "duration": 36,
    "start_time": "2021-12-16T01:38:57.254Z"
   },
   {
    "duration": 64,
    "start_time": "2021-12-16T01:38:57.292Z"
   },
   {
    "duration": 92,
    "start_time": "2021-12-16T01:38:57.358Z"
   },
   {
    "duration": 590,
    "start_time": "2021-12-16T01:38:57.452Z"
   },
   {
    "duration": 581,
    "start_time": "2021-12-16T01:38:58.045Z"
   },
   {
    "duration": 662,
    "start_time": "2021-12-16T01:38:58.628Z"
   },
   {
    "duration": 79,
    "start_time": "2021-12-16T01:38:59.293Z"
   },
   {
    "duration": 7,
    "start_time": "2021-12-16T01:38:59.374Z"
   },
   {
    "duration": 526,
    "start_time": "2021-12-16T01:38:59.423Z"
   },
   {
    "duration": 16,
    "start_time": "2021-12-16T01:38:59.952Z"
   },
   {
    "duration": 52,
    "start_time": "2021-12-16T01:38:59.971Z"
   },
   {
    "duration": 7,
    "start_time": "2021-12-16T01:39:00.026Z"
   },
   {
    "duration": 22,
    "start_time": "2021-12-16T01:39:00.037Z"
   },
   {
    "duration": 4,
    "start_time": "2021-12-16T01:39:00.062Z"
   },
   {
    "duration": 69,
    "start_time": "2021-12-16T01:39:00.068Z"
   },
   {
    "duration": 15,
    "start_time": "2021-12-16T01:39:00.139Z"
   },
   {
    "duration": 657,
    "start_time": "2021-12-16T01:43:04.528Z"
   },
   {
    "duration": 450,
    "start_time": "2021-12-16T01:47:05.282Z"
   },
   {
    "duration": 494,
    "start_time": "2021-12-16T02:00:33.842Z"
   },
   {
    "duration": 1323,
    "start_time": "2021-12-16T02:00:53.681Z"
   },
   {
    "duration": 441,
    "start_time": "2021-12-16T02:00:55.007Z"
   },
   {
    "duration": 34,
    "start_time": "2021-12-16T02:00:55.451Z"
   },
   {
    "duration": 260,
    "start_time": "2021-12-16T02:00:55.488Z"
   },
   {
    "duration": 28,
    "start_time": "2021-12-16T02:00:55.750Z"
   },
   {
    "duration": 583,
    "start_time": "2021-12-16T02:00:55.780Z"
   },
   {
    "duration": 584,
    "start_time": "2021-12-16T02:00:56.365Z"
   },
   {
    "duration": 617,
    "start_time": "2021-12-16T02:00:56.953Z"
   },
   {
    "duration": 548,
    "start_time": "2021-12-16T02:00:57.573Z"
   },
   {
    "duration": 41,
    "start_time": "2021-12-16T02:00:58.124Z"
   },
   {
    "duration": 61,
    "start_time": "2021-12-16T02:00:58.168Z"
   },
   {
    "duration": 37,
    "start_time": "2021-12-16T02:00:58.232Z"
   },
   {
    "duration": 92,
    "start_time": "2021-12-16T02:00:58.272Z"
   },
   {
    "duration": 558,
    "start_time": "2021-12-16T02:00:58.367Z"
   },
   {
    "duration": 540,
    "start_time": "2021-12-16T02:00:58.928Z"
   },
   {
    "duration": 631,
    "start_time": "2021-12-16T02:00:59.471Z"
   },
   {
    "duration": 75,
    "start_time": "2021-12-16T02:01:00.104Z"
   },
   {
    "duration": 42,
    "start_time": "2021-12-16T02:01:00.182Z"
   },
   {
    "duration": 527,
    "start_time": "2021-12-16T02:01:00.226Z"
   },
   {
    "duration": 20,
    "start_time": "2021-12-16T02:01:00.755Z"
   },
   {
    "duration": 47,
    "start_time": "2021-12-16T02:01:00.778Z"
   },
   {
    "duration": 18,
    "start_time": "2021-12-16T02:01:00.827Z"
   },
   {
    "duration": 23,
    "start_time": "2021-12-16T02:01:00.849Z"
   },
   {
    "duration": 5,
    "start_time": "2021-12-16T02:01:00.874Z"
   },
   {
    "duration": 585,
    "start_time": "2021-12-16T02:01:00.881Z"
   },
   {
    "duration": -131,
    "start_time": "2021-12-16T02:01:01.600Z"
   },
   {
    "duration": 640,
    "start_time": "2021-12-16T02:01:41.616Z"
   },
   {
    "duration": 5,
    "start_time": "2021-12-16T02:02:57.695Z"
   },
   {
    "duration": 102,
    "start_time": "2021-12-16T02:04:59.437Z"
   },
   {
    "duration": 484,
    "start_time": "2021-12-16T02:05:07.034Z"
   },
   {
    "duration": 8,
    "start_time": "2021-12-16T02:05:28.244Z"
   },
   {
    "duration": 480,
    "start_time": "2021-12-16T02:05:40.629Z"
   },
   {
    "duration": 485,
    "start_time": "2021-12-16T02:10:50.740Z"
   },
   {
    "duration": 190,
    "start_time": "2021-12-16T02:11:01.633Z"
   },
   {
    "duration": 204,
    "start_time": "2021-12-16T02:11:26.689Z"
   },
   {
    "duration": 13,
    "start_time": "2021-12-16T02:11:39.508Z"
   },
   {
    "duration": 14,
    "start_time": "2021-12-16T02:11:48.059Z"
   },
   {
    "duration": 15,
    "start_time": "2021-12-16T02:11:51.211Z"
   },
   {
    "duration": 231,
    "start_time": "2021-12-16T02:12:02.972Z"
   },
   {
    "duration": 1277,
    "start_time": "2021-12-16T02:12:14.243Z"
   },
   {
    "duration": 239,
    "start_time": "2021-12-16T02:12:29.009Z"
   },
   {
    "duration": 482,
    "start_time": "2021-12-16T02:14:25.329Z"
   },
   {
    "duration": 485,
    "start_time": "2021-12-16T02:14:55.137Z"
   },
   {
    "duration": 476,
    "start_time": "2021-12-16T02:19:05.989Z"
   },
   {
    "duration": 3,
    "start_time": "2021-12-16T02:20:21.395Z"
   },
   {
    "duration": 14,
    "start_time": "2021-12-16T02:20:25.380Z"
   },
   {
    "duration": 466,
    "start_time": "2021-12-16T02:41:08.368Z"
   },
   {
    "duration": 281,
    "start_time": "2021-12-16T02:41:54.960Z"
   },
   {
    "duration": 7,
    "start_time": "2021-12-16T02:42:11.851Z"
   },
   {
    "duration": 471,
    "start_time": "2021-12-16T02:43:41.109Z"
   },
   {
    "duration": 521,
    "start_time": "2021-12-16T02:44:08.159Z"
   },
   {
    "duration": 445,
    "start_time": "2021-12-16T02:44:17.210Z"
   },
   {
    "duration": 14,
    "start_time": "2021-12-16T02:46:21.751Z"
   },
   {
    "duration": 1445,
    "start_time": "2021-12-16T02:46:31.187Z"
   },
   {
    "duration": 465,
    "start_time": "2021-12-16T02:46:32.635Z"
   },
   {
    "duration": 48,
    "start_time": "2021-12-16T02:46:33.103Z"
   },
   {
    "duration": 273,
    "start_time": "2021-12-16T02:46:33.154Z"
   },
   {
    "duration": 34,
    "start_time": "2021-12-16T02:46:33.430Z"
   },
   {
    "duration": 671,
    "start_time": "2021-12-16T02:46:33.467Z"
   },
   {
    "duration": 628,
    "start_time": "2021-12-16T02:46:34.140Z"
   },
   {
    "duration": 651,
    "start_time": "2021-12-16T02:46:34.773Z"
   },
   {
    "duration": 607,
    "start_time": "2021-12-16T02:46:35.428Z"
   },
   {
    "duration": 39,
    "start_time": "2021-12-16T02:46:36.038Z"
   },
   {
    "duration": 58,
    "start_time": "2021-12-16T02:46:36.079Z"
   },
   {
    "duration": 35,
    "start_time": "2021-12-16T02:46:36.139Z"
   },
   {
    "duration": 101,
    "start_time": "2021-12-16T02:46:36.176Z"
   },
   {
    "duration": 579,
    "start_time": "2021-12-16T02:46:36.280Z"
   },
   {
    "duration": 675,
    "start_time": "2021-12-16T02:46:36.861Z"
   },
   {
    "duration": 689,
    "start_time": "2021-12-16T02:46:37.538Z"
   },
   {
    "duration": 103,
    "start_time": "2021-12-16T02:46:38.230Z"
   },
   {
    "duration": 7,
    "start_time": "2021-12-16T02:46:38.335Z"
   },
   {
    "duration": 508,
    "start_time": "2021-12-16T02:46:38.344Z"
   },
   {
    "duration": 17,
    "start_time": "2021-12-16T02:46:38.854Z"
   },
   {
    "duration": 5,
    "start_time": "2021-12-16T02:46:38.874Z"
   },
   {
    "duration": 6,
    "start_time": "2021-12-16T02:46:38.924Z"
   },
   {
    "duration": 21,
    "start_time": "2021-12-16T02:46:38.935Z"
   },
   {
    "duration": 7,
    "start_time": "2021-12-16T02:46:38.958Z"
   },
   {
    "duration": 6,
    "start_time": "2021-12-16T02:46:38.967Z"
   },
   {
    "duration": 56,
    "start_time": "2021-12-16T02:46:38.975Z"
   },
   {
    "duration": 93,
    "start_time": "2021-12-16T04:23:57.577Z"
   },
   {
    "duration": 433,
    "start_time": "2021-12-16T04:24:01.593Z"
   },
   {
    "duration": 15,
    "start_time": "2021-12-16T04:24:08.806Z"
   },
   {
    "duration": 302,
    "start_time": "2021-12-16T22:53:18.498Z"
   },
   {
    "duration": 1115,
    "start_time": "2021-12-16T22:53:29.276Z"
   },
   {
    "duration": 364,
    "start_time": "2021-12-16T22:53:30.393Z"
   },
   {
    "duration": 31,
    "start_time": "2021-12-16T22:53:30.759Z"
   },
   {
    "duration": 206,
    "start_time": "2021-12-16T22:53:30.792Z"
   },
   {
    "duration": 21,
    "start_time": "2021-12-16T22:53:31.000Z"
   },
   {
    "duration": 385,
    "start_time": "2021-12-16T22:53:31.023Z"
   },
   {
    "duration": 356,
    "start_time": "2021-12-16T22:53:31.409Z"
   },
   {
    "duration": 387,
    "start_time": "2021-12-16T22:53:31.767Z"
   },
   {
    "duration": 334,
    "start_time": "2021-12-16T22:53:32.155Z"
   },
   {
    "duration": 31,
    "start_time": "2021-12-16T22:53:32.492Z"
   },
   {
    "duration": 27,
    "start_time": "2021-12-16T22:53:32.524Z"
   },
   {
    "duration": 48,
    "start_time": "2021-12-16T22:53:32.552Z"
   },
   {
    "duration": 43,
    "start_time": "2021-12-16T22:53:32.601Z"
   },
   {
    "duration": 366,
    "start_time": "2021-12-16T22:53:32.645Z"
   },
   {
    "duration": 328,
    "start_time": "2021-12-16T22:53:33.012Z"
   },
   {
    "duration": 411,
    "start_time": "2021-12-16T22:53:33.342Z"
   },
   {
    "duration": 52,
    "start_time": "2021-12-16T22:53:33.754Z"
   },
   {
    "duration": 4,
    "start_time": "2021-12-16T22:53:33.808Z"
   },
   {
    "duration": 385,
    "start_time": "2021-12-16T22:53:33.814Z"
   },
   {
    "duration": 11,
    "start_time": "2021-12-16T22:53:34.200Z"
   },
   {
    "duration": 4,
    "start_time": "2021-12-16T22:53:34.212Z"
   },
   {
    "duration": 7,
    "start_time": "2021-12-16T22:53:34.218Z"
   },
   {
    "duration": 61,
    "start_time": "2021-12-16T22:53:34.227Z"
   },
   {
    "duration": 6,
    "start_time": "2021-12-16T22:53:34.289Z"
   },
   {
    "duration": 6,
    "start_time": "2021-12-16T22:53:34.296Z"
   },
   {
    "duration": 11,
    "start_time": "2021-12-16T22:53:34.303Z"
   },
   {
    "duration": 329,
    "start_time": "2021-12-16T22:53:34.315Z"
   },
   {
    "duration": 290,
    "start_time": "2021-12-16T22:53:40.571Z"
   },
   {
    "duration": 386,
    "start_time": "2021-12-17T03:03:16.943Z"
   },
   {
    "duration": 1501,
    "start_time": "2021-12-17T03:03:30.474Z"
   },
   {
    "duration": 1120,
    "start_time": "2021-12-17T03:03:31.978Z"
   },
   {
    "duration": 35,
    "start_time": "2021-12-17T03:03:33.102Z"
   },
   {
    "duration": 271,
    "start_time": "2021-12-17T03:03:33.139Z"
   },
   {
    "duration": 56,
    "start_time": "2021-12-17T03:03:33.413Z"
   },
   {
    "duration": 990,
    "start_time": "2021-12-17T03:03:33.472Z"
   },
   {
    "duration": 635,
    "start_time": "2021-12-17T03:03:34.466Z"
   },
   {
    "duration": 686,
    "start_time": "2021-12-17T03:03:35.103Z"
   },
   {
    "duration": 604,
    "start_time": "2021-12-17T03:03:35.793Z"
   },
   {
    "duration": 45,
    "start_time": "2021-12-17T03:03:36.401Z"
   },
   {
    "duration": 40,
    "start_time": "2021-12-17T03:03:36.462Z"
   },
   {
    "duration": 72,
    "start_time": "2021-12-17T03:03:36.504Z"
   },
   {
    "duration": 89,
    "start_time": "2021-12-17T03:03:36.578Z"
   },
   {
    "duration": 632,
    "start_time": "2021-12-17T03:03:36.669Z"
   },
   {
    "duration": 600,
    "start_time": "2021-12-17T03:03:37.304Z"
   },
   {
    "duration": 701,
    "start_time": "2021-12-17T03:03:37.907Z"
   },
   {
    "duration": 91,
    "start_time": "2021-12-17T03:03:38.611Z"
   },
   {
    "duration": 7,
    "start_time": "2021-12-17T03:03:38.704Z"
   },
   {
    "duration": 571,
    "start_time": "2021-12-17T03:03:38.714Z"
   },
   {
    "duration": 18,
    "start_time": "2021-12-17T03:03:39.288Z"
   },
   {
    "duration": 15,
    "start_time": "2021-12-17T03:03:39.309Z"
   },
   {
    "duration": 47,
    "start_time": "2021-12-17T03:03:39.327Z"
   },
   {
    "duration": 58,
    "start_time": "2021-12-17T03:03:39.377Z"
   },
   {
    "duration": 7,
    "start_time": "2021-12-17T03:03:39.438Z"
   },
   {
    "duration": 24,
    "start_time": "2021-12-17T03:03:39.448Z"
   },
   {
    "duration": 40,
    "start_time": "2021-12-17T03:03:39.474Z"
   },
   {
    "duration": 848,
    "start_time": "2021-12-17T03:03:39.519Z"
   },
   {
    "duration": 771,
    "start_time": "2021-12-17T03:03:47.733Z"
   },
   {
    "duration": 998,
    "start_time": "2021-12-17T03:05:32.565Z"
   },
   {
    "duration": 5,
    "start_time": "2021-12-17T03:08:13.341Z"
   },
   {
    "duration": 7390,
    "start_time": "2021-12-17T03:09:59.851Z"
   },
   {
    "duration": 1430,
    "start_time": "2021-12-17T03:11:25.575Z"
   },
   {
    "duration": 498,
    "start_time": "2021-12-17T03:11:27.008Z"
   },
   {
    "duration": 57,
    "start_time": "2021-12-17T03:11:27.509Z"
   },
   {
    "duration": 254,
    "start_time": "2021-12-17T03:11:27.569Z"
   },
   {
    "duration": 40,
    "start_time": "2021-12-17T03:11:27.825Z"
   },
   {
    "duration": 655,
    "start_time": "2021-12-17T03:11:27.868Z"
   },
   {
    "duration": 651,
    "start_time": "2021-12-17T03:11:28.526Z"
   },
   {
    "duration": 684,
    "start_time": "2021-12-17T03:11:29.182Z"
   },
   {
    "duration": 628,
    "start_time": "2021-12-17T03:11:29.870Z"
   },
   {
    "duration": 61,
    "start_time": "2021-12-17T03:11:30.501Z"
   },
   {
    "duration": 41,
    "start_time": "2021-12-17T03:11:30.565Z"
   },
   {
    "duration": 62,
    "start_time": "2021-12-17T03:11:30.608Z"
   },
   {
    "duration": 91,
    "start_time": "2021-12-17T03:11:30.672Z"
   },
   {
    "duration": 640,
    "start_time": "2021-12-17T03:11:30.766Z"
   },
   {
    "duration": 604,
    "start_time": "2021-12-17T03:11:31.408Z"
   },
   {
    "duration": 718,
    "start_time": "2021-12-17T03:11:32.015Z"
   },
   {
    "duration": 79,
    "start_time": "2021-12-17T03:11:32.735Z"
   },
   {
    "duration": 6,
    "start_time": "2021-12-17T03:11:32.817Z"
   },
   {
    "duration": 565,
    "start_time": "2021-12-17T03:11:32.825Z"
   },
   {
    "duration": 22,
    "start_time": "2021-12-17T03:11:33.392Z"
   },
   {
    "duration": 7,
    "start_time": "2021-12-17T03:11:33.418Z"
   },
   {
    "duration": 9,
    "start_time": "2021-12-17T03:11:33.464Z"
   },
   {
    "duration": 44,
    "start_time": "2021-12-17T03:11:33.478Z"
   },
   {
    "duration": 4,
    "start_time": "2021-12-17T03:11:33.525Z"
   },
   {
    "duration": 4,
    "start_time": "2021-12-17T03:11:33.563Z"
   },
   {
    "duration": 18,
    "start_time": "2021-12-17T03:11:33.569Z"
   },
   {
    "duration": 464,
    "start_time": "2021-12-17T03:11:33.590Z"
   },
   {
    "duration": 7565,
    "start_time": "2021-12-17T03:13:02.533Z"
   },
   {
    "duration": 1437,
    "start_time": "2021-12-17T03:13:18.460Z"
   },
   {
    "duration": 520,
    "start_time": "2021-12-17T03:13:19.900Z"
   },
   {
    "duration": 47,
    "start_time": "2021-12-17T03:13:20.423Z"
   },
   {
    "duration": 271,
    "start_time": "2021-12-17T03:13:20.473Z"
   },
   {
    "duration": 42,
    "start_time": "2021-12-17T03:13:20.747Z"
   },
   {
    "duration": 665,
    "start_time": "2021-12-17T03:13:20.792Z"
   },
   {
    "duration": 752,
    "start_time": "2021-12-17T03:13:21.463Z"
   },
   {
    "duration": 688,
    "start_time": "2021-12-17T03:13:22.218Z"
   },
   {
    "duration": 626,
    "start_time": "2021-12-17T03:13:22.910Z"
   },
   {
    "duration": 52,
    "start_time": "2021-12-17T03:13:23.539Z"
   },
   {
    "duration": 39,
    "start_time": "2021-12-17T03:13:23.594Z"
   },
   {
    "duration": 60,
    "start_time": "2021-12-17T03:13:23.635Z"
   },
   {
    "duration": 89,
    "start_time": "2021-12-17T03:13:23.697Z"
   },
   {
    "duration": 665,
    "start_time": "2021-12-17T03:13:23.789Z"
   },
   {
    "duration": 607,
    "start_time": "2021-12-17T03:13:24.463Z"
   },
   {
    "duration": 718,
    "start_time": "2021-12-17T03:13:25.073Z"
   },
   {
    "duration": 84,
    "start_time": "2021-12-17T03:13:25.794Z"
   },
   {
    "duration": 7,
    "start_time": "2021-12-17T03:13:25.880Z"
   },
   {
    "duration": 603,
    "start_time": "2021-12-17T03:13:25.889Z"
   },
   {
    "duration": 18,
    "start_time": "2021-12-17T03:13:26.495Z"
   },
   {
    "duration": 6,
    "start_time": "2021-12-17T03:13:26.515Z"
   },
   {
    "duration": 8,
    "start_time": "2021-12-17T03:13:26.564Z"
   },
   {
    "duration": 45,
    "start_time": "2021-12-17T03:13:26.574Z"
   },
   {
    "duration": 4,
    "start_time": "2021-12-17T03:13:26.622Z"
   },
   {
    "duration": 36,
    "start_time": "2021-12-17T03:13:26.628Z"
   },
   {
    "duration": 17,
    "start_time": "2021-12-17T03:13:26.666Z"
   },
   {
    "duration": 551,
    "start_time": "2021-12-17T03:13:26.688Z"
   },
   {
    "duration": 7428,
    "start_time": "2021-12-17T03:14:22.061Z"
   },
   {
    "duration": 1423,
    "start_time": "2021-12-17T03:14:39.844Z"
   },
   {
    "duration": 494,
    "start_time": "2021-12-17T03:14:41.270Z"
   },
   {
    "duration": 36,
    "start_time": "2021-12-17T03:14:41.767Z"
   },
   {
    "duration": 271,
    "start_time": "2021-12-17T03:14:41.806Z"
   },
   {
    "duration": 31,
    "start_time": "2021-12-17T03:14:42.080Z"
   },
   {
    "duration": 677,
    "start_time": "2021-12-17T03:14:42.114Z"
   },
   {
    "duration": 706,
    "start_time": "2021-12-17T03:14:42.794Z"
   },
   {
    "duration": 1004,
    "start_time": "2021-12-17T03:14:43.503Z"
   },
   {
    "duration": 940,
    "start_time": "2021-12-17T03:14:44.511Z"
   },
   {
    "duration": 51,
    "start_time": "2021-12-17T03:14:45.455Z"
   },
   {
    "duration": 63,
    "start_time": "2021-12-17T03:14:45.509Z"
   },
   {
    "duration": 39,
    "start_time": "2021-12-17T03:14:45.574Z"
   },
   {
    "duration": 101,
    "start_time": "2021-12-17T03:14:45.615Z"
   },
   {
    "duration": 659,
    "start_time": "2021-12-17T03:14:45.718Z"
   },
   {
    "duration": 733,
    "start_time": "2021-12-17T03:14:46.379Z"
   },
   {
    "duration": 711,
    "start_time": "2021-12-17T03:14:47.114Z"
   },
   {
    "duration": 88,
    "start_time": "2021-12-17T03:14:47.827Z"
   },
   {
    "duration": 7,
    "start_time": "2021-12-17T03:14:47.917Z"
   },
   {
    "duration": 554,
    "start_time": "2021-12-17T03:14:47.926Z"
   },
   {
    "duration": 16,
    "start_time": "2021-12-17T03:14:48.482Z"
   },
   {
    "duration": 5,
    "start_time": "2021-12-17T03:14:48.501Z"
   },
   {
    "duration": 56,
    "start_time": "2021-12-17T03:14:48.508Z"
   },
   {
    "duration": 45,
    "start_time": "2021-12-17T03:14:48.569Z"
   },
   {
    "duration": 3,
    "start_time": "2021-12-17T03:14:48.617Z"
   },
   {
    "duration": 41,
    "start_time": "2021-12-17T03:14:48.623Z"
   },
   {
    "duration": 27,
    "start_time": "2021-12-17T03:14:48.667Z"
   },
   {
    "duration": 449,
    "start_time": "2021-12-17T03:14:48.697Z"
   },
   {
    "duration": 560,
    "start_time": "2021-12-17T03:15:33.923Z"
   },
   {
    "duration": 1473,
    "start_time": "2021-12-17T03:15:48.100Z"
   },
   {
    "duration": 496,
    "start_time": "2021-12-17T03:15:49.576Z"
   },
   {
    "duration": 40,
    "start_time": "2021-12-17T03:15:50.076Z"
   },
   {
    "duration": 307,
    "start_time": "2021-12-17T03:15:50.118Z"
   },
   {
    "duration": 43,
    "start_time": "2021-12-17T03:15:50.427Z"
   },
   {
    "duration": 1004,
    "start_time": "2021-12-17T03:15:50.473Z"
   },
   {
    "duration": 645,
    "start_time": "2021-12-17T03:15:51.481Z"
   },
   {
    "duration": 662,
    "start_time": "2021-12-17T03:15:52.130Z"
   },
   {
    "duration": 613,
    "start_time": "2021-12-17T03:15:52.796Z"
   },
   {
    "duration": 54,
    "start_time": "2021-12-17T03:15:53.411Z"
   },
   {
    "duration": 39,
    "start_time": "2021-12-17T03:15:53.468Z"
   },
   {
    "duration": 72,
    "start_time": "2021-12-17T03:15:53.509Z"
   },
   {
    "duration": 84,
    "start_time": "2021-12-17T03:15:53.583Z"
   },
   {
    "duration": 703,
    "start_time": "2021-12-17T03:15:53.669Z"
   },
   {
    "duration": 596,
    "start_time": "2021-12-17T03:15:54.374Z"
   },
   {
    "duration": 699,
    "start_time": "2021-12-17T03:15:54.972Z"
   },
   {
    "duration": 105,
    "start_time": "2021-12-17T03:15:55.674Z"
   },
   {
    "duration": 7,
    "start_time": "2021-12-17T03:15:55.782Z"
   },
   {
    "duration": 486,
    "start_time": "2021-12-17T03:15:55.793Z"
   },
   {
    "duration": 20,
    "start_time": "2021-12-17T03:15:56.282Z"
   },
   {
    "duration": 6,
    "start_time": "2021-12-17T03:15:56.304Z"
   },
   {
    "duration": 53,
    "start_time": "2021-12-17T03:15:56.312Z"
   },
   {
    "duration": 43,
    "start_time": "2021-12-17T03:15:56.370Z"
   },
   {
    "duration": 4,
    "start_time": "2021-12-17T03:15:56.416Z"
   },
   {
    "duration": 4,
    "start_time": "2021-12-17T03:15:56.423Z"
   },
   {
    "duration": 27,
    "start_time": "2021-12-17T03:15:56.463Z"
   },
   {
    "duration": 463,
    "start_time": "2021-12-17T03:15:56.492Z"
   },
   {
    "duration": 1457,
    "start_time": "2021-12-17T03:17:07.056Z"
   },
   {
    "duration": 498,
    "start_time": "2021-12-17T03:17:08.515Z"
   },
   {
    "duration": 52,
    "start_time": "2021-12-17T03:17:09.016Z"
   },
   {
    "duration": 261,
    "start_time": "2021-12-17T03:17:09.071Z"
   },
   {
    "duration": 42,
    "start_time": "2021-12-17T03:17:09.335Z"
   },
   {
    "duration": 909,
    "start_time": "2021-12-17T03:17:09.380Z"
   },
   {
    "duration": 645,
    "start_time": "2021-12-17T03:17:10.291Z"
   },
   {
    "duration": 671,
    "start_time": "2021-12-17T03:17:10.939Z"
   },
   {
    "duration": 605,
    "start_time": "2021-12-17T03:17:11.614Z"
   },
   {
    "duration": 57,
    "start_time": "2021-12-17T03:17:12.222Z"
   },
   {
    "duration": 40,
    "start_time": "2021-12-17T03:17:12.281Z"
   },
   {
    "duration": 65,
    "start_time": "2021-12-17T03:17:12.324Z"
   },
   {
    "duration": 88,
    "start_time": "2021-12-17T03:17:12.391Z"
   },
   {
    "duration": 650,
    "start_time": "2021-12-17T03:17:12.482Z"
   },
   {
    "duration": 604,
    "start_time": "2021-12-17T03:17:13.134Z"
   },
   {
    "duration": 722,
    "start_time": "2021-12-17T03:17:13.740Z"
   },
   {
    "duration": 100,
    "start_time": "2021-12-17T03:17:14.465Z"
   },
   {
    "duration": 7,
    "start_time": "2021-12-17T03:17:14.568Z"
   },
   {
    "duration": 617,
    "start_time": "2021-12-17T03:17:14.578Z"
   },
   {
    "duration": 19,
    "start_time": "2021-12-17T03:17:15.198Z"
   },
   {
    "duration": 47,
    "start_time": "2021-12-17T03:17:15.219Z"
   },
   {
    "duration": 10,
    "start_time": "2021-12-17T03:17:15.268Z"
   },
   {
    "duration": 43,
    "start_time": "2021-12-17T03:17:15.280Z"
   },
   {
    "duration": 37,
    "start_time": "2021-12-17T03:17:15.326Z"
   },
   {
    "duration": 4,
    "start_time": "2021-12-17T03:17:15.366Z"
   },
   {
    "duration": 26,
    "start_time": "2021-12-17T03:17:15.372Z"
   },
   {
    "duration": 1175,
    "start_time": "2021-12-17T03:17:15.403Z"
   },
   {
    "duration": 314,
    "start_time": "2021-12-17T03:17:33.524Z"
   },
   {
    "duration": 1457,
    "start_time": "2021-12-17T03:17:42.676Z"
   },
   {
    "duration": 498,
    "start_time": "2021-12-17T03:17:44.136Z"
   },
   {
    "duration": 57,
    "start_time": "2021-12-17T03:17:44.638Z"
   },
   {
    "duration": 255,
    "start_time": "2021-12-17T03:17:44.698Z"
   },
   {
    "duration": 29,
    "start_time": "2021-12-17T03:17:44.963Z"
   },
   {
    "duration": 762,
    "start_time": "2021-12-17T03:17:44.995Z"
   },
   {
    "duration": 650,
    "start_time": "2021-12-17T03:17:45.763Z"
   },
   {
    "duration": 667,
    "start_time": "2021-12-17T03:17:46.415Z"
   },
   {
    "duration": 612,
    "start_time": "2021-12-17T03:17:47.087Z"
   },
   {
    "duration": 43,
    "start_time": "2021-12-17T03:17:47.703Z"
   },
   {
    "duration": 38,
    "start_time": "2021-12-17T03:17:47.763Z"
   },
   {
    "duration": 65,
    "start_time": "2021-12-17T03:17:47.803Z"
   },
   {
    "duration": 92,
    "start_time": "2021-12-17T03:17:47.871Z"
   },
   {
    "duration": 638,
    "start_time": "2021-12-17T03:17:47.965Z"
   },
   {
    "duration": 613,
    "start_time": "2021-12-17T03:17:48.606Z"
   },
   {
    "duration": 786,
    "start_time": "2021-12-17T03:17:49.222Z"
   },
   {
    "duration": 82,
    "start_time": "2021-12-17T03:17:50.010Z"
   },
   {
    "duration": 7,
    "start_time": "2021-12-17T03:17:50.094Z"
   },
   {
    "duration": 582,
    "start_time": "2021-12-17T03:17:50.103Z"
   },
   {
    "duration": 17,
    "start_time": "2021-12-17T03:17:50.688Z"
   },
   {
    "duration": 16,
    "start_time": "2021-12-17T03:17:50.708Z"
   },
   {
    "duration": 55,
    "start_time": "2021-12-17T03:17:50.727Z"
   },
   {
    "duration": 56,
    "start_time": "2021-12-17T03:17:50.785Z"
   },
   {
    "duration": 4,
    "start_time": "2021-12-17T03:17:50.844Z"
   },
   {
    "duration": 43,
    "start_time": "2021-12-17T03:17:50.850Z"
   },
   {
    "duration": 44,
    "start_time": "2021-12-17T03:17:50.895Z"
   },
   {
    "duration": 962,
    "start_time": "2021-12-17T03:17:50.944Z"
   },
   {
    "duration": 323,
    "start_time": "2021-12-17T03:18:30.371Z"
   },
   {
    "duration": 1420,
    "start_time": "2021-12-17T03:18:37.960Z"
   },
   {
    "duration": 489,
    "start_time": "2021-12-17T03:18:39.382Z"
   },
   {
    "duration": 37,
    "start_time": "2021-12-17T03:18:39.875Z"
   },
   {
    "duration": 279,
    "start_time": "2021-12-17T03:18:39.915Z"
   },
   {
    "duration": 30,
    "start_time": "2021-12-17T03:18:40.196Z"
   },
   {
    "duration": 656,
    "start_time": "2021-12-17T03:18:40.229Z"
   },
   {
    "duration": 663,
    "start_time": "2021-12-17T03:18:40.888Z"
   },
   {
    "duration": 670,
    "start_time": "2021-12-17T03:18:41.553Z"
   },
   {
    "duration": 626,
    "start_time": "2021-12-17T03:18:42.227Z"
   },
   {
    "duration": 48,
    "start_time": "2021-12-17T03:18:42.864Z"
   },
   {
    "duration": 63,
    "start_time": "2021-12-17T03:18:42.914Z"
   },
   {
    "duration": 37,
    "start_time": "2021-12-17T03:18:42.979Z"
   },
   {
    "duration": 103,
    "start_time": "2021-12-17T03:18:43.019Z"
   },
   {
    "duration": 684,
    "start_time": "2021-12-17T03:18:43.124Z"
   },
   {
    "duration": 737,
    "start_time": "2021-12-17T03:18:43.810Z"
   },
   {
    "duration": 724,
    "start_time": "2021-12-17T03:18:44.549Z"
   },
   {
    "duration": 96,
    "start_time": "2021-12-17T03:18:45.275Z"
   },
   {
    "duration": 8,
    "start_time": "2021-12-17T03:18:45.374Z"
   },
   {
    "duration": 502,
    "start_time": "2021-12-17T03:18:45.385Z"
   },
   {
    "duration": 19,
    "start_time": "2021-12-17T03:18:45.890Z"
   },
   {
    "duration": 7,
    "start_time": "2021-12-17T03:18:45.912Z"
   },
   {
    "duration": 8,
    "start_time": "2021-12-17T03:18:45.964Z"
   },
   {
    "duration": 88,
    "start_time": "2021-12-17T03:18:45.976Z"
   },
   {
    "duration": 4,
    "start_time": "2021-12-17T03:18:46.066Z"
   },
   {
    "duration": 12,
    "start_time": "2021-12-17T03:18:46.073Z"
   },
   {
    "duration": 35,
    "start_time": "2021-12-17T03:18:46.087Z"
   },
   {
    "duration": 556,
    "start_time": "2021-12-17T03:18:46.126Z"
   },
   {
    "duration": 1432,
    "start_time": "2021-12-17T03:19:38.084Z"
   },
   {
    "duration": 491,
    "start_time": "2021-12-17T03:19:39.519Z"
   },
   {
    "duration": 54,
    "start_time": "2021-12-17T03:19:40.013Z"
   },
   {
    "duration": 253,
    "start_time": "2021-12-17T03:19:40.070Z"
   },
   {
    "duration": 42,
    "start_time": "2021-12-17T03:19:40.325Z"
   },
   {
    "duration": 663,
    "start_time": "2021-12-17T03:19:40.370Z"
   },
   {
    "duration": 650,
    "start_time": "2021-12-17T03:19:41.035Z"
   },
   {
    "duration": 668,
    "start_time": "2021-12-17T03:19:41.687Z"
   },
   {
    "duration": 719,
    "start_time": "2021-12-17T03:19:42.364Z"
   },
   {
    "duration": 45,
    "start_time": "2021-12-17T03:19:43.086Z"
   },
   {
    "duration": 59,
    "start_time": "2021-12-17T03:19:43.134Z"
   },
   {
    "duration": 68,
    "start_time": "2021-12-17T03:19:43.196Z"
   },
   {
    "duration": 98,
    "start_time": "2021-12-17T03:19:43.266Z"
   },
   {
    "duration": 760,
    "start_time": "2021-12-17T03:19:43.366Z"
   },
   {
    "duration": 613,
    "start_time": "2021-12-17T03:19:44.128Z"
   },
   {
    "duration": 725,
    "start_time": "2021-12-17T03:19:44.743Z"
   },
   {
    "duration": 104,
    "start_time": "2021-12-17T03:19:45.470Z"
   },
   {
    "duration": 7,
    "start_time": "2021-12-17T03:19:45.576Z"
   },
   {
    "duration": 499,
    "start_time": "2021-12-17T03:19:45.585Z"
   },
   {
    "duration": 16,
    "start_time": "2021-12-17T03:19:46.087Z"
   },
   {
    "duration": 11,
    "start_time": "2021-12-17T03:19:46.106Z"
   },
   {
    "duration": 60,
    "start_time": "2021-12-17T03:19:46.119Z"
   },
   {
    "duration": 59,
    "start_time": "2021-12-17T03:19:46.182Z"
   },
   {
    "duration": 4,
    "start_time": "2021-12-17T03:19:46.243Z"
   },
   {
    "duration": 13,
    "start_time": "2021-12-17T03:19:46.249Z"
   },
   {
    "duration": 52,
    "start_time": "2021-12-17T03:19:46.264Z"
   },
   {
    "duration": 921,
    "start_time": "2021-12-17T03:19:46.320Z"
   },
   {
    "duration": 310,
    "start_time": "2021-12-17T03:22:55.305Z"
   },
   {
    "duration": 1455,
    "start_time": "2021-12-17T03:23:20.066Z"
   },
   {
    "duration": 487,
    "start_time": "2021-12-17T03:23:21.524Z"
   },
   {
    "duration": 52,
    "start_time": "2021-12-17T03:23:22.014Z"
   },
   {
    "duration": 425,
    "start_time": "2021-12-17T03:23:22.069Z"
   },
   {
    "duration": 40,
    "start_time": "2021-12-17T03:23:22.497Z"
   },
   {
    "duration": 993,
    "start_time": "2021-12-17T03:23:22.540Z"
   },
   {
    "duration": 991,
    "start_time": "2021-12-17T03:23:23.536Z"
   },
   {
    "duration": 1019,
    "start_time": "2021-12-17T03:23:24.533Z"
   },
   {
    "duration": 920,
    "start_time": "2021-12-17T03:23:25.556Z"
   },
   {
    "duration": 44,
    "start_time": "2021-12-17T03:23:26.479Z"
   },
   {
    "duration": 60,
    "start_time": "2021-12-17T03:23:26.525Z"
   },
   {
    "duration": 38,
    "start_time": "2021-12-17T03:23:26.587Z"
   },
   {
    "duration": 96,
    "start_time": "2021-12-17T03:23:26.627Z"
   },
   {
    "duration": 656,
    "start_time": "2021-12-17T03:23:26.726Z"
   },
   {
    "duration": 611,
    "start_time": "2021-12-17T03:23:27.384Z"
   },
   {
    "duration": 711,
    "start_time": "2021-12-17T03:23:27.998Z"
   },
   {
    "duration": 85,
    "start_time": "2021-12-17T03:23:28.712Z"
   },
   {
    "duration": 6,
    "start_time": "2021-12-17T03:23:28.800Z"
   },
   {
    "duration": 591,
    "start_time": "2021-12-17T03:23:28.809Z"
   },
   {
    "duration": 25,
    "start_time": "2021-12-17T03:23:29.403Z"
   },
   {
    "duration": 8,
    "start_time": "2021-12-17T03:23:29.463Z"
   },
   {
    "duration": 24,
    "start_time": "2021-12-17T03:23:29.474Z"
   },
   {
    "duration": 75,
    "start_time": "2021-12-17T03:23:29.505Z"
   },
   {
    "duration": 6,
    "start_time": "2021-12-17T03:23:29.583Z"
   },
   {
    "duration": 17,
    "start_time": "2021-12-17T03:23:29.592Z"
   },
   {
    "duration": 63,
    "start_time": "2021-12-17T03:23:29.612Z"
   },
   {
    "duration": 7,
    "start_time": "2021-12-17T03:23:29.678Z"
   },
   {
    "duration": 1356,
    "start_time": "2021-12-17T03:23:29.688Z"
   },
   {
    "duration": 971,
    "start_time": "2021-12-17T03:26:26.328Z"
   },
   {
    "duration": 847,
    "start_time": "2021-12-17T03:27:24.012Z"
   },
   {
    "duration": 886,
    "start_time": "2021-12-17T03:28:04.366Z"
   },
   {
    "duration": 862,
    "start_time": "2021-12-17T03:28:44.597Z"
   },
   {
    "duration": 735,
    "start_time": "2021-12-17T03:28:56.383Z"
   },
   {
    "duration": 835,
    "start_time": "2021-12-17T03:29:06.152Z"
   },
   {
    "duration": 1951,
    "start_time": "2021-12-17T03:29:16.429Z"
   },
   {
    "duration": 737,
    "start_time": "2021-12-17T03:29:18.383Z"
   },
   {
    "duration": 63,
    "start_time": "2021-12-17T03:29:19.123Z"
   },
   {
    "duration": 285,
    "start_time": "2021-12-17T03:29:19.190Z"
   },
   {
    "duration": 29,
    "start_time": "2021-12-17T03:29:19.478Z"
   },
   {
    "duration": 663,
    "start_time": "2021-12-17T03:29:19.510Z"
   },
   {
    "duration": 668,
    "start_time": "2021-12-17T03:29:20.176Z"
   },
   {
    "duration": 678,
    "start_time": "2021-12-17T03:29:20.846Z"
   },
   {
    "duration": 614,
    "start_time": "2021-12-17T03:29:21.528Z"
   },
   {
    "duration": 50,
    "start_time": "2021-12-17T03:29:22.145Z"
   },
   {
    "duration": 65,
    "start_time": "2021-12-17T03:29:22.198Z"
   },
   {
    "duration": 43,
    "start_time": "2021-12-17T03:29:22.265Z"
   },
   {
    "duration": 105,
    "start_time": "2021-12-17T03:29:22.312Z"
   },
   {
    "duration": 661,
    "start_time": "2021-12-17T03:29:22.421Z"
   },
   {
    "duration": 609,
    "start_time": "2021-12-17T03:29:23.085Z"
   },
   {
    "duration": 727,
    "start_time": "2021-12-17T03:29:23.696Z"
   },
   {
    "duration": 89,
    "start_time": "2021-12-17T03:29:24.426Z"
   },
   {
    "duration": 8,
    "start_time": "2021-12-17T03:29:24.518Z"
   },
   {
    "duration": 634,
    "start_time": "2021-12-17T03:29:24.564Z"
   },
   {
    "duration": 17,
    "start_time": "2021-12-17T03:29:25.201Z"
   },
   {
    "duration": 44,
    "start_time": "2021-12-17T03:29:25.221Z"
   },
   {
    "duration": 30,
    "start_time": "2021-12-17T03:29:25.268Z"
   },
   {
    "duration": 62,
    "start_time": "2021-12-17T03:29:25.301Z"
   },
   {
    "duration": 5,
    "start_time": "2021-12-17T03:29:25.366Z"
   },
   {
    "duration": 4,
    "start_time": "2021-12-17T03:29:25.373Z"
   },
   {
    "duration": 32,
    "start_time": "2021-12-17T03:29:25.380Z"
   },
   {
    "duration": 5,
    "start_time": "2021-12-17T03:29:25.462Z"
   },
   {
    "duration": 1242,
    "start_time": "2021-12-17T03:29:25.470Z"
   },
   {
    "duration": 280,
    "start_time": "2021-12-17T03:34:02.885Z"
   },
   {
    "duration": 106,
    "start_time": "2021-12-17T03:35:40.438Z"
   },
   {
    "duration": 277,
    "start_time": "2021-12-17T03:35:43.395Z"
   },
   {
    "duration": 942,
    "start_time": "2021-12-17T03:35:54.242Z"
   },
   {
    "duration": 1458,
    "start_time": "2021-12-17T03:36:16.641Z"
   },
   {
    "duration": 504,
    "start_time": "2021-12-17T03:36:18.102Z"
   },
   {
    "duration": 59,
    "start_time": "2021-12-17T03:36:18.609Z"
   },
   {
    "duration": 265,
    "start_time": "2021-12-17T03:36:18.671Z"
   },
   {
    "duration": 44,
    "start_time": "2021-12-17T03:36:18.938Z"
   },
   {
    "duration": 658,
    "start_time": "2021-12-17T03:36:18.985Z"
   },
   {
    "duration": 678,
    "start_time": "2021-12-17T03:36:19.647Z"
   },
   {
    "duration": 696,
    "start_time": "2021-12-17T03:36:20.330Z"
   },
   {
    "duration": 619,
    "start_time": "2021-12-17T03:36:21.030Z"
   },
   {
    "duration": 51,
    "start_time": "2021-12-17T03:36:21.652Z"
   },
   {
    "duration": 63,
    "start_time": "2021-12-17T03:36:21.706Z"
   },
   {
    "duration": 39,
    "start_time": "2021-12-17T03:36:21.771Z"
   },
   {
    "duration": 98,
    "start_time": "2021-12-17T03:36:21.812Z"
   },
   {
    "duration": 653,
    "start_time": "2021-12-17T03:36:21.912Z"
   },
   {
    "duration": 624,
    "start_time": "2021-12-17T03:36:22.567Z"
   },
   {
    "duration": 707,
    "start_time": "2021-12-17T03:36:23.193Z"
   },
   {
    "duration": 81,
    "start_time": "2021-12-17T03:36:23.903Z"
   },
   {
    "duration": 6,
    "start_time": "2021-12-17T03:36:23.986Z"
   },
   {
    "duration": 585,
    "start_time": "2021-12-17T03:36:23.994Z"
   },
   {
    "duration": 15,
    "start_time": "2021-12-17T03:36:24.582Z"
   },
   {
    "duration": 11,
    "start_time": "2021-12-17T03:36:24.600Z"
   },
   {
    "duration": 56,
    "start_time": "2021-12-17T03:36:24.613Z"
   },
   {
    "duration": 52,
    "start_time": "2021-12-17T03:36:24.673Z"
   },
   {
    "duration": 4,
    "start_time": "2021-12-17T03:36:24.727Z"
   },
   {
    "duration": 15,
    "start_time": "2021-12-17T03:36:24.733Z"
   },
   {
    "duration": 28,
    "start_time": "2021-12-17T03:36:24.762Z"
   },
   {
    "duration": 320,
    "start_time": "2021-12-17T03:36:24.792Z"
   },
   {
    "duration": 972,
    "start_time": "2021-12-17T03:36:25.114Z"
   },
   {
    "duration": 777,
    "start_time": "2021-12-17T03:37:56.270Z"
   },
   {
    "duration": 1244,
    "start_time": "2021-12-17T03:38:12.067Z"
   },
   {
    "duration": 1170,
    "start_time": "2021-12-17T03:44:14.464Z"
   },
   {
    "duration": 918,
    "start_time": "2021-12-17T03:45:48.632Z"
   },
   {
    "duration": 827,
    "start_time": "2021-12-17T03:46:09.916Z"
   },
   {
    "duration": 1413,
    "start_time": "2021-12-17T03:46:54.159Z"
   },
   {
    "duration": 494,
    "start_time": "2021-12-17T03:46:55.575Z"
   },
   {
    "duration": 36,
    "start_time": "2021-12-17T03:46:56.072Z"
   },
   {
    "duration": 276,
    "start_time": "2021-12-17T03:46:56.111Z"
   },
   {
    "duration": 29,
    "start_time": "2021-12-17T03:46:56.390Z"
   },
   {
    "duration": 653,
    "start_time": "2021-12-17T03:46:56.421Z"
   },
   {
    "duration": 649,
    "start_time": "2021-12-17T03:46:57.076Z"
   },
   {
    "duration": 667,
    "start_time": "2021-12-17T03:46:57.729Z"
   },
   {
    "duration": 610,
    "start_time": "2021-12-17T03:46:58.399Z"
   },
   {
    "duration": 53,
    "start_time": "2021-12-17T03:46:59.012Z"
   },
   {
    "duration": 39,
    "start_time": "2021-12-17T03:46:59.067Z"
   },
   {
    "duration": 73,
    "start_time": "2021-12-17T03:46:59.108Z"
   },
   {
    "duration": 86,
    "start_time": "2021-12-17T03:46:59.183Z"
   },
   {
    "duration": 637,
    "start_time": "2021-12-17T03:46:59.271Z"
   },
   {
    "duration": 612,
    "start_time": "2021-12-17T03:46:59.910Z"
   },
   {
    "duration": 713,
    "start_time": "2021-12-17T03:47:00.524Z"
   },
   {
    "duration": 80,
    "start_time": "2021-12-17T03:47:01.239Z"
   },
   {
    "duration": 7,
    "start_time": "2021-12-17T03:47:01.321Z"
   },
   {
    "duration": 528,
    "start_time": "2021-12-17T03:47:01.363Z"
   },
   {
    "duration": 18,
    "start_time": "2021-12-17T03:47:01.893Z"
   },
   {
    "duration": 6,
    "start_time": "2021-12-17T03:47:01.913Z"
   },
   {
    "duration": 8,
    "start_time": "2021-12-17T03:47:01.962Z"
   },
   {
    "duration": 41,
    "start_time": "2021-12-17T03:47:01.975Z"
   },
   {
    "duration": 4,
    "start_time": "2021-12-17T03:47:02.018Z"
   },
   {
    "duration": 7,
    "start_time": "2021-12-17T03:47:02.024Z"
   },
   {
    "duration": 27,
    "start_time": "2021-12-17T03:47:02.064Z"
   },
   {
    "duration": 349,
    "start_time": "2021-12-17T03:47:02.093Z"
   },
   {
    "duration": 2297,
    "start_time": "2021-12-17T03:47:02.444Z"
   },
   {
    "duration": 738,
    "start_time": "2021-12-17T03:50:23.615Z"
   },
   {
    "duration": 787,
    "start_time": "2021-12-17T03:50:42.137Z"
   },
   {
    "duration": 1643,
    "start_time": "2021-12-17T03:57:31.932Z"
   },
   {
    "duration": 1474,
    "start_time": "2021-12-17T03:58:18.385Z"
   },
   {
    "duration": 514,
    "start_time": "2021-12-17T03:58:19.864Z"
   },
   {
    "duration": 37,
    "start_time": "2021-12-17T03:58:20.381Z"
   },
   {
    "duration": 304,
    "start_time": "2021-12-17T03:58:20.421Z"
   },
   {
    "duration": 43,
    "start_time": "2021-12-17T03:58:20.728Z"
   },
   {
    "duration": 657,
    "start_time": "2021-12-17T03:58:20.773Z"
   },
   {
    "duration": 653,
    "start_time": "2021-12-17T03:58:21.433Z"
   },
   {
    "duration": 670,
    "start_time": "2021-12-17T03:58:22.088Z"
   },
   {
    "duration": 624,
    "start_time": "2021-12-17T03:58:22.765Z"
   },
   {
    "duration": 44,
    "start_time": "2021-12-17T03:58:23.392Z"
   },
   {
    "duration": 60,
    "start_time": "2021-12-17T03:58:23.438Z"
   },
   {
    "duration": 66,
    "start_time": "2021-12-17T03:58:23.501Z"
   },
   {
    "duration": 94,
    "start_time": "2021-12-17T03:58:23.570Z"
   },
   {
    "duration": 733,
    "start_time": "2021-12-17T03:58:23.666Z"
   },
   {
    "duration": 689,
    "start_time": "2021-12-17T03:58:24.401Z"
   },
   {
    "duration": 698,
    "start_time": "2021-12-17T03:58:25.092Z"
   },
   {
    "duration": 87,
    "start_time": "2021-12-17T03:58:25.792Z"
   },
   {
    "duration": 7,
    "start_time": "2021-12-17T03:58:25.882Z"
   },
   {
    "duration": 498,
    "start_time": "2021-12-17T03:58:25.891Z"
   },
   {
    "duration": 20,
    "start_time": "2021-12-17T03:58:26.392Z"
   },
   {
    "duration": 49,
    "start_time": "2021-12-17T03:58:26.415Z"
   },
   {
    "duration": 23,
    "start_time": "2021-12-17T03:58:26.467Z"
   },
   {
    "duration": 73,
    "start_time": "2021-12-17T03:58:26.493Z"
   },
   {
    "duration": 4,
    "start_time": "2021-12-17T03:58:26.568Z"
   },
   {
    "duration": 22,
    "start_time": "2021-12-17T03:58:26.574Z"
   },
   {
    "duration": 45,
    "start_time": "2021-12-17T03:58:26.598Z"
   },
   {
    "duration": 288,
    "start_time": "2021-12-17T03:58:26.647Z"
   },
   {
    "duration": 5,
    "start_time": "2021-12-17T03:58:26.938Z"
   },
   {
    "duration": 31893,
    "start_time": "2021-12-17T03:58:26.945Z"
   },
   {
    "duration": 140073,
    "start_time": "2021-12-17T04:00:22.286Z"
   },
   {
    "duration": -245,
    "start_time": "2021-12-17T04:06:46.981Z"
   },
   {
    "duration": 14234,
    "start_time": "2021-12-17T04:06:50.847Z"
   },
   {
    "duration": 1201,
    "start_time": "2021-12-17T04:11:47.943Z"
   },
   {
    "duration": 1541,
    "start_time": "2021-12-17T04:12:08.964Z"
   },
   {
    "duration": 503,
    "start_time": "2021-12-17T04:12:10.508Z"
   },
   {
    "duration": 58,
    "start_time": "2021-12-17T04:12:11.014Z"
   },
   {
    "duration": 319,
    "start_time": "2021-12-17T04:12:11.075Z"
   },
   {
    "duration": 44,
    "start_time": "2021-12-17T04:12:11.397Z"
   },
   {
    "duration": 980,
    "start_time": "2021-12-17T04:12:11.464Z"
   },
   {
    "duration": 984,
    "start_time": "2021-12-17T04:12:12.447Z"
   },
   {
    "duration": 996,
    "start_time": "2021-12-17T04:12:13.434Z"
   },
   {
    "duration": 876,
    "start_time": "2021-12-17T04:12:14.435Z"
   },
   {
    "duration": 54,
    "start_time": "2021-12-17T04:12:15.314Z"
   },
   {
    "duration": 40,
    "start_time": "2021-12-17T04:12:15.370Z"
   },
   {
    "duration": 67,
    "start_time": "2021-12-17T04:12:15.412Z"
   },
   {
    "duration": 88,
    "start_time": "2021-12-17T04:12:15.481Z"
   },
   {
    "duration": 630,
    "start_time": "2021-12-17T04:12:15.571Z"
   },
   {
    "duration": 606,
    "start_time": "2021-12-17T04:12:16.203Z"
   },
   {
    "duration": 703,
    "start_time": "2021-12-17T04:12:16.811Z"
   },
   {
    "duration": 80,
    "start_time": "2021-12-17T04:12:17.517Z"
   },
   {
    "duration": 7,
    "start_time": "2021-12-17T04:12:17.599Z"
   },
   {
    "duration": 582,
    "start_time": "2021-12-17T04:12:17.608Z"
   },
   {
    "duration": 18,
    "start_time": "2021-12-17T04:12:18.193Z"
   },
   {
    "duration": 52,
    "start_time": "2021-12-17T04:12:18.213Z"
   },
   {
    "duration": 28,
    "start_time": "2021-12-17T04:12:18.267Z"
   },
   {
    "duration": 57,
    "start_time": "2021-12-17T04:12:18.298Z"
   },
   {
    "duration": 7,
    "start_time": "2021-12-17T04:12:18.358Z"
   },
   {
    "duration": 21,
    "start_time": "2021-12-17T04:12:18.367Z"
   },
   {
    "duration": 47,
    "start_time": "2021-12-17T04:12:18.390Z"
   },
   {
    "duration": 927,
    "start_time": "2021-12-17T04:12:18.441Z"
   },
   {
    "duration": 8,
    "start_time": "2021-12-17T04:12:19.371Z"
   },
   {
    "duration": 3171,
    "start_time": "2021-12-17T04:12:19.381Z"
   },
   {
    "duration": 3059,
    "start_time": "2021-12-17T04:12:22.554Z"
   },
   {
    "duration": 3288,
    "start_time": "2021-12-17T04:12:25.616Z"
   },
   {
    "duration": 887,
    "start_time": "2021-12-17T08:40:47.826Z"
   },
   {
    "duration": 1532,
    "start_time": "2021-12-17T08:41:30.564Z"
   },
   {
    "duration": 522,
    "start_time": "2021-12-17T08:41:32.099Z"
   },
   {
    "duration": 51,
    "start_time": "2021-12-17T08:41:32.624Z"
   },
   {
    "duration": 304,
    "start_time": "2021-12-17T08:41:32.678Z"
   },
   {
    "duration": 35,
    "start_time": "2021-12-17T08:41:32.985Z"
   },
   {
    "duration": 689,
    "start_time": "2021-12-17T08:41:33.023Z"
   },
   {
    "duration": 676,
    "start_time": "2021-12-17T08:41:33.714Z"
   },
   {
    "duration": 715,
    "start_time": "2021-12-17T08:41:34.394Z"
   },
   {
    "duration": 646,
    "start_time": "2021-12-17T08:41:35.113Z"
   },
   {
    "duration": 46,
    "start_time": "2021-12-17T08:41:35.766Z"
   },
   {
    "duration": 63,
    "start_time": "2021-12-17T08:41:35.814Z"
   },
   {
    "duration": 41,
    "start_time": "2021-12-17T08:41:35.880Z"
   },
   {
    "duration": 108,
    "start_time": "2021-12-17T08:41:35.923Z"
   },
   {
    "duration": 663,
    "start_time": "2021-12-17T08:41:36.033Z"
   },
   {
    "duration": 626,
    "start_time": "2021-12-17T08:41:36.699Z"
   },
   {
    "duration": 733,
    "start_time": "2021-12-17T08:41:37.328Z"
   },
   {
    "duration": 102,
    "start_time": "2021-12-17T08:41:38.067Z"
   },
   {
    "duration": 7,
    "start_time": "2021-12-17T08:41:38.171Z"
   },
   {
    "duration": 608,
    "start_time": "2021-12-17T08:41:38.180Z"
   },
   {
    "duration": 17,
    "start_time": "2021-12-17T08:41:38.791Z"
   },
   {
    "duration": 28,
    "start_time": "2021-12-17T08:41:38.810Z"
   },
   {
    "duration": 31,
    "start_time": "2021-12-17T08:41:38.841Z"
   },
   {
    "duration": 55,
    "start_time": "2021-12-17T08:41:38.877Z"
   },
   {
    "duration": 5,
    "start_time": "2021-12-17T08:41:38.935Z"
   },
   {
    "duration": 33,
    "start_time": "2021-12-17T08:41:38.943Z"
   },
   {
    "duration": 44,
    "start_time": "2021-12-17T08:41:38.978Z"
   },
   {
    "duration": 965,
    "start_time": "2021-12-17T08:41:39.024Z"
   },
   {
    "duration": 7,
    "start_time": "2021-12-17T08:41:39.992Z"
   },
   {
    "duration": 3145,
    "start_time": "2021-12-17T08:41:40.002Z"
   },
   {
    "duration": 3548,
    "start_time": "2021-12-17T08:41:43.150Z"
   },
   {
    "duration": 3278,
    "start_time": "2021-12-17T08:41:46.701Z"
   },
   {
    "duration": 7837,
    "start_time": "2021-12-17T08:41:49.982Z"
   },
   {
    "duration": -381,
    "start_time": "2021-12-17T08:41:58.202Z"
   },
   {
    "duration": -384,
    "start_time": "2021-12-17T08:41:58.207Z"
   },
   {
    "duration": 406,
    "start_time": "2021-12-17T08:48:27.472Z"
   },
   {
    "duration": 294,
    "start_time": "2021-12-17T08:48:44.994Z"
   },
   {
    "duration": 1527,
    "start_time": "2021-12-17T08:48:54.466Z"
   },
   {
    "duration": 524,
    "start_time": "2021-12-17T08:48:55.997Z"
   },
   {
    "duration": 56,
    "start_time": "2021-12-17T08:48:56.524Z"
   },
   {
    "duration": 308,
    "start_time": "2021-12-17T08:48:56.583Z"
   },
   {
    "duration": 32,
    "start_time": "2021-12-17T08:48:56.893Z"
   },
   {
    "duration": 721,
    "start_time": "2021-12-17T08:48:56.928Z"
   },
   {
    "duration": 717,
    "start_time": "2021-12-17T08:48:57.652Z"
   },
   {
    "duration": 695,
    "start_time": "2021-12-17T08:48:58.375Z"
   },
   {
    "duration": 637,
    "start_time": "2021-12-17T08:48:59.073Z"
   },
   {
    "duration": 57,
    "start_time": "2021-12-17T08:48:59.713Z"
   },
   {
    "duration": 43,
    "start_time": "2021-12-17T08:48:59.772Z"
   },
   {
    "duration": 71,
    "start_time": "2021-12-17T08:48:59.817Z"
   },
   {
    "duration": 87,
    "start_time": "2021-12-17T08:48:59.890Z"
   },
   {
    "duration": 732,
    "start_time": "2021-12-17T08:48:59.979Z"
   },
   {
    "duration": 615,
    "start_time": "2021-12-17T08:49:00.714Z"
   },
   {
    "duration": 743,
    "start_time": "2021-12-17T08:49:01.331Z"
   },
   {
    "duration": 97,
    "start_time": "2021-12-17T08:49:02.076Z"
   },
   {
    "duration": 7,
    "start_time": "2021-12-17T08:49:02.175Z"
   },
   {
    "duration": 606,
    "start_time": "2021-12-17T08:49:02.184Z"
   },
   {
    "duration": 18,
    "start_time": "2021-12-17T08:49:02.792Z"
   },
   {
    "duration": 28,
    "start_time": "2021-12-17T08:49:02.813Z"
   },
   {
    "duration": 18,
    "start_time": "2021-12-17T08:49:02.868Z"
   },
   {
    "duration": 67,
    "start_time": "2021-12-17T08:49:02.890Z"
   },
   {
    "duration": 4,
    "start_time": "2021-12-17T08:49:02.960Z"
   },
   {
    "duration": 25,
    "start_time": "2021-12-17T08:49:02.966Z"
   },
   {
    "duration": 54,
    "start_time": "2021-12-17T08:49:02.993Z"
   },
   {
    "duration": 983,
    "start_time": "2021-12-17T08:49:03.049Z"
   },
   {
    "duration": 8,
    "start_time": "2021-12-17T08:49:04.034Z"
   },
   {
    "duration": 3400,
    "start_time": "2021-12-17T08:49:04.044Z"
   },
   {
    "duration": 3960,
    "start_time": "2021-12-17T08:49:07.447Z"
   },
   {
    "duration": 3699,
    "start_time": "2021-12-17T08:49:11.410Z"
   },
   {
    "duration": 776,
    "start_time": "2021-12-17T08:49:15.111Z"
   },
   {
    "duration": -385,
    "start_time": "2021-12-17T08:49:16.274Z"
   },
   {
    "duration": -388,
    "start_time": "2021-12-17T08:49:16.279Z"
   },
   {
    "duration": 583,
    "start_time": "2021-12-17T08:52:22.291Z"
   },
   {
    "duration": 1142,
    "start_time": "2021-12-17T09:01:04.862Z"
   },
   {
    "duration": 1536,
    "start_time": "2021-12-17T09:01:18.493Z"
   },
   {
    "duration": 513,
    "start_time": "2021-12-17T09:01:20.032Z"
   },
   {
    "duration": 50,
    "start_time": "2021-12-17T09:01:20.548Z"
   },
   {
    "duration": 300,
    "start_time": "2021-12-17T09:01:20.600Z"
   },
   {
    "duration": 32,
    "start_time": "2021-12-17T09:01:20.903Z"
   },
   {
    "duration": 715,
    "start_time": "2021-12-17T09:01:20.938Z"
   },
   {
    "duration": 681,
    "start_time": "2021-12-17T09:01:21.655Z"
   },
   {
    "duration": 959,
    "start_time": "2021-12-17T09:01:22.341Z"
   },
   {
    "duration": 876,
    "start_time": "2021-12-17T09:01:23.304Z"
   },
   {
    "duration": 57,
    "start_time": "2021-12-17T09:01:24.183Z"
   },
   {
    "duration": 69,
    "start_time": "2021-12-17T09:01:24.243Z"
   },
   {
    "duration": 72,
    "start_time": "2021-12-17T09:01:24.315Z"
   },
   {
    "duration": 89,
    "start_time": "2021-12-17T09:01:24.390Z"
   },
   {
    "duration": 661,
    "start_time": "2021-12-17T09:01:24.481Z"
   },
   {
    "duration": 633,
    "start_time": "2021-12-17T09:01:25.144Z"
   },
   {
    "duration": 747,
    "start_time": "2021-12-17T09:01:25.780Z"
   },
   {
    "duration": 85,
    "start_time": "2021-12-17T09:01:26.530Z"
   },
   {
    "duration": 8,
    "start_time": "2021-12-17T09:01:26.617Z"
   },
   {
    "duration": 676,
    "start_time": "2021-12-17T09:01:26.627Z"
   },
   {
    "duration": 17,
    "start_time": "2021-12-17T09:01:27.305Z"
   },
   {
    "duration": 44,
    "start_time": "2021-12-17T09:01:27.324Z"
   },
   {
    "duration": 9,
    "start_time": "2021-12-17T09:01:27.370Z"
   },
   {
    "duration": 59,
    "start_time": "2021-12-17T09:01:27.383Z"
   },
   {
    "duration": 25,
    "start_time": "2021-12-17T09:01:27.445Z"
   },
   {
    "duration": 22,
    "start_time": "2021-12-17T09:01:27.472Z"
   },
   {
    "duration": 47,
    "start_time": "2021-12-17T09:01:27.496Z"
   },
   {
    "duration": 939,
    "start_time": "2021-12-17T09:01:27.545Z"
   },
   {
    "duration": 8,
    "start_time": "2021-12-17T09:01:28.486Z"
   },
   {
    "duration": 3210,
    "start_time": "2021-12-17T09:01:28.496Z"
   },
   {
    "duration": 3364,
    "start_time": "2021-12-17T09:01:31.708Z"
   },
   {
    "duration": 3255,
    "start_time": "2021-12-17T09:01:35.075Z"
   },
   {
    "duration": 5,
    "start_time": "2021-12-17T09:01:38.333Z"
   },
   {
    "duration": 619,
    "start_time": "2021-12-17T09:01:38.341Z"
   },
   {
    "duration": -145,
    "start_time": "2021-12-17T09:01:39.109Z"
   },
   {
    "duration": 271,
    "start_time": "2021-12-17T09:05:05.481Z"
   },
   {
    "duration": 470,
    "start_time": "2021-12-17T09:09:09.592Z"
   },
   {
    "duration": 6,
    "start_time": "2021-12-17T09:47:51.564Z"
   },
   {
    "duration": 587,
    "start_time": "2021-12-17T09:48:39.571Z"
   },
   {
    "duration": 817,
    "start_time": "2021-12-17T10:14:09.495Z"
   },
   {
    "duration": 529,
    "start_time": "2021-12-17T10:14:19.914Z"
   },
   {
    "duration": 504,
    "start_time": "2021-12-17T10:14:33.298Z"
   },
   {
    "duration": 1537,
    "start_time": "2021-12-17T10:14:42.744Z"
   },
   {
    "duration": 517,
    "start_time": "2021-12-17T10:14:44.283Z"
   },
   {
    "duration": 66,
    "start_time": "2021-12-17T10:14:44.803Z"
   },
   {
    "duration": 285,
    "start_time": "2021-12-17T10:14:44.872Z"
   },
   {
    "duration": 33,
    "start_time": "2021-12-17T10:14:45.167Z"
   },
   {
    "duration": 702,
    "start_time": "2021-12-17T10:14:45.203Z"
   },
   {
    "duration": 679,
    "start_time": "2021-12-17T10:14:45.907Z"
   },
   {
    "duration": 695,
    "start_time": "2021-12-17T10:14:46.590Z"
   },
   {
    "duration": 628,
    "start_time": "2021-12-17T10:14:47.288Z"
   },
   {
    "duration": 52,
    "start_time": "2021-12-17T10:14:47.918Z"
   },
   {
    "duration": 43,
    "start_time": "2021-12-17T10:14:47.972Z"
   },
   {
    "duration": 74,
    "start_time": "2021-12-17T10:14:48.017Z"
   },
   {
    "duration": 88,
    "start_time": "2021-12-17T10:14:48.094Z"
   },
   {
    "duration": 698,
    "start_time": "2021-12-17T10:14:48.184Z"
   },
   {
    "duration": 638,
    "start_time": "2021-12-17T10:14:48.885Z"
   },
   {
    "duration": 816,
    "start_time": "2021-12-17T10:14:49.526Z"
   },
   {
    "duration": 85,
    "start_time": "2021-12-17T10:14:50.345Z"
   },
   {
    "duration": 39,
    "start_time": "2021-12-17T10:14:50.433Z"
   },
   {
    "duration": 518,
    "start_time": "2021-12-17T10:14:50.475Z"
   },
   {
    "duration": 17,
    "start_time": "2021-12-17T10:14:50.996Z"
   },
   {
    "duration": 52,
    "start_time": "2021-12-17T10:14:51.016Z"
   },
   {
    "duration": 39,
    "start_time": "2021-12-17T10:14:51.071Z"
   },
   {
    "duration": 47,
    "start_time": "2021-12-17T10:14:51.118Z"
   },
   {
    "duration": 4,
    "start_time": "2021-12-17T10:14:51.168Z"
   },
   {
    "duration": 28,
    "start_time": "2021-12-17T10:14:51.174Z"
   },
   {
    "duration": 39,
    "start_time": "2021-12-17T10:14:51.205Z"
   },
   {
    "duration": 1158,
    "start_time": "2021-12-17T10:14:51.246Z"
   },
   {
    "duration": 11,
    "start_time": "2021-12-17T10:14:52.407Z"
   },
   {
    "duration": 675,
    "start_time": "2021-12-17T10:14:52.421Z"
   },
   {
    "duration": 3486,
    "start_time": "2021-12-17T10:14:53.098Z"
   },
   {
    "duration": 3263,
    "start_time": "2021-12-17T10:14:56.586Z"
   },
   {
    "duration": 650,
    "start_time": "2021-12-17T10:14:59.851Z"
   },
   {
    "duration": -310,
    "start_time": "2021-12-17T10:15:00.813Z"
   },
   {
    "duration": -312,
    "start_time": "2021-12-17T10:15:00.817Z"
   },
   {
    "duration": 323,
    "start_time": "2021-12-17T10:30:59.018Z"
   },
   {
    "duration": 1448,
    "start_time": "2021-12-17T10:31:13.032Z"
   },
   {
    "duration": 509,
    "start_time": "2021-12-17T10:31:14.483Z"
   },
   {
    "duration": 43,
    "start_time": "2021-12-17T10:31:14.995Z"
   },
   {
    "duration": 335,
    "start_time": "2021-12-17T10:31:15.041Z"
   },
   {
    "duration": 29,
    "start_time": "2021-12-17T10:31:15.379Z"
   },
   {
    "duration": 680,
    "start_time": "2021-12-17T10:31:15.411Z"
   },
   {
    "duration": 679,
    "start_time": "2021-12-17T10:31:16.093Z"
   },
   {
    "duration": 703,
    "start_time": "2021-12-17T10:31:16.776Z"
   },
   {
    "duration": 626,
    "start_time": "2021-12-17T10:31:17.482Z"
   },
   {
    "duration": 57,
    "start_time": "2021-12-17T10:31:18.110Z"
   },
   {
    "duration": 40,
    "start_time": "2021-12-17T10:31:18.170Z"
   },
   {
    "duration": 70,
    "start_time": "2021-12-17T10:31:18.213Z"
   },
   {
    "duration": 85,
    "start_time": "2021-12-17T10:31:18.285Z"
   },
   {
    "duration": 662,
    "start_time": "2021-12-17T10:31:18.373Z"
   },
   {
    "duration": 644,
    "start_time": "2021-12-17T10:31:19.037Z"
   },
   {
    "duration": 734,
    "start_time": "2021-12-17T10:31:19.684Z"
   },
   {
    "duration": 80,
    "start_time": "2021-12-17T10:31:20.420Z"
   },
   {
    "duration": 7,
    "start_time": "2021-12-17T10:31:20.502Z"
   },
   {
    "duration": 575,
    "start_time": "2021-12-17T10:31:20.511Z"
   },
   {
    "duration": 18,
    "start_time": "2021-12-17T10:31:21.089Z"
   },
   {
    "duration": 9,
    "start_time": "2021-12-17T10:31:21.109Z"
   },
   {
    "duration": 52,
    "start_time": "2021-12-17T10:31:21.120Z"
   },
   {
    "duration": 60,
    "start_time": "2021-12-17T10:31:21.177Z"
   },
   {
    "duration": 4,
    "start_time": "2021-12-17T10:31:21.240Z"
   },
   {
    "duration": 20,
    "start_time": "2021-12-17T10:31:21.247Z"
   },
   {
    "duration": 715,
    "start_time": "2021-12-17T10:31:21.269Z"
   },
   {
    "duration": -199,
    "start_time": "2021-12-17T10:31:22.185Z"
   },
   {
    "duration": -210,
    "start_time": "2021-12-17T10:31:22.197Z"
   },
   {
    "duration": -219,
    "start_time": "2021-12-17T10:31:22.207Z"
   },
   {
    "duration": -320,
    "start_time": "2021-12-17T10:31:22.310Z"
   },
   {
    "duration": -324,
    "start_time": "2021-12-17T10:31:22.315Z"
   },
   {
    "duration": -326,
    "start_time": "2021-12-17T10:31:22.318Z"
   },
   {
    "duration": -329,
    "start_time": "2021-12-17T10:31:22.323Z"
   },
   {
    "duration": -331,
    "start_time": "2021-12-17T10:31:22.326Z"
   },
   {
    "duration": -333,
    "start_time": "2021-12-17T10:31:22.330Z"
   },
   {
    "duration": 567,
    "start_time": "2021-12-17T10:37:27.512Z"
   },
   {
    "duration": 6,
    "start_time": "2021-12-17T10:37:51.638Z"
   },
   {
    "duration": 14,
    "start_time": "2021-12-17T10:37:54.291Z"
   },
   {
    "duration": 284,
    "start_time": "2021-12-17T10:41:39.414Z"
   },
   {
    "duration": 1576,
    "start_time": "2021-12-17T10:52:03.469Z"
   },
   {
    "duration": 520,
    "start_time": "2021-12-17T10:52:05.048Z"
   },
   {
    "duration": 67,
    "start_time": "2021-12-17T10:52:05.571Z"
   },
   {
    "duration": 358,
    "start_time": "2021-12-17T10:52:05.641Z"
   },
   {
    "duration": 29,
    "start_time": "2021-12-17T10:52:06.002Z"
   },
   {
    "duration": 704,
    "start_time": "2021-12-17T10:52:06.033Z"
   },
   {
    "duration": 729,
    "start_time": "2021-12-17T10:52:06.740Z"
   },
   {
    "duration": 623,
    "start_time": "2021-12-17T10:52:07.473Z"
   },
   {
    "duration": 635,
    "start_time": "2021-12-17T10:52:08.099Z"
   },
   {
    "duration": 50,
    "start_time": "2021-12-17T10:52:08.736Z"
   },
   {
    "duration": 44,
    "start_time": "2021-12-17T10:52:08.788Z"
   },
   {
    "duration": 72,
    "start_time": "2021-12-17T10:52:08.835Z"
   },
   {
    "duration": 100,
    "start_time": "2021-12-17T10:52:08.910Z"
   },
   {
    "duration": 658,
    "start_time": "2021-12-17T10:52:09.013Z"
   },
   {
    "duration": 647,
    "start_time": "2021-12-17T10:52:09.675Z"
   },
   {
    "duration": 745,
    "start_time": "2021-12-17T10:52:10.324Z"
   },
   {
    "duration": 101,
    "start_time": "2021-12-17T10:52:11.071Z"
   },
   {
    "duration": 6,
    "start_time": "2021-12-17T10:52:11.175Z"
   },
   {
    "duration": 507,
    "start_time": "2021-12-17T10:52:11.184Z"
   },
   {
    "duration": 17,
    "start_time": "2021-12-17T10:52:11.693Z"
   },
   {
    "duration": 6,
    "start_time": "2021-12-17T10:52:11.713Z"
   },
   {
    "duration": 55,
    "start_time": "2021-12-17T10:52:11.721Z"
   },
   {
    "duration": 44,
    "start_time": "2021-12-17T10:52:11.783Z"
   },
   {
    "duration": 4,
    "start_time": "2021-12-17T10:52:11.830Z"
   },
   {
    "duration": 6,
    "start_time": "2021-12-17T10:52:11.868Z"
   },
   {
    "duration": 26,
    "start_time": "2021-12-17T10:52:11.877Z"
   },
   {
    "duration": 7,
    "start_time": "2021-12-17T10:52:11.905Z"
   },
   {
    "duration": 11,
    "start_time": "2021-12-17T10:52:11.914Z"
   },
   {
    "duration": 424,
    "start_time": "2021-12-17T10:52:11.928Z"
   },
   {
    "duration": -106,
    "start_time": "2021-12-17T10:52:12.461Z"
   },
   {
    "duration": -109,
    "start_time": "2021-12-17T10:52:12.465Z"
   },
   {
    "duration": -114,
    "start_time": "2021-12-17T10:52:12.471Z"
   },
   {
    "duration": 1570,
    "start_time": "2021-12-17T11:02:43.058Z"
   },
   {
    "duration": 608,
    "start_time": "2021-12-17T11:02:44.631Z"
   },
   {
    "duration": 55,
    "start_time": "2021-12-17T11:02:45.242Z"
   },
   {
    "duration": 279,
    "start_time": "2021-12-17T11:02:45.300Z"
   },
   {
    "duration": 30,
    "start_time": "2021-12-17T11:02:45.581Z"
   },
   {
    "duration": 704,
    "start_time": "2021-12-17T11:02:45.613Z"
   },
   {
    "duration": 737,
    "start_time": "2021-12-17T11:02:46.319Z"
   },
   {
    "duration": 625,
    "start_time": "2021-12-17T11:02:47.067Z"
   },
   {
    "duration": 637,
    "start_time": "2021-12-17T11:02:47.696Z"
   },
   {
    "duration": 57,
    "start_time": "2021-12-17T11:02:48.335Z"
   },
   {
    "duration": 42,
    "start_time": "2021-12-17T11:02:48.394Z"
   },
   {
    "duration": 62,
    "start_time": "2021-12-17T11:02:48.438Z"
   },
   {
    "duration": 97,
    "start_time": "2021-12-17T11:02:48.503Z"
   },
   {
    "duration": 645,
    "start_time": "2021-12-17T11:02:48.603Z"
   },
   {
    "duration": 635,
    "start_time": "2021-12-17T11:02:49.251Z"
   },
   {
    "duration": 827,
    "start_time": "2021-12-17T11:02:49.889Z"
   },
   {
    "duration": 81,
    "start_time": "2021-12-17T11:02:50.718Z"
   },
   {
    "duration": 7,
    "start_time": "2021-12-17T11:02:50.802Z"
   },
   {
    "duration": 587,
    "start_time": "2021-12-17T11:02:50.811Z"
   },
   {
    "duration": 17,
    "start_time": "2021-12-17T11:02:51.400Z"
   },
   {
    "duration": 6,
    "start_time": "2021-12-17T11:02:51.419Z"
   },
   {
    "duration": 7,
    "start_time": "2021-12-17T11:02:51.467Z"
   },
   {
    "duration": 37,
    "start_time": "2021-12-17T11:02:51.478Z"
   },
   {
    "duration": 4,
    "start_time": "2021-12-17T11:02:51.518Z"
   },
   {
    "duration": 47,
    "start_time": "2021-12-17T11:02:51.524Z"
   },
   {
    "duration": 28,
    "start_time": "2021-12-17T11:02:51.574Z"
   },
   {
    "duration": 5,
    "start_time": "2021-12-17T11:02:51.605Z"
   },
   {
    "duration": 22,
    "start_time": "2021-12-17T11:02:51.613Z"
   },
   {
    "duration": 15,
    "start_time": "2021-12-17T11:02:51.637Z"
   },
   {
    "duration": 2137,
    "start_time": "2021-12-17T11:02:51.655Z"
   },
   {
    "duration": -166,
    "start_time": "2021-12-17T11:02:53.961Z"
   },
   {
    "duration": -168,
    "start_time": "2021-12-17T11:02:53.964Z"
   },
   {
    "duration": -281,
    "start_time": "2021-12-17T11:02:54.079Z"
   },
   {
    "duration": -283,
    "start_time": "2021-12-17T11:02:54.083Z"
   },
   {
    "duration": 1631,
    "start_time": "2021-12-17T11:04:04.993Z"
   },
   {
    "duration": 493,
    "start_time": "2021-12-17T11:04:06.627Z"
   },
   {
    "duration": 58,
    "start_time": "2021-12-17T11:04:07.123Z"
   },
   {
    "duration": 260,
    "start_time": "2021-12-17T11:04:07.184Z"
   },
   {
    "duration": 41,
    "start_time": "2021-12-17T11:04:07.447Z"
   },
   {
    "duration": 866,
    "start_time": "2021-12-17T11:04:07.491Z"
   },
   {
    "duration": 943,
    "start_time": "2021-12-17T11:04:08.367Z"
   },
   {
    "duration": 623,
    "start_time": "2021-12-17T11:04:09.314Z"
   },
   {
    "duration": 635,
    "start_time": "2021-12-17T11:04:09.940Z"
   },
   {
    "duration": 43,
    "start_time": "2021-12-17T11:04:10.577Z"
   },
   {
    "duration": 63,
    "start_time": "2021-12-17T11:04:10.623Z"
   },
   {
    "duration": 41,
    "start_time": "2021-12-17T11:04:10.688Z"
   },
   {
    "duration": 98,
    "start_time": "2021-12-17T11:04:10.731Z"
   },
   {
    "duration": 682,
    "start_time": "2021-12-17T11:04:10.831Z"
   },
   {
    "duration": 637,
    "start_time": "2021-12-17T11:04:11.515Z"
   },
   {
    "duration": 755,
    "start_time": "2021-12-17T11:04:12.155Z"
   },
   {
    "duration": 80,
    "start_time": "2021-12-17T11:04:12.913Z"
   },
   {
    "duration": 7,
    "start_time": "2021-12-17T11:04:12.995Z"
   },
   {
    "duration": 592,
    "start_time": "2021-12-17T11:04:13.004Z"
   },
   {
    "duration": 16,
    "start_time": "2021-12-17T11:04:13.599Z"
   },
   {
    "duration": 5,
    "start_time": "2021-12-17T11:04:13.618Z"
   },
   {
    "duration": 6,
    "start_time": "2021-12-17T11:04:13.668Z"
   },
   {
    "duration": 42,
    "start_time": "2021-12-17T11:04:13.681Z"
   },
   {
    "duration": 4,
    "start_time": "2021-12-17T11:04:13.726Z"
   },
   {
    "duration": 12,
    "start_time": "2021-12-17T11:04:13.768Z"
   },
   {
    "duration": 25,
    "start_time": "2021-12-17T11:04:13.782Z"
   },
   {
    "duration": 7,
    "start_time": "2021-12-17T11:04:13.809Z"
   },
   {
    "duration": 11,
    "start_time": "2021-12-17T11:04:13.818Z"
   },
   {
    "duration": 36,
    "start_time": "2021-12-17T11:04:13.831Z"
   },
   {
    "duration": 8418,
    "start_time": "2021-12-17T11:04:13.869Z"
   },
   {
    "duration": -246,
    "start_time": "2021-12-17T11:04:22.536Z"
   },
   {
    "duration": -249,
    "start_time": "2021-12-17T11:04:22.540Z"
   },
   {
    "duration": -250,
    "start_time": "2021-12-17T11:04:22.543Z"
   },
   {
    "duration": -255,
    "start_time": "2021-12-17T11:04:22.549Z"
   },
   {
    "duration": 1870,
    "start_time": "2021-12-17T11:05:23.735Z"
   },
   {
    "duration": 542,
    "start_time": "2021-12-17T11:05:25.608Z"
   },
   {
    "duration": 45,
    "start_time": "2021-12-17T11:05:26.152Z"
   },
   {
    "duration": 402,
    "start_time": "2021-12-17T11:05:26.200Z"
   },
   {
    "duration": 30,
    "start_time": "2021-12-17T11:05:26.604Z"
   },
   {
    "duration": 672,
    "start_time": "2021-12-17T11:05:26.636Z"
   },
   {
    "duration": 759,
    "start_time": "2021-12-17T11:05:27.310Z"
   },
   {
    "duration": 638,
    "start_time": "2021-12-17T11:05:28.075Z"
   },
   {
    "duration": 650,
    "start_time": "2021-12-17T11:05:28.717Z"
   },
   {
    "duration": 46,
    "start_time": "2021-12-17T11:05:29.370Z"
   },
   {
    "duration": 69,
    "start_time": "2021-12-17T11:05:29.419Z"
   },
   {
    "duration": 43,
    "start_time": "2021-12-17T11:05:29.491Z"
   },
   {
    "duration": 75,
    "start_time": "2021-12-17T11:05:29.568Z"
   },
   {
    "duration": 675,
    "start_time": "2021-12-17T11:05:29.668Z"
   },
   {
    "duration": 633,
    "start_time": "2021-12-17T11:05:30.346Z"
   },
   {
    "duration": 750,
    "start_time": "2021-12-17T11:05:30.982Z"
   },
   {
    "duration": 95,
    "start_time": "2021-12-17T11:05:31.735Z"
   },
   {
    "duration": 8,
    "start_time": "2021-12-17T11:05:31.868Z"
   },
   {
    "duration": 508,
    "start_time": "2021-12-17T11:05:31.879Z"
   },
   {
    "duration": 17,
    "start_time": "2021-12-17T11:05:32.390Z"
   },
   {
    "duration": 26,
    "start_time": "2021-12-17T11:05:32.409Z"
   },
   {
    "duration": 37,
    "start_time": "2021-12-17T11:05:32.437Z"
   },
   {
    "duration": 55,
    "start_time": "2021-12-17T11:05:32.479Z"
   },
   {
    "duration": 4,
    "start_time": "2021-12-17T11:05:32.537Z"
   },
   {
    "duration": 33,
    "start_time": "2021-12-17T11:05:32.543Z"
   },
   {
    "duration": 49,
    "start_time": "2021-12-17T11:05:32.578Z"
   },
   {
    "duration": 34,
    "start_time": "2021-12-17T11:05:32.630Z"
   },
   {
    "duration": 64,
    "start_time": "2021-12-17T11:05:32.666Z"
   },
   {
    "duration": 35,
    "start_time": "2021-12-17T11:05:32.732Z"
   },
   {
    "duration": 5352,
    "start_time": "2021-12-17T11:05:32.769Z"
   },
   {
    "duration": 1228,
    "start_time": "2021-12-17T11:05:38.123Z"
   },
   {
    "duration": -240,
    "start_time": "2021-12-17T11:05:39.594Z"
   },
   {
    "duration": -244,
    "start_time": "2021-12-17T11:05:39.599Z"
   },
   {
    "duration": -246,
    "start_time": "2021-12-17T11:05:39.602Z"
   },
   {
    "duration": 5123,
    "start_time": "2021-12-17T11:10:38.200Z"
   },
   {
    "duration": 3377,
    "start_time": "2021-12-17T11:10:50.489Z"
   },
   {
    "duration": 1593,
    "start_time": "2021-12-17T11:10:53.869Z"
   },
   {
    "duration": 619,
    "start_time": "2021-12-17T11:10:55.468Z"
   },
   {
    "duration": 38,
    "start_time": "2021-12-17T11:10:56.090Z"
   },
   {
    "duration": 354,
    "start_time": "2021-12-17T11:10:56.131Z"
   },
   {
    "duration": 30,
    "start_time": "2021-12-17T11:10:56.487Z"
   },
   {
    "duration": 682,
    "start_time": "2021-12-17T11:10:56.520Z"
   },
   {
    "duration": 734,
    "start_time": "2021-12-17T11:10:57.205Z"
   },
   {
    "duration": 629,
    "start_time": "2021-12-17T11:10:57.942Z"
   },
   {
    "duration": 639,
    "start_time": "2021-12-17T11:10:58.574Z"
   },
   {
    "duration": 55,
    "start_time": "2021-12-17T11:10:59.215Z"
   },
   {
    "duration": 44,
    "start_time": "2021-12-17T11:10:59.273Z"
   },
   {
    "duration": 72,
    "start_time": "2021-12-17T11:10:59.320Z"
   },
   {
    "duration": 89,
    "start_time": "2021-12-17T11:10:59.395Z"
   },
   {
    "duration": 669,
    "start_time": "2021-12-17T11:10:59.487Z"
   },
   {
    "duration": 625,
    "start_time": "2021-12-17T11:11:00.159Z"
   },
   {
    "duration": 735,
    "start_time": "2021-12-17T11:11:00.786Z"
   },
   {
    "duration": 88,
    "start_time": "2021-12-17T11:11:01.524Z"
   },
   {
    "duration": 21,
    "start_time": "2021-12-17T11:11:01.615Z"
   },
   {
    "duration": 559,
    "start_time": "2021-12-17T11:11:01.639Z"
   },
   {
    "duration": 16,
    "start_time": "2021-12-17T11:11:02.201Z"
   },
   {
    "duration": 49,
    "start_time": "2021-12-17T11:11:02.220Z"
   },
   {
    "duration": 39,
    "start_time": "2021-12-17T11:11:02.274Z"
   },
   {
    "duration": 72,
    "start_time": "2021-12-17T11:11:02.316Z"
   },
   {
    "duration": 9,
    "start_time": "2021-12-17T11:11:02.390Z"
   },
   {
    "duration": 41,
    "start_time": "2021-12-17T11:11:02.402Z"
   },
   {
    "duration": 82,
    "start_time": "2021-12-17T11:11:02.445Z"
   },
   {
    "duration": 52,
    "start_time": "2021-12-17T11:11:02.529Z"
   },
   {
    "duration": 59,
    "start_time": "2021-12-17T11:11:02.584Z"
   },
   {
    "duration": 36,
    "start_time": "2021-12-17T11:11:02.646Z"
   },
   {
    "duration": 5659,
    "start_time": "2021-12-17T11:11:02.684Z"
   },
   {
    "duration": 2568,
    "start_time": "2021-12-17T11:11:08.346Z"
   },
   {
    "duration": 554,
    "start_time": "2021-12-17T11:11:10.917Z"
   },
   {
    "duration": -164,
    "start_time": "2021-12-17T11:11:11.637Z"
   },
   {
    "duration": -167,
    "start_time": "2021-12-17T11:11:11.642Z"
   },
   {
    "duration": 2415,
    "start_time": "2021-12-17T11:22:36.158Z"
   },
   {
    "duration": 3473,
    "start_time": "2021-12-17T11:22:46.963Z"
   },
   {
    "duration": 1597,
    "start_time": "2021-12-17T11:22:50.439Z"
   },
   {
    "duration": 527,
    "start_time": "2021-12-17T11:22:52.039Z"
   },
   {
    "duration": 37,
    "start_time": "2021-12-17T11:22:52.569Z"
   },
   {
    "duration": 289,
    "start_time": "2021-12-17T11:22:52.609Z"
   },
   {
    "duration": 34,
    "start_time": "2021-12-17T11:22:52.901Z"
   },
   {
    "duration": 700,
    "start_time": "2021-12-17T11:22:52.938Z"
   },
   {
    "duration": 772,
    "start_time": "2021-12-17T11:22:53.641Z"
   },
   {
    "duration": 778,
    "start_time": "2021-12-17T11:22:54.417Z"
   },
   {
    "duration": 697,
    "start_time": "2021-12-17T11:22:55.200Z"
   },
   {
    "duration": 51,
    "start_time": "2021-12-17T11:22:55.900Z"
   },
   {
    "duration": 46,
    "start_time": "2021-12-17T11:22:55.953Z"
   },
   {
    "duration": 43,
    "start_time": "2021-12-17T11:22:56.001Z"
   },
   {
    "duration": 83,
    "start_time": "2021-12-17T11:22:56.046Z"
   },
   {
    "duration": 881,
    "start_time": "2021-12-17T11:22:56.132Z"
   },
   {
    "duration": 625,
    "start_time": "2021-12-17T11:22:57.016Z"
   },
   {
    "duration": 748,
    "start_time": "2021-12-17T11:22:57.643Z"
   },
   {
    "duration": 89,
    "start_time": "2021-12-17T11:22:58.394Z"
   },
   {
    "duration": 6,
    "start_time": "2021-12-17T11:22:58.485Z"
   },
   {
    "duration": 500,
    "start_time": "2021-12-17T11:22:58.494Z"
   },
   {
    "duration": 18,
    "start_time": "2021-12-17T11:22:58.996Z"
   },
   {
    "duration": 13,
    "start_time": "2021-12-17T11:22:59.016Z"
   },
   {
    "duration": 40,
    "start_time": "2021-12-17T11:22:59.031Z"
   },
   {
    "duration": 47,
    "start_time": "2021-12-17T11:22:59.074Z"
   },
   {
    "duration": 4,
    "start_time": "2021-12-17T11:22:59.123Z"
   },
   {
    "duration": 37,
    "start_time": "2021-12-17T11:22:59.130Z"
   },
   {
    "duration": 23,
    "start_time": "2021-12-17T11:22:59.173Z"
   },
   {
    "duration": 7,
    "start_time": "2021-12-17T11:22:59.198Z"
   },
   {
    "duration": 10,
    "start_time": "2021-12-17T11:22:59.207Z"
   },
   {
    "duration": 17,
    "start_time": "2021-12-17T11:22:59.219Z"
   },
   {
    "duration": 5475,
    "start_time": "2021-12-17T11:22:59.239Z"
   },
   {
    "duration": 2287,
    "start_time": "2021-12-17T11:23:04.716Z"
   },
   {
    "duration": 407,
    "start_time": "2021-12-17T11:23:07.006Z"
   },
   {
    "duration": -209,
    "start_time": "2021-12-17T11:23:07.624Z"
   },
   {
    "duration": -213,
    "start_time": "2021-12-17T11:23:07.629Z"
   },
   {
    "duration": 2522,
    "start_time": "2021-12-17T11:23:40.231Z"
   },
   {
    "duration": 8,
    "start_time": "2021-12-17T11:26:08.783Z"
   },
   {
    "duration": 9,
    "start_time": "2021-12-17T11:29:14.673Z"
   },
   {
    "duration": 10,
    "start_time": "2021-12-17T11:30:42.578Z"
   },
   {
    "duration": 6,
    "start_time": "2021-12-17T11:37:02.183Z"
   },
   {
    "duration": 6,
    "start_time": "2021-12-17T11:44:41.654Z"
   },
   {
    "duration": 9,
    "start_time": "2021-12-17T11:50:29.618Z"
   }
  ],
  "kernelspec": {
   "display_name": "Python 3 (ipykernel)",
   "language": "python",
   "name": "python3"
  },
  "language_info": {
   "codemirror_mode": {
    "name": "ipython",
    "version": 3
   },
   "file_extension": ".py",
   "mimetype": "text/x-python",
   "name": "python",
   "nbconvert_exporter": "python",
   "pygments_lexer": "ipython3",
   "version": "3.9.5"
  },
  "toc": {
   "base_numbering": 1,
   "nav_menu": {},
   "number_sections": true,
   "sideBar": true,
   "skip_h1_title": true,
   "title_cell": "Table of Contents",
   "title_sidebar": "Contents",
   "toc_cell": false,
   "toc_position": {},
   "toc_section_display": true,
   "toc_window_display": false
  }
 },
 "nbformat": 4,
 "nbformat_minor": 2
}
